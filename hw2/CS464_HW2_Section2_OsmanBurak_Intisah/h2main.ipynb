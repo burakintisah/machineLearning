{
  "nbformat": 4,
  "nbformat_minor": 0,
  "metadata": {
    "colab": {
      "name": "ML- homework2 - OsmanBurakIntisah.ipynb",
      "provenance": [],
      "collapsed_sections": [
        "mYngp4YoSowB",
        "Ys3wV7Ky4ijD",
        "CcsYGFtOdaVd",
        "7CfRaaWx4-u3",
        "CCf4xuU0AUH8",
        "tpYPbdvtArHj",
        "nGiajmjdE-rN",
        "uIm2NPUtC3dU",
        "lFR0AFM2FFn3",
        "oLB1HFqqIjh0",
        "KYbH2OoNchUW",
        "0zH4YIhKdIIB",
        "SxKKZUTnoxNC",
        "06HUbXkwusHO",
        "NLpRAt_uo32_",
        "eCnS3SMwvETV",
        "e3y3kB8TIdkW",
        "YhwcnvP5WspY",
        "yrWTklEUFs_W",
        "DRgixswE6cYq"
      ]
    },
    "kernelspec": {
      "name": "python3",
      "display_name": "Python 3"
    }
  },
  "cells": [
    {
      "cell_type": "markdown",
      "metadata": {
        "id": "dtVR7l9Z4oj7",
        "colab_type": "text"
      },
      "source": [
        "# **SVM & Logistic Regression & PCA**"
      ]
    },
    {
      "cell_type": "code",
      "metadata": {
        "id": "woJLtuiAgZp0",
        "colab_type": "code",
        "colab": {}
      },
      "source": [
        "import os\n",
        "import csv\n",
        "import copy \n",
        "import math\n",
        "import random\n",
        "import time\n",
        "import operator\n",
        "from scipy.io import loadmat #for reading .mat files\n",
        "import numpy as np\n",
        "import pandas as pd\n",
        "from mpl_toolkits import mplot3d\n",
        "from mpl_toolkits.mplot3d import Axes3D\n",
        "from collections import defaultdict\n",
        "from google.colab import drive\n",
        "\n",
        "import matplotlib.pyplot as plt\n",
        "import matplotlib.image as mpimg"
      ],
      "execution_count": 0,
      "outputs": []
    },
    {
      "cell_type": "code",
      "metadata": {
        "id": "-BZ8wvoYtJ4p",
        "colab_type": "code",
        "outputId": "2e314575-a19d-4aa4-f612-2e33da32509b",
        "colab": {
          "base_uri": "https://localhost:8080/",
          "height": 122
        }
      },
      "source": [
        "drive.mount('/content/gdrive',force_remount=True)\n",
        "root = '/content/gdrive/My Drive/Colab Notebooks/Homework2' "
      ],
      "execution_count": 2,
      "outputs": [
        {
          "output_type": "stream",
          "text": [
            "Go to this URL in a browser: https://accounts.google.com/o/oauth2/auth?client_id=947318989803-6bn6qk8qdgf4n4g3pfee6491hc0brc4i.apps.googleusercontent.com&redirect_uri=urn%3aietf%3awg%3aoauth%3a2.0%3aoob&response_type=code&scope=email%20https%3a%2f%2fwww.googleapis.com%2fauth%2fdocs.test%20https%3a%2f%2fwww.googleapis.com%2fauth%2fdrive%20https%3a%2f%2fwww.googleapis.com%2fauth%2fdrive.photos.readonly%20https%3a%2f%2fwww.googleapis.com%2fauth%2fpeopleapi.readonly\n",
            "\n",
            "Enter your authorization code:\n",
            "··········\n",
            "Mounted at /content/gdrive\n"
          ],
          "name": "stdout"
        }
      ]
    },
    {
      "cell_type": "markdown",
      "metadata": {
        "id": "YS4jImz9xfSJ",
        "colab_type": "text"
      },
      "source": [
        "# Reading data both q1 and q2 "
      ]
    },
    {
      "cell_type": "code",
      "metadata": {
        "id": "yyXiR_Qxtaxv",
        "colab_type": "code",
        "colab": {}
      },
      "source": [
        "q1 = os.path.join(root, 'q1_dataset.mat')\n",
        "q2 = os.path.join(root, 'q2_dataset.mat')\n",
        "\n",
        "q1_dataset = loadmat(q1)\n",
        "q2_dataset = loadmat(q2)"
      ],
      "execution_count": 0,
      "outputs": []
    },
    {
      "cell_type": "markdown",
      "metadata": {
        "id": "DMkTSUZPxl3t",
        "colab_type": "text"
      },
      "source": [
        " **Extracting the variables as we need them**"
      ]
    },
    {
      "cell_type": "code",
      "metadata": {
        "id": "Td6YWRm1xJDt",
        "colab_type": "code",
        "colab": {}
      },
      "source": [
        "inception_features_train = q1_dataset['inception_features_train']\n",
        "inception_features_test = q1_dataset['inception_features_test']\n",
        "hog_features_train = q1_dataset['hog_features_train']\n",
        "hog_features_test = q1_dataset['hog_features_test']\n",
        "superclass_labels_train = q1_dataset['superclass_labels_train']\n",
        "superclass_labels_test = q1_dataset['superclass_labels_test']\n",
        "subclass_labels_train = q1_dataset['subclass_labels_train']\n",
        "subclass_labels_test = q1_dataset['subclass_labels_test']\n",
        "\n",
        "# The shape of the variables match with shapes given in homework description \n",
        "# All of them are numpy.ndarray"
      ],
      "execution_count": 0,
      "outputs": []
    },
    {
      "cell_type": "markdown",
      "metadata": {
        "id": "6Y6wJXm45k_6",
        "colab_type": "text"
      },
      "source": [
        "# Question 1 \n",
        "**Logistic Regression Class**"
      ]
    },
    {
      "cell_type": "code",
      "metadata": {
        "id": "uiIoGvXwxK6t",
        "colab_type": "code",
        "colab": {}
      },
      "source": [
        "class LogisticRegression:\n",
        "  def __init__ (self, learning_rate=0.01,num_iter=1000, batch_size=25):\n",
        "    self.learning_rate = learning_rate\n",
        "    self.num_iter = num_iter\n",
        "    self.batch_size = batch_size\n",
        "    self.lambd = 0.2\n",
        "\n",
        "  # function to create a list containing mini-batches \n",
        "  def create_mini_batches(self, X, y, batch_size):\n",
        "    mini_batches = [] \n",
        "    data = np.hstack((X, y)) \n",
        "    np.random.shuffle(data) \n",
        "    n_minibatches = data.shape[0] // batch_size \n",
        "    i = 0\n",
        "    for i in range(n_minibatches): \n",
        "        mini_batch = data[i * batch_size:(i + 1)*batch_size, :] \n",
        "        X_mini = mini_batch[:, :-1]\n",
        "        Y_mini = mini_batch[:, -1].reshape((-1, 1))\n",
        "        mini_batches.append((X_mini, Y_mini))\n",
        "    \n",
        "    return mini_batches\n",
        "\n",
        "  # Logistic regression expression \n",
        "  def sigmoid(self, z):\n",
        "    return 1 / (1 + np.exp(-z))\n",
        "\n",
        "  # for classifying all of the test set\n",
        "  def test_classify (self, test_classify, treshold, weights): \n",
        "    prob = self.sigmoid(np.dot(test_classify, weights))\n",
        "    prob [prob >= treshold] = int(1)\n",
        "    prob [prob < treshold ] = int(0)\n",
        "    return prob.flatten()\n",
        "\n",
        "  \n",
        "  def log_likelihood(self, x, y, weights):\n",
        "    scores = np.dot(x, weights)\n",
        "    ll = np.sum( np.dot(y.T,scores ) - np.log(1 + np.exp(scores)) )\n",
        "    return ll\n",
        "\n",
        "  \n",
        "  def gradient_ascent (self, x , y):\n",
        "    # Initializing all weights to random numbers drawn from a Gaussian distribution N(0, 0.01)\n",
        "    mean, sigma = 0, 0.01 # mean and standard deviation\n",
        "    weights = np.random.uniform(mean, sigma, size=(x.shape[1],1))\n",
        "    \n",
        "    for i in range (self.num_iter):\n",
        "\n",
        "      # first we need to find the mini batches \n",
        "      mini_batches = self.create_mini_batches(x, y, self.batch_size)\n",
        "\n",
        "      for mini_batch in mini_batches:\n",
        "\n",
        "        x_mini, y_mini = mini_batch\n",
        "        h  = self.sigmoid ( np.dot(x_mini, weights) )\n",
        "        # Updating \n",
        "        out = y_mini - h\n",
        "        gradient = np.dot(x_mini.T, out)\n",
        "        weights = weights + self.learning_rate * gradient\n",
        "        \n",
        "      if i % 100 == 0:         \n",
        "        log_like = self.log_likelihood(x,y,weights)\n",
        "        print('Accuracy (Maximum Likelihood Estimation): {} in iteration {} of {}'.format(log_like, i, self.num_iter))\n",
        "\n",
        "    return weights\n",
        "\n",
        "\n",
        "  def stochastic_gradient_ascent(self, x ,y):\n",
        "    # Initializing all weights to random numbers drawn from a Gaussian distribution N(0, 0.01)\n",
        "    mean, sigma = 0, 0.01 # mean and standard deviation\n",
        "    weights = np.random.uniform(mean, sigma, size=(x.shape[1],1))\n",
        "    \n",
        "    for i in range (self.num_iter):\n",
        "\n",
        "      # first we need to find the mini batches \n",
        "      mini_batches = self.create_mini_batches(x, y, self.batch_size)\n",
        "\n",
        "      for mini_batch in mini_batches:\n",
        "\n",
        "        x_mini, y_mini = mini_batch\n",
        "\n",
        "        h  = self.sigmoid ( np.dot(x_mini, weights) )\n",
        "\n",
        "        # Updating \n",
        "        out = y_mini - h\n",
        "        gradient = np.dot(x_mini.T, out)\n",
        "        weights = weights + self.learning_rate * gradient\n",
        "        \n",
        "      if i % 100 == 0:         \n",
        "        log_like = self.log_likelihood(x,y,weights)\n",
        "        print('Accuracy (Maximum Likelihood Estimation): {} in iteration {} of {}'.format(log_like, i, self.num_iter))\n",
        "\n",
        "    return weights\n",
        "\n",
        "  def full_batch_gradient_ascent(self, x ,y):\n",
        "    # Initializing all weights to random numbers drawn from a Gaussian distribution N(0, 0.01)\n",
        "    mean, sigma = 0, 0.01 # mean and standard deviation\n",
        "    weights = np.random.uniform(mean, sigma, size=(x.shape[1],1))\n",
        "\n",
        "    for i in range (self.num_iter):\n",
        "      h  = self.sigmoid ( np.dot(x, weights) )\n",
        "\n",
        "      # Updating \n",
        "      out = y - h\n",
        "      gradient = np.dot(x.T, out)\n",
        "      weights = weights + self.learning_rate * gradient\n",
        "        \n",
        "      if i % 100 == 0:         \n",
        "        log_like = self.log_likelihood(x,y,weights)\n",
        "        # If you want to print all weights for each 100 iteration you need to comment out below code\n",
        "        # print(\"Weights .. in iteration {} of {} \\n {}\".format(i, self.num_iter, weights.reshape(324,1)))\n",
        "        print('Accuracy (Maximum Likelihood Estimation): {} in iteration {} of {}'.format(log_like, i, self.num_iter))\n",
        "\n",
        "    return weights\n",
        "\n",
        "\n",
        "  # For finding the results that are asked !! False positive- true positive etc...  \n",
        "  def report_result(self, predictions, label):\n",
        "    predictions = predictions.reshape(-1,1)\n",
        "    label = label\n",
        "    tp = 0\n",
        "    fp = 0\n",
        "    tn = 0\n",
        "    fn = 0\n",
        "    for i in range(len(predictions)): \n",
        "        if label[i]==predictions[i]==1:\n",
        "           tp += 1\n",
        "        if predictions[i]==1 and label[i]!=predictions[i]:\n",
        "           fp += 1\n",
        "        if label[i]==predictions[i]==0:\n",
        "           tn += 1\n",
        "        if predictions[i]==0 and label[i]!=predictions[i]:\n",
        "           fn += 1\n",
        "\n",
        "    accuracy = (tp + tn) / (fp + fn + tp + tn)\n",
        "    precision = tp / (tp + fp)\n",
        "    recall = tp / (tp + fn)\n",
        "    npv = tn / ( tn + fn ) \n",
        "    fpr = fp / ( fp + tn )\n",
        "    fdr = fp / ( fp + tp )\n",
        "    f1_score = 2 * (recall * precision) / (recall + precision)\n",
        "    f2_score = (5 * precision * recall) / (4 * precision * recall)\n",
        "    conf_mat = [[tp , fp],[fn, tn]]\n",
        "    # print (\"Total num : \" + str (tp+tn+fn+fp))\n",
        "    print(\"Accuracy : {}\".format(accuracy))\n",
        "    print(\"Precision : {}\".format(precision))\n",
        "    print(\"Recall : {}\".format(recall))\n",
        "    print(\"NPV : {}\".format(npv))\n",
        "    print(\"FPR : {}\".format(fpr))\n",
        "    print(\"FDR : {}\".format(fdr))\n",
        "    print(\"F1 Score : {}\".format(f1_score))\n",
        "    print(\"F2 Score: {}\".format(f2_score))\n",
        "    print(\"Confusion Matrix: {}\".format(conf_mat))\n",
        "    return accuracy\n"
      ],
      "execution_count": 0,
      "outputs": []
    },
    {
      "cell_type": "markdown",
      "metadata": {
        "id": "mYngp4YoSowB",
        "colab_type": "text"
      },
      "source": [
        "# 1.1 Mini-batch gradient ascent algorithm with batch size = 25\n"
      ]
    },
    {
      "cell_type": "code",
      "metadata": {
        "id": "0lEYal051Msg",
        "colab_type": "code",
        "outputId": "be488342-31c7-447a-e57a-8048059e08a7",
        "colab": {
          "base_uri": "https://localhost:8080/",
          "height": 1000
        }
      },
      "source": [
        "learning_rates = [ 1e-6, 1e-5, 1e-3, 1e-1, 1]\n",
        "best_list = []\n",
        "\n",
        "for i in learning_rates:\n",
        "  print(\"When learning rate is {} .. \".format(i))\n",
        "  model = LogisticRegression (learning_rate=i,num_iter=1000, batch_size=25) \n",
        "\n",
        "  # weights will be found according to learning rate and \n",
        "  %time result = model.gradient_ascent ( np.mat(hog_features_train), np.mat(superclass_labels_train) )\n",
        "  \n",
        "  # doing predictions according to the weights found\n",
        "  predictions = model.test_classify(hog_features_test, 0.5 , result)\n",
        "  \n",
        "  # finding results \n",
        "  accuracy = model.report_result(predictions, superclass_labels_test)\n",
        "  best_list.append(accuracy)\n",
        "  print()\n",
        "\n",
        "max_ind = best_list.index(max(best_list))\n",
        "best_lr_mini_hog = learning_rates[max_ind]\n",
        "print(\"Best learning rate for mini batch trained with hog: {} \".format(best_lr_mini_hog))\n"
      ],
      "execution_count": 0,
      "outputs": [
        {
          "output_type": "stream",
          "text": [
            "When learning rate is 1e-06 .. \n",
            "Accuracy (Maximum Likelihood Estimation): 273427.0914863455 in iteration 0 of 1000\n",
            "Accuracy (Maximum Likelihood Estimation): 241616.11234644032 in iteration 100 of 1000\n",
            "Accuracy (Maximum Likelihood Estimation): 213576.6583103611 in iteration 200 of 1000\n",
            "Accuracy (Maximum Likelihood Estimation): 188889.8480584163 in iteration 300 of 1000\n",
            "Accuracy (Maximum Likelihood Estimation): 167181.97689637277 in iteration 400 of 1000\n",
            "Accuracy (Maximum Likelihood Estimation): 148120.90429081715 in iteration 500 of 1000\n",
            "Accuracy (Maximum Likelihood Estimation): 131409.78276675165 in iteration 600 of 1000\n",
            "Accuracy (Maximum Likelihood Estimation): 116787.05064088313 in iteration 700 of 1000\n",
            "Accuracy (Maximum Likelihood Estimation): 104018.39035671382 in iteration 800 of 1000\n",
            "Accuracy (Maximum Likelihood Estimation): 92894.42260649017 in iteration 900 of 1000\n",
            "CPU times: user 39.3 s, sys: 1.06 s, total: 40.4 s\n",
            "Wall time: 39.2 s\n",
            "Accuracy : 0.56\n",
            "Precision : 0.5335195530726257\n",
            "Recall : 0.955\n",
            "NPV : 0.7857142857142857\n",
            "FPR : 0.835\n",
            "FDR : 0.4664804469273743\n",
            "F1 Score : 0.6845878136200716\n",
            "F2 Score: 1.25\n",
            "Confusion Matrix: [[191, 167], [9, 33]]\n",
            "\n",
            "When learning rate is 1e-05 .. \n",
            "Accuracy (Maximum Likelihood Estimation): 253895.43043691805 in iteration 0 of 1000\n",
            "Accuracy (Maximum Likelihood Estimation): 77236.64964256226 in iteration 100 of 1000\n",
            "Accuracy (Maximum Likelihood Estimation): 36654.998573309116 in iteration 200 of 1000\n",
            "Accuracy (Maximum Likelihood Estimation): 37133.33058348781 in iteration 300 of 1000\n",
            "Accuracy (Maximum Likelihood Estimation): 49708.98760131514 in iteration 400 of 1000\n",
            "Accuracy (Maximum Likelihood Estimation): 65616.11477617192 in iteration 500 of 1000\n",
            "Accuracy (Maximum Likelihood Estimation): 82335.91746006702 in iteration 600 of 1000\n",
            "Accuracy (Maximum Likelihood Estimation): 98834.23141349616 in iteration 700 of 1000\n",
            "Accuracy (Maximum Likelihood Estimation): 114940.39826750671 in iteration 800 of 1000\n",
            "Accuracy (Maximum Likelihood Estimation): 130645.4159676981 in iteration 900 of 1000\n",
            "CPU times: user 39.3 s, sys: 1.08 s, total: 40.3 s\n",
            "Wall time: 39.1 s\n",
            "Accuracy : 0.66\n",
            "Precision : 0.686046511627907\n",
            "Recall : 0.59\n",
            "NPV : 0.6403508771929824\n",
            "FPR : 0.27\n",
            "FDR : 0.313953488372093\n",
            "F1 Score : 0.6344086021505376\n",
            "F2 Score: 1.25\n",
            "Confusion Matrix: [[118, 54], [82, 146]]\n",
            "\n",
            "When learning rate is 0.001 .. \n",
            "Accuracy (Maximum Likelihood Estimation): 57907.67499274138 in iteration 0 of 1000\n",
            "Accuracy (Maximum Likelihood Estimation): 757830.5520375451 in iteration 100 of 1000\n",
            "Accuracy (Maximum Likelihood Estimation): 927414.9814976302 in iteration 200 of 1000\n",
            "Accuracy (Maximum Likelihood Estimation): 1085198.846278193 in iteration 300 of 1000\n",
            "Accuracy (Maximum Likelihood Estimation): 1115571.337183639 in iteration 400 of 1000\n",
            "Accuracy (Maximum Likelihood Estimation): 1159578.096572455 in iteration 500 of 1000\n",
            "Accuracy (Maximum Likelihood Estimation): 1164890.8555190945 in iteration 600 of 1000\n",
            "Accuracy (Maximum Likelihood Estimation): 1258927.224842309 in iteration 700 of 1000\n",
            "Accuracy (Maximum Likelihood Estimation): 1243241.6193912742 in iteration 800 of 1000\n",
            "Accuracy (Maximum Likelihood Estimation): 1297701.5910047267 in iteration 900 of 1000\n",
            "CPU times: user 39.3 s, sys: 1.1 s, total: 40.5 s\n",
            "Wall time: 39.2 s\n",
            "Accuracy : 0.6575\n",
            "Precision : 0.6632124352331606\n",
            "Recall : 0.64\n",
            "NPV : 0.6521739130434783\n",
            "FPR : 0.325\n",
            "FDR : 0.33678756476683935\n",
            "F1 Score : 0.6513994910941475\n",
            "F2 Score: 1.2500000000000002\n",
            "Confusion Matrix: [[128, 65], [72, 135]]\n",
            "\n",
            "When learning rate is 0.1 .. \n",
            "Accuracy (Maximum Likelihood Estimation): 1401057.6369007677 in iteration 0 of 1000\n",
            "Accuracy (Maximum Likelihood Estimation): 2244323.586615302 in iteration 100 of 1000\n",
            "Accuracy (Maximum Likelihood Estimation): 2970716.8728012806 in iteration 200 of 1000\n",
            "Accuracy (Maximum Likelihood Estimation): 1891177.5347727244 in iteration 300 of 1000\n",
            "Accuracy (Maximum Likelihood Estimation): 1282038.4182439086 in iteration 400 of 1000\n",
            "Accuracy (Maximum Likelihood Estimation): 2189999.7178025832 in iteration 500 of 1000\n",
            "Accuracy (Maximum Likelihood Estimation): 2646877.5802578293 in iteration 600 of 1000\n",
            "Accuracy (Maximum Likelihood Estimation): 2145099.8184958575 in iteration 700 of 1000\n",
            "Accuracy (Maximum Likelihood Estimation): 2063770.9940359243 in iteration 800 of 1000\n",
            "Accuracy (Maximum Likelihood Estimation): 1682015.8526816778 in iteration 900 of 1000\n",
            "CPU times: user 38.9 s, sys: 1.06 s, total: 39.9 s\n",
            "Wall time: 38.7 s\n",
            "Accuracy : 0.625\n",
            "Precision : 0.6488095238095238\n",
            "Recall : 0.545\n",
            "NPV : 0.6077586206896551\n",
            "FPR : 0.295\n",
            "FDR : 0.35119047619047616\n",
            "F1 Score : 0.5923913043478262\n",
            "F2 Score: 1.25\n",
            "Confusion Matrix: [[109, 59], [91, 141]]\n",
            "\n",
            "When learning rate is 1 .. \n",
            "Accuracy (Maximum Likelihood Estimation): -18883332.447932523 in iteration 0 of 1000\n",
            "Accuracy (Maximum Likelihood Estimation): -2224413.0942832655 in iteration 100 of 1000\n",
            "Accuracy (Maximum Likelihood Estimation): 22679439.589918904 in iteration 200 of 1000\n",
            "Accuracy (Maximum Likelihood Estimation): 36338354.09997274 in iteration 300 of 1000\n",
            "Accuracy (Maximum Likelihood Estimation): 19436708.565105613 in iteration 400 of 1000\n",
            "Accuracy (Maximum Likelihood Estimation): 19204472.53760251 in iteration 500 of 1000\n",
            "Accuracy (Maximum Likelihood Estimation): 14580753.806141058 in iteration 600 of 1000\n",
            "Accuracy (Maximum Likelihood Estimation): 17787618.801430613 in iteration 700 of 1000\n",
            "Accuracy (Maximum Likelihood Estimation): -21618286.28105358 in iteration 800 of 1000\n",
            "Accuracy (Maximum Likelihood Estimation): 28771116.368181854 in iteration 900 of 1000\n",
            "CPU times: user 38.1 s, sys: 1.08 s, total: 39.2 s\n",
            "Wall time: 37.9 s\n",
            "Accuracy : 0.595\n",
            "Precision : 0.5562130177514792\n",
            "Recall : 0.94\n",
            "NPV : 0.8064516129032258\n",
            "FPR : 0.75\n",
            "FDR : 0.4437869822485207\n",
            "F1 Score : 0.6988847583643122\n",
            "F2 Score: 1.25\n",
            "Confusion Matrix: [[188, 150], [12, 50]]\n",
            "\n",
            "Best learning rate for mini batch trained with hog: 1e-05 \n"
          ],
          "name": "stdout"
        }
      ]
    },
    {
      "cell_type": "markdown",
      "metadata": {
        "id": "Ys3wV7Ky4ijD",
        "colab_type": "text"
      },
      "source": [
        "# Doing everything for the neural network generated features"
      ]
    },
    {
      "cell_type": "code",
      "metadata": {
        "id": "rDpnL3-r4q4q",
        "colab_type": "code",
        "outputId": "61d83f72-03c1-49d8-d712-5d6fe18cd209",
        "colab": {
          "base_uri": "https://localhost:8080/"
        }
      },
      "source": [
        "learning_rates = [ 1e-6, 1e-5, 1e-3, 1e-1, 1]\n",
        "best_list = []\n",
        "\n",
        "for i in learning_rates:\n",
        "  print(\"When learning rate is {} .. \".format(i))\n",
        "  model = LogisticRegression (learning_rate=i,num_iter=1000, batch_size=25) \n",
        "\n",
        "  # weights will be found according to learning rate and \n",
        "  %time result = model.gradient_ascent ( np.mat(inception_features_train), np.mat(superclass_labels_train) )\n",
        "  \n",
        "  # doing predictions according to the weights found\n",
        "  predictions = model.test_classify(inception_features_test, 0.5 , result)\n",
        "\n",
        "  # finding results \n",
        "  accuracy = model.report_result(predictions, superclass_labels_test)\n",
        "  best_list.append(accuracy)\n",
        "  print()\n",
        "\n",
        "max_ind = best_list.index(max(best_list))\n",
        "best_lr_mini_inc = learning_rates[max_ind]\n",
        "print(\"Best learning rate for mini batch trained with neural network: {} \".format(best_lr_mini_inc))"
      ],
      "execution_count": 0,
      "outputs": [
        {
          "output_type": "stream",
          "text": [
            "When learning rate is 1e-06 .. \n",
            "Accuracy (Maximum Likelihood Estimation): 6367179.533902537 in iteration 0 of 1000\n",
            "Accuracy (Maximum Likelihood Estimation): 898307.4802237547 in iteration 100 of 1000\n",
            "Accuracy (Maximum Likelihood Estimation): 1423452.8230743473 in iteration 200 of 1000\n",
            "Accuracy (Maximum Likelihood Estimation): 1812742.8329761869 in iteration 300 of 1000\n",
            "Accuracy (Maximum Likelihood Estimation): 2114842.7224720744 in iteration 400 of 1000\n",
            "Accuracy (Maximum Likelihood Estimation): 2360886.824007906 in iteration 500 of 1000\n",
            "Accuracy (Maximum Likelihood Estimation): 2568668.84492831 in iteration 600 of 1000\n",
            "Accuracy (Maximum Likelihood Estimation): 2744887.0127428803 in iteration 700 of 1000\n",
            "Accuracy (Maximum Likelihood Estimation): 2899412.4204894677 in iteration 800 of 1000\n",
            "Accuracy (Maximum Likelihood Estimation): 3034781.4175105295 in iteration 900 of 1000\n",
            "CPU times: user 3min 14s, sys: 2min 14s, total: 5min 29s\n",
            "Wall time: 2min 51s\n",
            "Accuracy : 0.8775\n",
            "Precision : 0.8544600938967136\n",
            "Recall : 0.91\n",
            "NPV : 0.9037433155080213\n",
            "FPR : 0.155\n",
            "FDR : 0.14553990610328638\n",
            "F1 Score : 0.8813559322033899\n",
            "F2 Score: 1.25\n",
            "Confusion Matrix: [[182, 31], [18, 169]]\n",
            "\n",
            "When learning rate is 1e-05 .. \n",
            "Accuracy (Maximum Likelihood Estimation): 2358992.4043988558 in iteration 0 of 1000\n",
            "Accuracy (Maximum Likelihood Estimation): 3168450.0823198487 in iteration 100 of 1000\n",
            "Accuracy (Maximum Likelihood Estimation): 3968659.0568751926 in iteration 200 of 1000\n",
            "Accuracy (Maximum Likelihood Estimation): 4403763.922036135 in iteration 300 of 1000\n",
            "Accuracy (Maximum Likelihood Estimation): 4711696.490598023 in iteration 400 of 1000\n",
            "Accuracy (Maximum Likelihood Estimation): 4967985.375877912 in iteration 500 of 1000\n",
            "Accuracy (Maximum Likelihood Estimation): 5173976.084112648 in iteration 600 of 1000\n",
            "Accuracy (Maximum Likelihood Estimation): 5347960.063478362 in iteration 700 of 1000\n",
            "Accuracy (Maximum Likelihood Estimation): 5469786.728739513 in iteration 800 of 1000\n",
            "Accuracy (Maximum Likelihood Estimation): 5594558.168350322 in iteration 900 of 1000\n",
            "CPU times: user 3min 20s, sys: 2min 16s, total: 5min 37s\n",
            "Wall time: 2min 55s\n",
            "Accuracy : 0.875\n",
            "Precision : 0.8537735849056604\n",
            "Recall : 0.905\n",
            "NPV : 0.898936170212766\n",
            "FPR : 0.155\n",
            "FDR : 0.14622641509433962\n",
            "F1 Score : 0.8786407766990291\n",
            "F2 Score: 1.2500000000000002\n",
            "Confusion Matrix: [[181, 31], [19, 169]]\n",
            "\n",
            "When learning rate is 0.001 .. \n",
            "Accuracy (Maximum Likelihood Estimation): 4982318.4069561865 in iteration 0 of 1000\n",
            "Accuracy (Maximum Likelihood Estimation): 8753154.024887327 in iteration 100 of 1000\n",
            "Accuracy (Maximum Likelihood Estimation): 11047917.984926952 in iteration 200 of 1000\n",
            "Accuracy (Maximum Likelihood Estimation): 12255864.376711842 in iteration 300 of 1000\n",
            "Accuracy (Maximum Likelihood Estimation): 13334277.6582236 in iteration 400 of 1000\n",
            "Accuracy (Maximum Likelihood Estimation): 14545424.503395898 in iteration 500 of 1000\n",
            "Accuracy (Maximum Likelihood Estimation): 15051523.454061855 in iteration 600 of 1000\n",
            "Accuracy (Maximum Likelihood Estimation): 15672644.04520712 in iteration 700 of 1000\n",
            "Accuracy (Maximum Likelihood Estimation): 16516003.04405091 in iteration 800 of 1000\n",
            "Accuracy (Maximum Likelihood Estimation): 16947396.545154046 in iteration 900 of 1000\n",
            "CPU times: user 3min 30s, sys: 2min 19s, total: 5min 49s\n",
            "Wall time: 3min 4s\n",
            "Accuracy : 0.8775\n",
            "Precision : 0.8682926829268293\n",
            "Recall : 0.89\n",
            "NPV : 0.8871794871794871\n",
            "FPR : 0.135\n",
            "FDR : 0.13170731707317074\n",
            "F1 Score : 0.8790123456790123\n",
            "F2 Score: 1.25\n",
            "Confusion Matrix: [[178, 27], [22, 173]]\n",
            "\n",
            "When learning rate is 0.1 .. \n",
            "Accuracy (Maximum Likelihood Estimation): -31258623.64295956 in iteration 0 of 1000\n",
            "Accuracy (Maximum Likelihood Estimation): 262636176.3765657 in iteration 100 of 1000\n",
            "Accuracy (Maximum Likelihood Estimation): 262993279.65026027 in iteration 200 of 1000\n",
            "Accuracy (Maximum Likelihood Estimation): 263118341.3669064 in iteration 300 of 1000\n",
            "Accuracy (Maximum Likelihood Estimation): 263152676.16381496 in iteration 400 of 1000\n",
            "Accuracy (Maximum Likelihood Estimation): 263153012.35600406 in iteration 500 of 1000\n",
            "Accuracy (Maximum Likelihood Estimation): 263140056.81713837 in iteration 600 of 1000\n",
            "Accuracy (Maximum Likelihood Estimation): 263121535.46497712 in iteration 700 of 1000\n",
            "Accuracy (Maximum Likelihood Estimation): 263090773.7581632 in iteration 800 of 1000\n",
            "Accuracy (Maximum Likelihood Estimation): 263060942.31156147 in iteration 900 of 1000\n",
            "CPU times: user 3min 34s, sys: 2min 19s, total: 5min 53s\n",
            "Wall time: 3min 9s\n",
            "Accuracy : 0.88\n",
            "Precision : 0.8762376237623762\n",
            "Recall : 0.885\n",
            "NPV : 0.8838383838383839\n",
            "FPR : 0.125\n",
            "FDR : 0.12376237623762376\n",
            "F1 Score : 0.880597014925373\n",
            "F2 Score: 1.25\n",
            "Confusion Matrix: [[177, 25], [23, 175]]\n",
            "\n",
            "When learning rate is 1 .. \n"
          ],
          "name": "stdout"
        },
        {
          "output_type": "stream",
          "text": [
            "/usr/local/lib/python3.6/dist-packages/ipykernel_launcher.py:25: RuntimeWarning: overflow encountered in exp\n",
            "/usr/local/lib/python3.6/dist-packages/ipykernel_launcher.py:37: RuntimeWarning: overflow encountered in exp\n"
          ],
          "name": "stderr"
        },
        {
          "output_type": "stream",
          "text": [
            "Accuracy (Maximum Likelihood Estimation): -inf in iteration 0 of 1000\n",
            "Accuracy (Maximum Likelihood Estimation): -inf in iteration 100 of 1000\n",
            "Accuracy (Maximum Likelihood Estimation): -inf in iteration 200 of 1000\n",
            "Accuracy (Maximum Likelihood Estimation): -inf in iteration 300 of 1000\n",
            "Accuracy (Maximum Likelihood Estimation): -inf in iteration 400 of 1000\n",
            "Accuracy (Maximum Likelihood Estimation): -inf in iteration 500 of 1000\n",
            "Accuracy (Maximum Likelihood Estimation): -inf in iteration 600 of 1000\n",
            "Accuracy (Maximum Likelihood Estimation): -inf in iteration 700 of 1000\n",
            "Accuracy (Maximum Likelihood Estimation): -inf in iteration 800 of 1000\n",
            "Accuracy (Maximum Likelihood Estimation): -inf in iteration 900 of 1000\n",
            "CPU times: user 3min 34s, sys: 2min 20s, total: 5min 55s\n",
            "Wall time: 3min 8s\n",
            "Accuracy : 0.875\n",
            "Precision : 0.8676470588235294\n",
            "Recall : 0.885\n",
            "NPV : 0.8826530612244898\n",
            "FPR : 0.135\n",
            "FDR : 0.1323529411764706\n",
            "F1 Score : 0.8762376237623763\n",
            "F2 Score: 1.2499999999999998\n",
            "Confusion Matrix: [[177, 27], [23, 173]]\n",
            "\n",
            "Best learning rate for mini batch trained with neural network: 0.1 \n"
          ],
          "name": "stdout"
        }
      ]
    },
    {
      "cell_type": "markdown",
      "metadata": {
        "id": "CcsYGFtOdaVd",
        "colab_type": "text"
      },
      "source": [
        "# 1.1 Stochastic gradient ascent"
      ]
    },
    {
      "cell_type": "code",
      "metadata": {
        "id": "GXmI6v-51LZM",
        "colab_type": "code",
        "outputId": "b73e4666-509e-4f4b-97aa-4eb932d89332",
        "colab": {
          "base_uri": "https://localhost:8080/"
        }
      },
      "source": [
        "learning_rates = [ 1e-6, 1e-5, 1e-3, 1e-1, 1]\n",
        "best_list = []\n",
        "\n",
        "for i in learning_rates:\n",
        "  print(\"When learning rate is {} .. \".format(i))\n",
        "  model = LogisticRegression (learning_rate=i,num_iter=1000, batch_size=25) \n",
        "\n",
        "  # weights will be found according to learning rate and \n",
        "  %time result = model.stochastic_gradient_ascent ( np.mat(hog_features_train), np.mat(superclass_labels_train) )\n",
        "  \n",
        "  # doing predictions according to the weights found\n",
        "  predictions = model.test_classify(hog_features_test, 0.5 , result)\n",
        "  \n",
        "  # finding results \n",
        "  accuracy = model.report_result(predictions, superclass_labels_test)\n",
        "  best_list.append(accuracy)\n",
        "  print()\n",
        "\n",
        "max_ind = best_list.index(max(best_list))\n",
        "best_lr_sch_hog = learning_rates[max_ind]\n",
        "print(\"Best learning rate for stochastic trained with hog: {} \".format(best_lr_sch_hog))\n"
      ],
      "execution_count": 0,
      "outputs": [
        {
          "output_type": "stream",
          "text": [
            "When learning rate is 1e-06 .. \n",
            "Accuracy (Maximum Likelihood Estimation): 260955.64194283803 in iteration 0 of 1000\n",
            "Accuracy (Maximum Likelihood Estimation): 230487.89854520606 in iteration 100 of 1000\n",
            "Accuracy (Maximum Likelihood Estimation): 203643.47246131324 in iteration 200 of 1000\n",
            "Accuracy (Maximum Likelihood Estimation): 180018.69335232163 in iteration 300 of 1000\n",
            "Accuracy (Maximum Likelihood Estimation): 159255.27377584117 in iteration 400 of 1000\n",
            "Accuracy (Maximum Likelihood Estimation): 141033.7174820312 in iteration 500 of 1000\n",
            "Accuracy (Maximum Likelihood Estimation): 125068.4799164208 in iteration 600 of 1000\n",
            "Accuracy (Maximum Likelihood Estimation): 111108.13837444544 in iteration 700 of 1000\n",
            "Accuracy (Maximum Likelihood Estimation): 98927.76799749944 in iteration 800 of 1000\n",
            "Accuracy (Maximum Likelihood Estimation): 88326.84882387624 in iteration 900 of 1000\n",
            "CPU times: user 39.3 s, sys: 1.09 s, total: 40.4 s\n",
            "Wall time: 39.2 s\n",
            "Accuracy : 0.575\n",
            "Precision : 0.5431034482758621\n",
            "Recall : 0.945\n",
            "NPV : 0.7884615384615384\n",
            "FPR : 0.795\n",
            "FDR : 0.45689655172413796\n",
            "F1 Score : 0.6897810218978102\n",
            "F2 Score: 1.25\n",
            "Confusion Matrix: [[189, 159], [11, 41]]\n",
            "\n",
            "When learning rate is 1e-05 .. \n",
            "Accuracy (Maximum Likelihood Estimation): 258100.7240863199 in iteration 0 of 1000\n",
            "Accuracy (Maximum Likelihood Estimation): 78519.441357551 in iteration 100 of 1000\n",
            "Accuracy (Maximum Likelihood Estimation): 36956.608831630925 in iteration 200 of 1000\n",
            "Accuracy (Maximum Likelihood Estimation): 37151.829700253125 in iteration 300 of 1000\n",
            "Accuracy (Maximum Likelihood Estimation): 49649.424075230396 in iteration 400 of 1000\n",
            "Accuracy (Maximum Likelihood Estimation): 65576.73833042555 in iteration 500 of 1000\n",
            "Accuracy (Maximum Likelihood Estimation): 82170.68491889026 in iteration 600 of 1000\n",
            "Accuracy (Maximum Likelihood Estimation): 98667.12593310498 in iteration 700 of 1000\n",
            "Accuracy (Maximum Likelihood Estimation): 114754.57016042017 in iteration 800 of 1000\n",
            "Accuracy (Maximum Likelihood Estimation): 130471.2151269834 in iteration 900 of 1000\n",
            "CPU times: user 39 s, sys: 1.13 s, total: 40.1 s\n",
            "Wall time: 38.9 s\n",
            "Accuracy : 0.66\n",
            "Precision : 0.6818181818181818\n",
            "Recall : 0.6\n",
            "NPV : 0.6428571428571429\n",
            "FPR : 0.28\n",
            "FDR : 0.3181818181818182\n",
            "F1 Score : 0.6382978723404256\n",
            "F2 Score: 1.2499999999999998\n",
            "Confusion Matrix: [[120, 56], [80, 144]]\n",
            "\n",
            "When learning rate is 0.001 .. \n",
            "Accuracy (Maximum Likelihood Estimation): 65824.56901859326 in iteration 0 of 1000\n",
            "Accuracy (Maximum Likelihood Estimation): 762200.5940133602 in iteration 100 of 1000\n",
            "Accuracy (Maximum Likelihood Estimation): 932921.5370379179 in iteration 200 of 1000\n",
            "Accuracy (Maximum Likelihood Estimation): 1053673.8057106037 in iteration 300 of 1000\n",
            "Accuracy (Maximum Likelihood Estimation): 1118021.0022624058 in iteration 400 of 1000\n",
            "Accuracy (Maximum Likelihood Estimation): 1150886.1295138116 in iteration 500 of 1000\n",
            "Accuracy (Maximum Likelihood Estimation): 1195172.7968951657 in iteration 600 of 1000\n",
            "Accuracy (Maximum Likelihood Estimation): 1223905.612303311 in iteration 700 of 1000\n",
            "Accuracy (Maximum Likelihood Estimation): 1248331.2017248336 in iteration 800 of 1000\n",
            "Accuracy (Maximum Likelihood Estimation): 1277908.8041939682 in iteration 900 of 1000\n",
            "CPU times: user 39.4 s, sys: 1.09 s, total: 40.5 s\n",
            "Wall time: 39.3 s\n",
            "Accuracy : 0.66\n",
            "Precision : 0.6666666666666666\n",
            "Recall : 0.64\n",
            "NPV : 0.6538461538461539\n",
            "FPR : 0.32\n",
            "FDR : 0.3333333333333333\n",
            "F1 Score : 0.6530612244897959\n",
            "F2 Score: 1.25\n",
            "Confusion Matrix: [[128, 64], [72, 136]]\n",
            "\n",
            "When learning rate is 0.1 .. \n",
            "Accuracy (Maximum Likelihood Estimation): 136502.86128672172 in iteration 0 of 1000\n",
            "Accuracy (Maximum Likelihood Estimation): 2405230.9800796313 in iteration 100 of 1000\n",
            "Accuracy (Maximum Likelihood Estimation): 2765282.6574476105 in iteration 200 of 1000\n",
            "Accuracy (Maximum Likelihood Estimation): 711677.1410999252 in iteration 300 of 1000\n",
            "Accuracy (Maximum Likelihood Estimation): 2579137.1119261067 in iteration 400 of 1000\n",
            "Accuracy (Maximum Likelihood Estimation): 1940457.4955054033 in iteration 500 of 1000\n",
            "Accuracy (Maximum Likelihood Estimation): 1181251.9746577945 in iteration 600 of 1000\n",
            "Accuracy (Maximum Likelihood Estimation): 1098958.6198397274 in iteration 700 of 1000\n",
            "Accuracy (Maximum Likelihood Estimation): 2237760.7705667713 in iteration 800 of 1000\n",
            "Accuracy (Maximum Likelihood Estimation): 2375458.1459806254 in iteration 900 of 1000\n",
            "CPU times: user 39.5 s, sys: 1.14 s, total: 40.6 s\n",
            "Wall time: 39.4 s\n",
            "Accuracy : 0.6225\n",
            "Precision : 0.6449704142011834\n",
            "Recall : 0.545\n",
            "NPV : 0.6060606060606061\n",
            "FPR : 0.3\n",
            "FDR : 0.35502958579881655\n",
            "F1 Score : 0.5907859078590786\n",
            "F2 Score: 1.25\n",
            "Confusion Matrix: [[109, 60], [91, 140]]\n",
            "\n",
            "When learning rate is 1 .. \n",
            "Accuracy (Maximum Likelihood Estimation): -18285674.606366742 in iteration 0 of 1000\n",
            "Accuracy (Maximum Likelihood Estimation): 50086592.401578695 in iteration 100 of 1000\n",
            "Accuracy (Maximum Likelihood Estimation): 30088658.371800326 in iteration 200 of 1000\n",
            "Accuracy (Maximum Likelihood Estimation): -4398283.030876797 in iteration 300 of 1000\n",
            "Accuracy (Maximum Likelihood Estimation): -13860946.439788163 in iteration 400 of 1000\n",
            "Accuracy (Maximum Likelihood Estimation): -895422.5298194855 in iteration 500 of 1000\n",
            "Accuracy (Maximum Likelihood Estimation): 11408164.171241961 in iteration 600 of 1000\n",
            "Accuracy (Maximum Likelihood Estimation): 32406051.66603733 in iteration 700 of 1000\n",
            "Accuracy (Maximum Likelihood Estimation): -7939143.067436524 in iteration 800 of 1000\n",
            "Accuracy (Maximum Likelihood Estimation): 19526860.670995973 in iteration 900 of 1000\n",
            "CPU times: user 39.2 s, sys: 1.12 s, total: 40.3 s\n",
            "Wall time: 39.1 s\n",
            "Accuracy : 0.6075\n",
            "Precision : 0.6972477064220184\n",
            "Recall : 0.38\n",
            "NPV : 0.5738831615120275\n",
            "FPR : 0.165\n",
            "FDR : 0.30275229357798167\n",
            "F1 Score : 0.49190938511326854\n",
            "F2 Score: 1.2500000000000002\n",
            "Confusion Matrix: [[76, 33], [124, 167]]\n",
            "\n",
            "Best learning rate for stochastic trained with hog: 1e-05 \n"
          ],
          "name": "stdout"
        }
      ]
    },
    {
      "cell_type": "markdown",
      "metadata": {
        "id": "7CfRaaWx4-u3",
        "colab_type": "text"
      },
      "source": [
        "# Doing everything for the neural network generated features"
      ]
    },
    {
      "cell_type": "code",
      "metadata": {
        "id": "0PyWcZpb5Bpa",
        "colab_type": "code",
        "outputId": "61f10fa8-41bc-4be5-d960-11dea9f0f553",
        "colab": {
          "base_uri": "https://localhost:8080/"
        }
      },
      "source": [
        "learning_rates = [ 1e-6, 1e-5, 1e-3, 1e-1, 1]\n",
        "best_list = []\n",
        "\n",
        "for i in learning_rates:\n",
        "  print(\"When learning rate is {} .. \".format(i))\n",
        "  model = LogisticRegression (learning_rate=i,num_iter=1000, batch_size=25) \n",
        "\n",
        "  # weights will be found according to learning rate and \n",
        "  %time result = model.stochastic_gradient_ascent ( np.mat(inception_features_train), np.mat(superclass_labels_train) )\n",
        "  \n",
        "  # doing predictions according to the weights found\n",
        "  predictions = model.test_classify(inception_features_test, 0.5 , result)\n",
        "  \n",
        "  # finding results \n",
        "  accuracy = model.report_result(predictions, superclass_labels_test)\n",
        "  best_list.append(accuracy)\n",
        "  print()\n",
        "\n",
        "max_ind = best_list.index(max(best_list))\n",
        "best_lr_sch_inc = learning_rates[max_ind]\n",
        "print(\"Best learning rate for stochastic trained with neural net: {} \".format(best_lr_sch_inc))\n"
      ],
      "execution_count": 0,
      "outputs": [
        {
          "output_type": "stream",
          "text": [
            "When learning rate is 1e-06 .. \n",
            "Accuracy (Maximum Likelihood Estimation): 6329493.528840523 in iteration 0 of 1000\n",
            "Accuracy (Maximum Likelihood Estimation): 882828.2349132972 in iteration 100 of 1000\n",
            "Accuracy (Maximum Likelihood Estimation): 1412973.7971323684 in iteration 200 of 1000\n",
            "Accuracy (Maximum Likelihood Estimation): 1801347.8731096047 in iteration 300 of 1000\n",
            "Accuracy (Maximum Likelihood Estimation): 2105242.5966874426 in iteration 400 of 1000\n",
            "Accuracy (Maximum Likelihood Estimation): 2353694.259035919 in iteration 500 of 1000\n",
            "Accuracy (Maximum Likelihood Estimation): 2560792.3328034785 in iteration 600 of 1000\n",
            "Accuracy (Maximum Likelihood Estimation): 2737025.16713111 in iteration 700 of 1000\n",
            "Accuracy (Maximum Likelihood Estimation): 2893170.3810170805 in iteration 800 of 1000\n",
            "Accuracy (Maximum Likelihood Estimation): 3029538.239085174 in iteration 900 of 1000\n",
            "CPU times: user 3min 17s, sys: 2min 15s, total: 5min 32s\n",
            "Wall time: 2min 51s\n",
            "Accuracy : 0.875\n",
            "Precision : 0.8472222222222222\n",
            "Recall : 0.915\n",
            "NPV : 0.907608695652174\n",
            "FPR : 0.165\n",
            "FDR : 0.1527777777777778\n",
            "F1 Score : 0.8798076923076923\n",
            "F2 Score: 1.25\n",
            "Confusion Matrix: [[183, 33], [17, 167]]\n",
            "\n",
            "When learning rate is 1e-05 .. \n",
            "Accuracy (Maximum Likelihood Estimation): 2347280.130241694 in iteration 0 of 1000\n",
            "Accuracy (Maximum Likelihood Estimation): 3177403.218997244 in iteration 100 of 1000\n",
            "Accuracy (Maximum Likelihood Estimation): 3964352.3916197466 in iteration 200 of 1000\n",
            "Accuracy (Maximum Likelihood Estimation): 4423208.990825003 in iteration 300 of 1000\n",
            "Accuracy (Maximum Likelihood Estimation): 4725030.068927957 in iteration 400 of 1000\n",
            "Accuracy (Maximum Likelihood Estimation): 4975518.523091727 in iteration 500 of 1000\n",
            "Accuracy (Maximum Likelihood Estimation): 5195767.320540221 in iteration 600 of 1000\n",
            "Accuracy (Maximum Likelihood Estimation): 5349503.79480595 in iteration 700 of 1000\n",
            "Accuracy (Maximum Likelihood Estimation): 5465629.23285341 in iteration 800 of 1000\n",
            "Accuracy (Maximum Likelihood Estimation): 5631373.401464591 in iteration 900 of 1000\n",
            "CPU times: user 4min 13s, sys: 2min 26s, total: 6min 40s\n",
            "Wall time: 3min 47s\n",
            "Accuracy : 0.875\n",
            "Precision : 0.8537735849056604\n",
            "Recall : 0.905\n",
            "NPV : 0.898936170212766\n",
            "FPR : 0.155\n",
            "FDR : 0.14622641509433962\n",
            "F1 Score : 0.8786407766990291\n",
            "F2 Score: 1.2500000000000002\n",
            "Confusion Matrix: [[181, 31], [19, 169]]\n",
            "\n",
            "When learning rate is 0.001 .. \n",
            "Accuracy (Maximum Likelihood Estimation): 2534330.2800435154 in iteration 0 of 1000\n",
            "Accuracy (Maximum Likelihood Estimation): 9932958.769963577 in iteration 100 of 1000\n",
            "Accuracy (Maximum Likelihood Estimation): 11209633.263425969 in iteration 200 of 1000\n",
            "Accuracy (Maximum Likelihood Estimation): 12604891.605546921 in iteration 300 of 1000\n",
            "Accuracy (Maximum Likelihood Estimation): 13293423.645807983 in iteration 400 of 1000\n",
            "Accuracy (Maximum Likelihood Estimation): 14086947.023295008 in iteration 500 of 1000\n",
            "Accuracy (Maximum Likelihood Estimation): 14983748.241959909 in iteration 600 of 1000\n",
            "Accuracy (Maximum Likelihood Estimation): 15916635.482617674 in iteration 700 of 1000\n",
            "Accuracy (Maximum Likelihood Estimation): 16870752.85900806 in iteration 800 of 1000\n",
            "Accuracy (Maximum Likelihood Estimation): 16425599.519752514 in iteration 900 of 1000\n",
            "CPU times: user 4min 46s, sys: 2min 32s, total: 7min 19s\n",
            "Wall time: 4min 17s\n",
            "Accuracy : 0.8775\n",
            "Precision : 0.8682926829268293\n",
            "Recall : 0.89\n",
            "NPV : 0.8871794871794871\n",
            "FPR : 0.135\n",
            "FDR : 0.13170731707317074\n",
            "F1 Score : 0.8790123456790123\n",
            "F2 Score: 1.25\n",
            "Confusion Matrix: [[178, 27], [22, 173]]\n",
            "\n",
            "When learning rate is 0.1 .. \n",
            "Accuracy (Maximum Likelihood Estimation): 284144704.89087594 in iteration 0 of 1000\n",
            "Accuracy (Maximum Likelihood Estimation): 257713569.78474128 in iteration 100 of 1000\n",
            "Accuracy (Maximum Likelihood Estimation): 256645967.0168779 in iteration 200 of 1000\n",
            "Accuracy (Maximum Likelihood Estimation): 256264277.7339259 in iteration 300 of 1000\n",
            "Accuracy (Maximum Likelihood Estimation): 256062704.3614973 in iteration 400 of 1000\n",
            "Accuracy (Maximum Likelihood Estimation): 255947257.76225775 in iteration 500 of 1000\n",
            "Accuracy (Maximum Likelihood Estimation): 255865656.43645018 in iteration 600 of 1000\n",
            "Accuracy (Maximum Likelihood Estimation): 255806299.77230167 in iteration 700 of 1000\n",
            "Accuracy (Maximum Likelihood Estimation): 255758016.1854607 in iteration 800 of 1000\n",
            "Accuracy (Maximum Likelihood Estimation): 255716468.5647698 in iteration 900 of 1000\n",
            "CPU times: user 4min 39s, sys: 2min 31s, total: 7min 11s\n",
            "Wall time: 4min 12s\n",
            "Accuracy : 0.88\n",
            "Precision : 0.8762376237623762\n",
            "Recall : 0.885\n",
            "NPV : 0.8838383838383839\n",
            "FPR : 0.125\n",
            "FDR : 0.12376237623762376\n",
            "F1 Score : 0.880597014925373\n",
            "F2 Score: 1.25\n",
            "Confusion Matrix: [[177, 25], [23, 175]]\n",
            "\n",
            "When learning rate is 1 .. \n"
          ],
          "name": "stdout"
        },
        {
          "output_type": "stream",
          "text": [
            "/usr/local/lib/python3.6/dist-packages/ipykernel_launcher.py:25: RuntimeWarning: overflow encountered in exp\n",
            "/usr/local/lib/python3.6/dist-packages/ipykernel_launcher.py:37: RuntimeWarning: overflow encountered in exp\n"
          ],
          "name": "stderr"
        },
        {
          "output_type": "stream",
          "text": [
            "Accuracy (Maximum Likelihood Estimation): -inf in iteration 0 of 1000\n",
            "Accuracy (Maximum Likelihood Estimation): -inf in iteration 100 of 1000\n",
            "Accuracy (Maximum Likelihood Estimation): -inf in iteration 200 of 1000\n",
            "Accuracy (Maximum Likelihood Estimation): -inf in iteration 300 of 1000\n",
            "Accuracy (Maximum Likelihood Estimation): -inf in iteration 400 of 1000\n",
            "Accuracy (Maximum Likelihood Estimation): -inf in iteration 500 of 1000\n",
            "Accuracy (Maximum Likelihood Estimation): -inf in iteration 600 of 1000\n",
            "Accuracy (Maximum Likelihood Estimation): -inf in iteration 700 of 1000\n",
            "Accuracy (Maximum Likelihood Estimation): -inf in iteration 800 of 1000\n",
            "Accuracy (Maximum Likelihood Estimation): -inf in iteration 900 of 1000\n",
            "CPU times: user 4min 11s, sys: 2min 27s, total: 6min 38s\n",
            "Wall time: 3min 43s\n",
            "Accuracy : 0.8725\n",
            "Precision : 0.8860103626943006\n",
            "Recall : 0.855\n",
            "NPV : 0.8599033816425121\n",
            "FPR : 0.11\n",
            "FDR : 0.11398963730569948\n",
            "F1 Score : 0.8702290076335878\n",
            "F2 Score: 1.25\n",
            "Confusion Matrix: [[171, 22], [29, 178]]\n",
            "\n",
            "Best learning rate for stochastic trained with neural net: 0.1 \n"
          ],
          "name": "stdout"
        }
      ]
    },
    {
      "cell_type": "markdown",
      "metadata": {
        "id": "CCf4xuU0AUH8",
        "colab_type": "text"
      },
      "source": [
        "# 1.2 Full batch gradient ascent"
      ]
    },
    {
      "cell_type": "code",
      "metadata": {
        "id": "y7nU05RDATDO",
        "colab_type": "code",
        "outputId": "f2b6e1f0-4200-4c78-ee33-8adbae218218",
        "colab": {
          "base_uri": "https://localhost:8080/",
          "height": 425
        }
      },
      "source": [
        "import operator\n",
        "# learning_rates = [ best_lr_mini_hog, best_lr_sch_hog]\n",
        "learning_rates = [ 1e-5]\n",
        "best_list = []\n",
        "\n",
        "for i in learning_rates:\n",
        "  print(\"When learning rate is {} .. \".format(i))\n",
        "  model = LogisticRegression (learning_rate=i,num_iter=1000, batch_size=25) \n",
        "\n",
        "  # weights will be found according to learning rate and \n",
        "  %time result = model.full_batch_gradient_ascent( np.mat(hog_features_train), np.mat(superclass_labels_train) )\n",
        "  \n",
        "  indexed = list(enumerate(result))\n",
        "  top_10 = sorted(indexed, key=operator.itemgetter(1))[-10:]\n",
        "  indexs = list(reversed([i for i, v in top_10]))\n",
        "  print (\"10 most important feature indices: \\n{}\".format(indexs))\n",
        "\n",
        "  # doing predictions according to the weights found\n",
        "  predictions = model.test_classify(hog_features_test, 0.5 , result)\n",
        "  \n",
        "  # finding results \n",
        "  accuracy = model.report_result(predictions, superclass_labels_test)\n",
        "  "
      ],
      "execution_count": 0,
      "outputs": [
        {
          "output_type": "stream",
          "text": [
            "When learning rate is 1e-05 .. \n",
            "Accuracy (Maximum Likelihood Estimation): 265243.39106075594 in iteration 0 of 1000\n",
            "Accuracy (Maximum Likelihood Estimation): 80816.41241650014 in iteration 100 of 1000\n",
            "Accuracy (Maximum Likelihood Estimation): 38238.91713944322 in iteration 200 of 1000\n",
            "Accuracy (Maximum Likelihood Estimation): 38208.806926963436 in iteration 300 of 1000\n",
            "Accuracy (Maximum Likelihood Estimation): 50670.861107721284 in iteration 400 of 1000\n",
            "Accuracy (Maximum Likelihood Estimation): 66553.62273514502 in iteration 500 of 1000\n",
            "Accuracy (Maximum Likelihood Estimation): 83128.30914121075 in iteration 600 of 1000\n",
            "Accuracy (Maximum Likelihood Estimation): 99583.04873964612 in iteration 700 of 1000\n",
            "Accuracy (Maximum Likelihood Estimation): 115685.16690460345 in iteration 800 of 1000\n",
            "Accuracy (Maximum Likelihood Estimation): 131376.7084477212 in iteration 900 of 1000\n",
            "CPU times: user 886 ms, sys: 183 ms, total: 1.07 s\n",
            "Wall time: 555 ms\n",
            "10 most important feature indices: \n",
            "[164, 289, 29, 195, 288, 154, 155, 153, 60, 61]\n",
            "Accuracy : 0.6675\n",
            "Precision : 0.6936416184971098\n",
            "Recall : 0.6\n",
            "NPV : 0.6475770925110133\n",
            "FPR : 0.265\n",
            "FDR : 0.3063583815028902\n",
            "F1 Score : 0.6434316353887399\n",
            "F2 Score: 1.25\n",
            "Confusion Matrix: [[120, 53], [80, 147]]\n"
          ],
          "name": "stdout"
        }
      ]
    },
    {
      "cell_type": "markdown",
      "metadata": {
        "id": "tpYPbdvtArHj",
        "colab_type": "text"
      },
      "source": [
        "# Doing everything for the neural network generated features"
      ]
    },
    {
      "cell_type": "code",
      "metadata": {
        "id": "Y1dJbbOnAsij",
        "colab_type": "code",
        "outputId": "4aa3d972-f4bd-4114-fdcb-e44ee018539b",
        "colab": {
          "base_uri": "https://localhost:8080/",
          "height": 479
        }
      },
      "source": [
        "# learning_rates = [ best_lr_mini_inc, best_lr_sch_inc]\n",
        "learning_rates = [ 0.1 ]\n",
        "best_list = []\n",
        "\n",
        "for i in learning_rates:\n",
        "  print(\"When learning rate is {} .. \".format(i))\n",
        "  model = LogisticRegression (learning_rate=i,num_iter=1000, batch_size=25) \n",
        "\n",
        "  # weights will be found according to learning rate and \n",
        "  %time result = model.full_batch_gradient_ascent( np.mat(inception_features_train), np.mat(superclass_labels_train) )\n",
        "  \n",
        "  indexed = list(enumerate(result))\n",
        "  top_10 = sorted(indexed, key=operator.itemgetter(1))[-10:]\n",
        "  indexs = list(reversed([i for i, v in top_10]))\n",
        "  print (\"10 most important feature indices: \\n{}\".format(indexs))\n",
        "\n",
        "  # doing predictions according to the weights found\n",
        "  predictions = model.test_classify(inception_features_test, 0.5 , result)\n",
        "  \n",
        "  # finding results \n",
        "  accuracy = model.report_result(predictions, superclass_labels_test)\n",
        "  \n"
      ],
      "execution_count": 0,
      "outputs": [
        {
          "output_type": "stream",
          "text": [
            "When learning rate is 0.1 .. \n",
            "Accuracy (Maximum Likelihood Estimation): -57436699248.75962 in iteration 0 of 1000\n"
          ],
          "name": "stdout"
        },
        {
          "output_type": "stream",
          "text": [
            "/usr/local/lib/python3.6/dist-packages/ipykernel_launcher.py:25: RuntimeWarning: overflow encountered in exp\n",
            "/usr/local/lib/python3.6/dist-packages/ipykernel_launcher.py:37: RuntimeWarning: overflow encountered in exp\n"
          ],
          "name": "stderr"
        },
        {
          "output_type": "stream",
          "text": [
            "Accuracy (Maximum Likelihood Estimation): -inf in iteration 100 of 1000\n",
            "Accuracy (Maximum Likelihood Estimation): -inf in iteration 200 of 1000\n",
            "Accuracy (Maximum Likelihood Estimation): -inf in iteration 300 of 1000\n",
            "Accuracy (Maximum Likelihood Estimation): -inf in iteration 400 of 1000\n",
            "Accuracy (Maximum Likelihood Estimation): -inf in iteration 500 of 1000\n",
            "Accuracy (Maximum Likelihood Estimation): -inf in iteration 600 of 1000\n",
            "Accuracy (Maximum Likelihood Estimation): -inf in iteration 700 of 1000\n",
            "Accuracy (Maximum Likelihood Estimation): -inf in iteration 800 of 1000\n",
            "Accuracy (Maximum Likelihood Estimation): -inf in iteration 900 of 1000\n",
            "CPU times: user 6.18 s, sys: 326 ms, total: 6.5 s\n",
            "Wall time: 3.35 s\n",
            "10 most important feature indices: \n",
            "[123, 993, 1948, 1783, 1189, 1108, 1928, 187, 1020, 287]\n",
            "Accuracy : 0.8875\n",
            "Precision : 0.8934010152284264\n",
            "Recall : 0.88\n",
            "NPV : 0.8817733990147784\n",
            "FPR : 0.105\n",
            "FDR : 0.1065989847715736\n",
            "F1 Score : 0.8866498740554157\n",
            "F2 Score: 1.25\n",
            "Confusion Matrix: [[176, 21], [24, 179]]\n"
          ],
          "name": "stdout"
        }
      ]
    },
    {
      "cell_type": "markdown",
      "metadata": {
        "id": "nlK9QWKbmIfE",
        "colab_type": "text"
      },
      "source": [
        "# Question 1.3\n",
        "**Superclass Classication Using SVM**\n"
      ]
    },
    {
      "cell_type": "code",
      "metadata": {
        "id": "1_8X2RW0rl4z",
        "colab_type": "code",
        "colab": {}
      },
      "source": [
        "inception_features_train = q1_dataset['inception_features_train']\n",
        "inception_features_test = q1_dataset['inception_features_test']\n",
        "hog_features_train = q1_dataset['hog_features_train']\n",
        "hog_features_test = q1_dataset['hog_features_test']\n",
        "superclass_labels_train = q1_dataset['superclass_labels_train']\n",
        "superclass_labels_test = q1_dataset['superclass_labels_test']"
      ],
      "execution_count": 0,
      "outputs": []
    },
    {
      "cell_type": "code",
      "metadata": {
        "id": "N-BSHbPPmhW7",
        "colab_type": "code",
        "colab": {}
      },
      "source": [
        "from sklearn.model_selection import StratifiedKFold\n",
        "from sklearn import svm\n",
        "from sklearn import metrics\n",
        "from sklearn.metrics import confusion_matrix\n",
        "from statistics import mean \n",
        "\n",
        "class class_svm:\n",
        "  #def __init__ (self):\n",
        "  \n",
        "  def stratified_k_fold(self, features, labels, k):\n",
        "    result = []\n",
        "    skf = StratifiedKFold(n_splits=k, random_state=None, shuffle=True)\n",
        "    for train_index, test_index in skf.split(features, labels):\n",
        "      # print(\"TRAIN:\", len(train_index), \"TEST:\", len(test_index))\n",
        "      X_train, X_test = features[train_index], features[test_index]\n",
        "      y_train, y_test = labels[train_index], labels[test_index]\n",
        "      result.append ( [ X_train , X_test , y_train , y_test ] )\n",
        "\n",
        "    return np.asarray(result)\n",
        "\n",
        "  def train_soft_margin_svm (self, fold, cs):\n",
        "    \n",
        "    X_train,X_test,y_train,y_test = fold\n",
        "    y_train = y_train.flatten()\n",
        "    \n",
        "    all_acc = []\n",
        "    all_pred = []\n",
        "    all_recall = []\n",
        "    all_f1 = []\n",
        "\n",
        "    #Create a svm Classifier\n",
        "    for c in cs: \n",
        "      \n",
        "      # Linear Kernel\n",
        "      clf = svm.SVC(kernel='linear',C=c) \n",
        "      #Train the model using the training sets\n",
        "      clf.fit(X_train, y_train)\n",
        "      #Predict the response for test dataset\n",
        "      y_pred = clf.predict(X_test)\n",
        "\n",
        "      # Model Accuracy: how often is the classifier correct?\n",
        "      acc =  metrics.accuracy_score(y_test, y_pred)\n",
        "      all_acc.append(acc)\n",
        "      # Model Precision: what percentage of positive tuples are labeled as such?\n",
        "      pred = metrics.precision_score(y_test, y_pred)\n",
        "      all_pred.append(pred)\n",
        "      # Model Recall: what percentage of positive tuples are labelled as such?\n",
        "      recall = metrics.recall_score(y_test, y_pred)\n",
        "      all_recall.append( recall)\n",
        "      # Model F1 Score:\n",
        "      f1 = metrics.f1_score(y_test, y_pred)\n",
        "      all_f1.append(f1)\n",
        "\n",
        "      print(\"When c= {}, Accuracy: {}\".format(c,acc)) \n",
        "      print(\"When c= {}, Precision: {}\".format(c, pred))\n",
        "      print(\"When c= {}, Recall: {}\".format(c, recall))\n",
        "      print(\"When c= {}, F1 Score: {}\".format(c, f1))\n",
        "\n",
        "    if len(cs) != 1:\n",
        "      return all_acc\n",
        "\n",
        "    else:    \n",
        "      cnf_matrix = confusion_matrix(y_test, y_pred)\n",
        "      print(cnf_matrix)\n",
        "\n",
        "    print()\n",
        "\n",
        "\n",
        "  def train_hard_margin_svm (self, fold, gamas):\n",
        "    X_train,X_test,y_train,y_test = fold\n",
        "    y_train = y_train.flatten()\n",
        "    \n",
        "    all_acc = []\n",
        "    all_pred = []\n",
        "    all_recall = []\n",
        "    all_f1 = []\n",
        "\n",
        "    #Create a svm Classifier\n",
        "    for gama in gamas: \n",
        "      \n",
        "      # RBF Kernel\n",
        "      clf = svm.SVC(kernel='rbf', gamma=gama, C= 1e11) \n",
        "      #Train the model using the training sets\n",
        "      clf.fit(X_train, y_train)\n",
        "      #Predict the response for test dataset\n",
        "      y_pred = clf.predict(X_test)\n",
        "\n",
        "      # Model Accuracy: how often is the classifier correct?\n",
        "      acc =  metrics.accuracy_score(y_test, y_pred)\n",
        "      all_acc.append(acc)\n",
        "      # Model Precision: what percentage of positive tuples are labeled as such?\n",
        "      pred = metrics.precision_score(y_test, y_pred)\n",
        "      all_pred.append(pred)\n",
        "      # Model Recall: what percentage of positive tuples are labelled as such?\n",
        "      recall = metrics.recall_score(y_test, y_pred)\n",
        "      all_recall.append(recall)\n",
        "      # Model F1 Score:\n",
        "      f1 = metrics.f1_score(y_test, y_pred)\n",
        "      all_f1.append(f1)\n",
        "      \n",
        "      print(\"When gamma= {}, Accuracy: {}\".format(gama,acc)) \n",
        "      print(\"When gamma= {}, Precision: {}\".format(gama, pred))\n",
        "      print(\"When gamma= {}, Recall: {}\".format(gama, recall))\n",
        "      print(\"When gamma= {}, F1 Score: {}\".format(gama, f1))\n",
        "\n",
        "    if len(gamas) != 1:\n",
        "      return all_acc\n",
        "\n",
        "    else:\n",
        "      cnf_matrix = confusion_matrix(y_test, y_pred)\n",
        "      print(cnf_matrix)\n",
        "    print()\n",
        "\n",
        "  def train_soft_margin_svm_last (self, fold, gamas, cs):\n",
        "    \n",
        "    # Test and training data,label\n",
        "    X_train,X_test,y_train,y_test = fold\n",
        "    y_train = y_train.flatten()\n",
        "\n",
        "    all_acc = []\n",
        "    all_pred = []\n",
        "    all_recall = []\n",
        "    all_f1 = []\n",
        "\n",
        "    for c in cs:\n",
        "\n",
        "      for gama in gamas:\n",
        "\n",
        "        # RBF Kernel\n",
        "        clf = svm.SVC(kernel='rbf', gamma=gama, C=c) \n",
        "        #Train the model using the training sets\n",
        "        clf.fit(X_train, y_train)\n",
        "        #Predict the response for test dataset\n",
        "        y_pred = clf.predict(X_test)\n",
        "\n",
        "        # Model Accuracy: how often is the classifier correct?\n",
        "        acc =  metrics.accuracy_score(y_test, y_pred)\n",
        "        all_acc.append(acc)\n",
        "        # Model Precision: what percentage of positive tuples are labeled as such?\n",
        "        pred = metrics.precision_score(y_test, y_pred)\n",
        "        all_pred.append(pred)\n",
        "        # Model Recall: what percentage of positive tuples are labelled as such?\n",
        "        recall = metrics.recall_score(y_test, y_pred)\n",
        "        all_recall.append(recall)\n",
        "        # Model F1 Score:\n",
        "        f1 = metrics.f1_score(y_test, y_pred)\n",
        "        all_f1.append(f1)\n",
        "        \n",
        "        print(\"When gamma= {}, c = {}, Accuracy: {}\".format(gama, c,acc)) \n",
        "        print(\"When gamma= {}, c = {}, Precision: {}\".format(gama, c, pred))\n",
        "        print(\"When gamma= {}, c = {}, Recall: {}\".format(gama, c, recall))\n",
        "        print(\"When gamma= {}, c = {}, F1 Score: {}\".format(gama, c, f1))\n",
        "        print()\n",
        "\n",
        "    if len(gamas) != 1:\n",
        "      return all_acc\n",
        "\n",
        "    else:\n",
        "      cnf_matrix = confusion_matrix(y_test, y_pred)\n",
        "      print(cnf_matrix)\n",
        "\n",
        "    print()"
      ],
      "execution_count": 0,
      "outputs": []
    },
    {
      "cell_type": "markdown",
      "metadata": {
        "id": "nGiajmjdE-rN",
        "colab_type": "text"
      },
      "source": [
        "# 1.4 Train a soft margin SVM model with linear kernel. \n",
        "Tune C hyper-parameter of the model using 5-fold cross validation on the training dataset."
      ]
    },
    {
      "cell_type": "code",
      "metadata": {
        "id": "1fq05YpO9i7K",
        "colab_type": "code",
        "outputId": "3dcab634-6d2f-4b85-a1bc-14f4190e6869",
        "colab": {
          "base_uri": "https://localhost:8080/",
          "height": 1000
        }
      },
      "source": [
        "cs  = [1e-2, 1e-1, 1, 1e1, 1e2]\n",
        "model = class_svm()\n",
        "result = model.stratified_k_fold(features= hog_features_train, labels = superclass_labels_train, k=5)\n",
        "f1s = []\n",
        "for i in range (len(result)):\n",
        "  print('Fold {} is processing...'.format(i+1))\n",
        "  %time f1 = model.train_soft_margin_svm(result[i], cs)\n",
        "  f1s.append(f1)\n",
        "  print()\n",
        "\n",
        "avg_f1 = np.average(f1s, axis=0)\n",
        "ind_arr = np.where(avg_f1 == max(avg_f1))\n",
        "best = ind_arr[0][0]\n",
        "print(\"Best of the C value: {} \\n\".format(cs[best]))\n",
        "print(avg_f1)\n",
        "  "
      ],
      "execution_count": 0,
      "outputs": [
        {
          "output_type": "stream",
          "text": [
            "Fold 1 is processing...\n",
            "When c= 0.01, Accuracy: 0.7025\n",
            "When c= 0.01, Precision: 0.7120418848167539\n",
            "When c= 0.01, Recall: 0.68\n",
            "When c= 0.01, F1 Score: 0.6956521739130435\n",
            "When c= 0.1, Accuracy: 0.705\n",
            "When c= 0.1, Precision: 0.6952380952380952\n",
            "When c= 0.1, Recall: 0.73\n",
            "When c= 0.1, F1 Score: 0.7121951219512195\n",
            "When c= 1, Accuracy: 0.6975\n",
            "When c= 1, Precision: 0.6854460093896714\n",
            "When c= 1, Recall: 0.73\n",
            "When c= 1, F1 Score: 0.7070217917675543\n",
            "When c= 10.0, Accuracy: 0.6625\n",
            "When c= 10.0, Precision: 0.6511627906976745\n",
            "When c= 10.0, Recall: 0.7\n",
            "When c= 10.0, F1 Score: 0.674698795180723\n",
            "When c= 100.0, Accuracy: 0.6475\n",
            "When c= 100.0, Precision: 0.645320197044335\n",
            "When c= 100.0, Recall: 0.655\n",
            "When c= 100.0, F1 Score: 0.6501240694789082\n",
            "CPU times: user 7.77 s, sys: 6.99 ms, total: 7.78 s\n",
            "Wall time: 7.78 s\n",
            "\n",
            "Fold 2 is processing...\n",
            "When c= 0.01, Accuracy: 0.66\n",
            "When c= 0.01, Precision: 0.7077922077922078\n",
            "When c= 0.01, Recall: 0.545\n",
            "When c= 0.01, F1 Score: 0.615819209039548\n",
            "When c= 0.1, Accuracy: 0.6825\n",
            "When c= 0.1, Precision: 0.6910994764397905\n",
            "When c= 0.1, Recall: 0.66\n",
            "When c= 0.1, F1 Score: 0.6751918158567775\n",
            "When c= 1, Accuracy: 0.6575\n",
            "When c= 1, Precision: 0.6684491978609626\n",
            "When c= 1, Recall: 0.625\n",
            "When c= 1, F1 Score: 0.6459948320413437\n",
            "When c= 10.0, Accuracy: 0.65\n",
            "When c= 10.0, Precision: 0.6630434782608695\n",
            "When c= 10.0, Recall: 0.61\n",
            "When c= 10.0, F1 Score: 0.6354166666666666\n",
            "When c= 100.0, Accuracy: 0.6575\n",
            "When c= 100.0, Precision: 0.6649214659685864\n",
            "When c= 100.0, Recall: 0.635\n",
            "When c= 100.0, F1 Score: 0.6496163682864451\n",
            "CPU times: user 7.74 s, sys: 3.99 ms, total: 7.74 s\n",
            "Wall time: 7.74 s\n",
            "\n",
            "Fold 3 is processing...\n",
            "When c= 0.01, Accuracy: 0.67\n",
            "When c= 0.01, Precision: 0.6868131868131868\n",
            "When c= 0.01, Recall: 0.625\n",
            "When c= 0.01, F1 Score: 0.6544502617801048\n",
            "When c= 0.1, Accuracy: 0.6625\n",
            "When c= 0.1, Precision: 0.6585365853658537\n",
            "When c= 0.1, Recall: 0.675\n",
            "When c= 0.1, F1 Score: 0.6666666666666667\n",
            "When c= 1, Accuracy: 0.68\n",
            "When c= 1, Precision: 0.6855670103092784\n",
            "When c= 1, Recall: 0.665\n",
            "When c= 1, F1 Score: 0.6751269035532995\n",
            "When c= 10.0, Accuracy: 0.6475\n",
            "When c= 10.0, Precision: 0.6594594594594595\n",
            "When c= 10.0, Recall: 0.61\n",
            "When c= 10.0, F1 Score: 0.6337662337662338\n",
            "When c= 100.0, Accuracy: 0.645\n",
            "When c= 100.0, Precision: 0.6593406593406593\n",
            "When c= 100.0, Recall: 0.6\n",
            "When c= 100.0, F1 Score: 0.6282722513089005\n",
            "CPU times: user 7.72 s, sys: 3.99 ms, total: 7.72 s\n",
            "Wall time: 7.72 s\n",
            "\n",
            "Fold 4 is processing...\n",
            "When c= 0.01, Accuracy: 0.66\n",
            "When c= 0.01, Precision: 0.7051282051282052\n",
            "When c= 0.01, Recall: 0.55\n",
            "When c= 0.01, F1 Score: 0.6179775280898877\n",
            "When c= 0.1, Accuracy: 0.675\n",
            "When c= 0.1, Precision: 0.6804123711340206\n",
            "When c= 0.1, Recall: 0.66\n",
            "When c= 0.1, F1 Score: 0.6700507614213199\n",
            "When c= 1, Accuracy: 0.655\n",
            "When c= 1, Precision: 0.6581632653061225\n",
            "When c= 1, Recall: 0.645\n",
            "When c= 1, F1 Score: 0.6515151515151515\n",
            "When c= 10.0, Accuracy: 0.675\n",
            "When c= 10.0, Precision: 0.6767676767676768\n",
            "When c= 10.0, Recall: 0.67\n",
            "When c= 10.0, F1 Score: 0.6733668341708543\n",
            "When c= 100.0, Accuracy: 0.6475\n",
            "When c= 100.0, Precision: 0.6528497409326425\n",
            "When c= 100.0, Recall: 0.63\n",
            "When c= 100.0, F1 Score: 0.6412213740458015\n",
            "CPU times: user 7.77 s, sys: 7.99 ms, total: 7.77 s\n",
            "Wall time: 7.77 s\n",
            "\n",
            "Fold 5 is processing...\n",
            "When c= 0.01, Accuracy: 0.64\n",
            "When c= 0.01, Precision: 0.6627906976744186\n",
            "When c= 0.01, Recall: 0.57\n",
            "When c= 0.01, F1 Score: 0.6129032258064515\n",
            "When c= 0.1, Accuracy: 0.6425\n",
            "When c= 0.1, Precision: 0.6461538461538462\n",
            "When c= 0.1, Recall: 0.63\n",
            "When c= 0.1, F1 Score: 0.6379746835443039\n",
            "When c= 1, Accuracy: 0.6175\n",
            "When c= 1, Precision: 0.6230366492146597\n",
            "When c= 1, Recall: 0.595\n",
            "When c= 1, F1 Score: 0.6086956521739131\n",
            "When c= 10.0, Accuracy: 0.5825\n",
            "When c= 10.0, Precision: 0.5863874345549738\n",
            "When c= 10.0, Recall: 0.56\n",
            "When c= 10.0, F1 Score: 0.5728900255754477\n",
            "When c= 100.0, Accuracy: 0.5975\n",
            "When c= 100.0, Precision: 0.5960591133004927\n",
            "When c= 100.0, Recall: 0.605\n",
            "When c= 100.0, F1 Score: 0.6004962779156328\n",
            "CPU times: user 7.78 s, sys: 4.99 ms, total: 7.79 s\n",
            "Wall time: 7.79 s\n",
            "\n",
            "Best of the C value: 0.1 \n",
            "\n",
            "[0.6665 0.6735 0.6615 0.6435 0.639 ]\n"
          ],
          "name": "stdout"
        }
      ]
    },
    {
      "cell_type": "markdown",
      "metadata": {
        "id": "9n5IKGSn9jpE",
        "colab_type": "text"
      },
      "source": [
        "**After selecting optimal C value**"
      ]
    },
    {
      "cell_type": "code",
      "metadata": {
        "id": "s2RQIDHYrdO_",
        "colab_type": "code",
        "outputId": "5e1fc817-3884-4a37-ac7a-54c40deec77e",
        "colab": {
          "base_uri": "https://localhost:8080/",
          "height": 170
        }
      },
      "source": [
        "c  = [ cs[best] ]\n",
        "model = class_svm()\n",
        "fold = [hog_features_train, hog_features_test, superclass_labels_train, superclass_labels_test]\n",
        "%time model.train_soft_margin_svm(fold, c)"
      ],
      "execution_count": 0,
      "outputs": [
        {
          "output_type": "stream",
          "text": [
            "When c= 0.1, Accuracy: 0.68\n",
            "When c= 0.1, Precision: 0.7\n",
            "When c= 0.1, Recall: 0.63\n",
            "When c= 0.1, F1 Score: 0.663157894736842\n",
            "[[146  54]\n",
            " [ 74 126]]\n",
            "\n",
            "CPU times: user 1.79 s, sys: 10 ms, total: 1.8 s\n",
            "Wall time: 1.8 s\n"
          ],
          "name": "stdout"
        }
      ]
    },
    {
      "cell_type": "markdown",
      "metadata": {
        "id": "uIm2NPUtC3dU",
        "colab_type": "text"
      },
      "source": [
        "# Doing everything for the neural network generated features"
      ]
    },
    {
      "cell_type": "code",
      "metadata": {
        "id": "yGVTp4udC3A4",
        "colab_type": "code",
        "outputId": "471b01b6-25f3-4063-de35-608af363735e",
        "colab": {
          "base_uri": "https://localhost:8080/",
          "height": 1000
        }
      },
      "source": [
        "cs  = [1e-2, 1e-1, 1, 1e1, 1e2]\n",
        "model = class_svm()\n",
        "result = model.stratified_k_fold(features= inception_features_train, labels = superclass_labels_train, k=5)\n",
        "f1s = []\n",
        "for i in range (len(result)):\n",
        "  print('Fold {} is processing...'.format(i+1))\n",
        "  %time f1 = model.train_soft_margin_svm(result[i], cs)\n",
        "  f1s.append(f1)\n",
        "  print()\n",
        "\n",
        "avg_f1 = np.average(f1s, axis=0)\n",
        "ind_arr = np.where(avg_f1 == max(avg_f1))\n",
        "best = ind_arr[0][0]\n",
        "print(\"Best of the C value: {} \\n\".format(cs[best]))\n",
        "print(avg_f1)"
      ],
      "execution_count": 0,
      "outputs": [
        {
          "output_type": "stream",
          "text": [
            "Fold 1 is processing...\n",
            "When c= 0.01, Accuracy: 0.895\n",
            "When c= 0.01, Precision: 0.8798076923076923\n",
            "When c= 0.01, Recall: 0.915\n",
            "When c= 0.01, F1 Score: 0.8970588235294118\n",
            "When c= 0.1, Accuracy: 0.86\n",
            "When c= 0.1, Precision: 0.8495145631067961\n",
            "When c= 0.1, Recall: 0.875\n",
            "When c= 0.1, F1 Score: 0.8620689655172414\n",
            "When c= 1, Accuracy: 0.8625\n",
            "When c= 1, Precision: 0.8571428571428571\n",
            "When c= 1, Recall: 0.87\n",
            "When c= 1, F1 Score: 0.8635235732009925\n",
            "When c= 10.0, Accuracy: 0.8625\n",
            "When c= 10.0, Precision: 0.8571428571428571\n",
            "When c= 10.0, Recall: 0.87\n",
            "When c= 10.0, F1 Score: 0.8635235732009925\n",
            "When c= 100.0, Accuracy: 0.8625\n",
            "When c= 100.0, Precision: 0.8571428571428571\n",
            "When c= 100.0, Recall: 0.87\n",
            "When c= 100.0, F1 Score: 0.8635235732009925\n",
            "CPU times: user 18.7 s, sys: 19 ms, total: 18.7 s\n",
            "Wall time: 18.7 s\n",
            "\n",
            "Fold 2 is processing...\n",
            "When c= 0.01, Accuracy: 0.8875\n",
            "When c= 0.01, Precision: 0.8855721393034826\n",
            "When c= 0.01, Recall: 0.89\n",
            "When c= 0.01, F1 Score: 0.887780548628429\n",
            "When c= 0.1, Accuracy: 0.89\n",
            "When c= 0.1, Precision: 0.8861386138613861\n",
            "When c= 0.1, Recall: 0.895\n",
            "When c= 0.1, F1 Score: 0.8905472636815921\n",
            "When c= 1, Accuracy: 0.8875\n",
            "When c= 1, Precision: 0.8817733990147784\n",
            "When c= 1, Recall: 0.895\n",
            "When c= 1, F1 Score: 0.8883374689826302\n",
            "When c= 10.0, Accuracy: 0.8875\n",
            "When c= 10.0, Precision: 0.8817733990147784\n",
            "When c= 10.0, Recall: 0.895\n",
            "When c= 10.0, F1 Score: 0.8883374689826302\n",
            "When c= 100.0, Accuracy: 0.8875\n",
            "When c= 100.0, Precision: 0.8817733990147784\n",
            "When c= 100.0, Recall: 0.895\n",
            "When c= 100.0, F1 Score: 0.8883374689826302\n",
            "CPU times: user 18.5 s, sys: 2.98 ms, total: 18.5 s\n",
            "Wall time: 18.5 s\n",
            "\n",
            "Fold 3 is processing...\n",
            "When c= 0.01, Accuracy: 0.87\n",
            "When c= 0.01, Precision: 0.8737373737373737\n",
            "When c= 0.01, Recall: 0.865\n",
            "When c= 0.01, F1 Score: 0.8693467336683417\n",
            "When c= 0.1, Accuracy: 0.8675\n",
            "When c= 0.1, Precision: 0.8972972972972973\n",
            "When c= 0.1, Recall: 0.83\n",
            "When c= 0.1, F1 Score: 0.8623376623376624\n",
            "When c= 1, Accuracy: 0.8625\n",
            "When c= 1, Precision: 0.8961748633879781\n",
            "When c= 1, Recall: 0.82\n",
            "When c= 1, F1 Score: 0.856396866840731\n",
            "When c= 10.0, Accuracy: 0.8625\n",
            "When c= 10.0, Precision: 0.8961748633879781\n",
            "When c= 10.0, Recall: 0.82\n",
            "When c= 10.0, F1 Score: 0.856396866840731\n",
            "When c= 100.0, Accuracy: 0.8625\n",
            "When c= 100.0, Precision: 0.8961748633879781\n",
            "When c= 100.0, Recall: 0.82\n",
            "When c= 100.0, F1 Score: 0.856396866840731\n",
            "CPU times: user 18 s, sys: 1.99 ms, total: 18 s\n",
            "Wall time: 18 s\n",
            "\n",
            "Fold 4 is processing...\n",
            "When c= 0.01, Accuracy: 0.8825\n",
            "When c= 0.01, Precision: 0.8625592417061612\n",
            "When c= 0.01, Recall: 0.91\n",
            "When c= 0.01, F1 Score: 0.8856447688564477\n",
            "When c= 0.1, Accuracy: 0.875\n",
            "When c= 0.1, Precision: 0.8605769230769231\n",
            "When c= 0.1, Recall: 0.895\n",
            "When c= 0.1, F1 Score: 0.877450980392157\n",
            "When c= 1, Accuracy: 0.875\n",
            "When c= 1, Precision: 0.8605769230769231\n",
            "When c= 1, Recall: 0.895\n",
            "When c= 1, F1 Score: 0.877450980392157\n",
            "When c= 10.0, Accuracy: 0.875\n",
            "When c= 10.0, Precision: 0.8605769230769231\n",
            "When c= 10.0, Recall: 0.895\n",
            "When c= 10.0, F1 Score: 0.877450980392157\n",
            "When c= 100.0, Accuracy: 0.875\n",
            "When c= 100.0, Precision: 0.8605769230769231\n",
            "When c= 100.0, Recall: 0.895\n",
            "When c= 100.0, F1 Score: 0.877450980392157\n",
            "CPU times: user 18.1 s, sys: 3.98 ms, total: 18.1 s\n",
            "Wall time: 18.1 s\n",
            "\n",
            "Fold 5 is processing...\n",
            "When c= 0.01, Accuracy: 0.8775\n",
            "When c= 0.01, Precision: 0.8793969849246231\n",
            "When c= 0.01, Recall: 0.875\n",
            "When c= 0.01, F1 Score: 0.8771929824561404\n",
            "When c= 0.1, Accuracy: 0.85\n",
            "When c= 0.1, Precision: 0.8535353535353535\n",
            "When c= 0.1, Recall: 0.845\n",
            "When c= 0.1, F1 Score: 0.8492462311557788\n",
            "When c= 1, Accuracy: 0.845\n",
            "When c= 1, Precision: 0.8556701030927835\n",
            "When c= 1, Recall: 0.83\n",
            "When c= 1, F1 Score: 0.8426395939086294\n",
            "When c= 10.0, Accuracy: 0.845\n",
            "When c= 10.0, Precision: 0.8556701030927835\n",
            "When c= 10.0, Recall: 0.83\n",
            "When c= 10.0, F1 Score: 0.8426395939086294\n",
            "When c= 100.0, Accuracy: 0.845\n",
            "When c= 100.0, Precision: 0.8556701030927835\n",
            "When c= 100.0, Recall: 0.83\n",
            "When c= 100.0, F1 Score: 0.8426395939086294\n",
            "CPU times: user 18.5 s, sys: 986 µs, total: 18.5 s\n",
            "Wall time: 18.5 s\n",
            "\n",
            "Best of the C value: 0.01 \n",
            "\n",
            "[0.8825 0.8685 0.8665 0.8665 0.8665]\n"
          ],
          "name": "stdout"
        }
      ]
    },
    {
      "cell_type": "markdown",
      "metadata": {
        "id": "7WHoXGdUDDqL",
        "colab_type": "text"
      },
      "source": [
        "**After selecting optimal C value**"
      ]
    },
    {
      "cell_type": "code",
      "metadata": {
        "id": "2nPUZpoGDDIo",
        "colab_type": "code",
        "outputId": "3d843f0c-d9da-4bf7-d170-83820b7ac118",
        "colab": {
          "base_uri": "https://localhost:8080/",
          "height": 170
        }
      },
      "source": [
        "c  = [ cs[best] ] \n",
        "model = class_svm()\n",
        "fold = [inception_features_train, inception_features_test, superclass_labels_train, superclass_labels_test]\n",
        "%time model.train_soft_margin_svm(fold, c)"
      ],
      "execution_count": 0,
      "outputs": [
        {
          "output_type": "stream",
          "text": [
            "When c= 0.01, Accuracy: 0.8925\n",
            "When c= 0.01, Precision: 0.8792270531400966\n",
            "When c= 0.01, Recall: 0.91\n",
            "When c= 0.01, F1 Score: 0.8943488943488944\n",
            "[[175  25]\n",
            " [ 18 182]]\n",
            "\n",
            "CPU times: user 5.84 s, sys: 15 ms, total: 5.85 s\n",
            "Wall time: 5.85 s\n"
          ],
          "name": "stdout"
        }
      ]
    },
    {
      "cell_type": "markdown",
      "metadata": {
        "id": "lFR0AFM2FFn3",
        "colab_type": "text"
      },
      "source": [
        "# 1.5 Train a hard margin SVM with radial basis function (rbf) kernel."
      ]
    },
    {
      "cell_type": "code",
      "metadata": {
        "id": "tn20UGDgFIR4",
        "colab_type": "code",
        "outputId": "e7a50c77-3353-4798-dd1c-cf57010b93c8",
        "colab": {
          "base_uri": "https://localhost:8080/",
          "height": 1000
        }
      },
      "source": [
        "gamas  = [2**-4, 2**-3, 2**-2, 2**-1 , 2**0, 2**1, 2**6]\n",
        "print(gamas)\n",
        "model = class_svm()\n",
        "result = model.stratified_k_fold(features= hog_features_train, labels = superclass_labels_train, k=5)\n",
        "f1s = []\n",
        "for i in range (len(result)):\n",
        "  print('Fold {} is processing...'.format(i+1))\n",
        "  %time f1 = model.train_hard_margin_svm(result[i], gamas)\n",
        "  f1s.append(f1)\n",
        "  print()\n",
        "\n",
        "avg_f1 = np.average(f1s, axis=0)\n",
        "ind_arr = np.where(avg_f1 == max(avg_f1))\n",
        "best = ind_arr[0][0]\n",
        "print(\"Best of the Gamma value: {} \\n\".format(gamas[best]))\n",
        "print(avg_f1)"
      ],
      "execution_count": 7,
      "outputs": [
        {
          "output_type": "stream",
          "text": [
            "[0.0625, 0.125, 0.25, 0.5, 1, 2, 64]\n",
            "Fold 1 is processing...\n",
            "When gamma= 0.0625, Accuracy: 0.6525\n",
            "When gamma= 0.0625, Precision: 0.6564102564102564\n",
            "When gamma= 0.0625, Recall: 0.64\n",
            "When gamma= 0.0625, F1 Score: 0.6481012658227848\n",
            "When gamma= 0.125, Accuracy: 0.6425\n",
            "When gamma= 0.125, Precision: 0.6476683937823834\n",
            "When gamma= 0.125, Recall: 0.625\n",
            "When gamma= 0.125, F1 Score: 0.6361323155216284\n",
            "When gamma= 0.25, Accuracy: 0.6625\n",
            "When gamma= 0.25, Precision: 0.6666666666666666\n",
            "When gamma= 0.25, Recall: 0.65\n",
            "When gamma= 0.25, F1 Score: 0.6582278481012659\n",
            "When gamma= 0.5, Accuracy: 0.6975\n",
            "When gamma= 0.5, Precision: 0.7046632124352331\n",
            "When gamma= 0.5, Recall: 0.68\n",
            "When gamma= 0.5, F1 Score: 0.6921119592875319\n",
            "When gamma= 1, Accuracy: 0.72\n",
            "When gamma= 1, Precision: 0.7315789473684211\n",
            "When gamma= 1, Recall: 0.695\n",
            "When gamma= 1, F1 Score: 0.7128205128205127\n",
            "When gamma= 2, Accuracy: 0.715\n",
            "When gamma= 2, Precision: 0.7107843137254902\n",
            "When gamma= 2, Recall: 0.725\n",
            "When gamma= 2, F1 Score: 0.7178217821782179\n",
            "When gamma= 64, Accuracy: 0.5025\n",
            "When gamma= 64, Precision: 0.5012531328320802\n",
            "When gamma= 64, Recall: 1.0\n",
            "When gamma= 64, F1 Score: 0.667779632721202\n",
            "CPU times: user 12.1 s, sys: 0 ns, total: 12.1 s\n",
            "Wall time: 12.1 s\n",
            "\n",
            "Fold 2 is processing...\n",
            "When gamma= 0.0625, Accuracy: 0.6775\n",
            "When gamma= 0.0625, Precision: 0.6858638743455497\n",
            "When gamma= 0.0625, Recall: 0.655\n",
            "When gamma= 0.0625, F1 Score: 0.670076726342711\n",
            "When gamma= 0.125, Accuracy: 0.6925\n",
            "When gamma= 0.125, Precision: 0.7015706806282722\n",
            "When gamma= 0.125, Recall: 0.67\n",
            "When gamma= 0.125, F1 Score: 0.6854219948849105\n",
            "When gamma= 0.25, Accuracy: 0.7\n",
            "When gamma= 0.25, Precision: 0.7105263157894737\n",
            "When gamma= 0.25, Recall: 0.675\n",
            "When gamma= 0.25, F1 Score: 0.6923076923076923\n",
            "When gamma= 0.5, Accuracy: 0.715\n",
            "When gamma= 0.5, Precision: 0.7216494845360825\n",
            "When gamma= 0.5, Recall: 0.7\n",
            "When gamma= 0.5, F1 Score: 0.7106598984771574\n",
            "When gamma= 1, Accuracy: 0.7475\n",
            "When gamma= 1, Precision: 0.7438423645320197\n",
            "When gamma= 1, Recall: 0.755\n",
            "When gamma= 1, F1 Score: 0.7493796526054591\n",
            "When gamma= 2, Accuracy: 0.7175\n",
            "When gamma= 2, Precision: 0.7101449275362319\n",
            "When gamma= 2, Recall: 0.735\n",
            "When gamma= 2, F1 Score: 0.7223587223587223\n",
            "When gamma= 64, Accuracy: 0.5025\n",
            "When gamma= 64, Precision: 0.5012531328320802\n",
            "When gamma= 64, Recall: 1.0\n",
            "When gamma= 64, F1 Score: 0.667779632721202\n",
            "CPU times: user 12 s, sys: 5.95 ms, total: 12 s\n",
            "Wall time: 12 s\n",
            "\n",
            "Fold 3 is processing...\n",
            "When gamma= 0.0625, Accuracy: 0.695\n",
            "When gamma= 0.0625, Precision: 0.6989795918367347\n",
            "When gamma= 0.0625, Recall: 0.685\n",
            "When gamma= 0.0625, F1 Score: 0.691919191919192\n",
            "When gamma= 0.125, Accuracy: 0.695\n",
            "When gamma= 0.125, Precision: 0.6989795918367347\n",
            "When gamma= 0.125, Recall: 0.685\n",
            "When gamma= 0.125, F1 Score: 0.691919191919192\n",
            "When gamma= 0.25, Accuracy: 0.69\n",
            "When gamma= 0.25, Precision: 0.6919191919191919\n",
            "When gamma= 0.25, Recall: 0.685\n",
            "When gamma= 0.25, F1 Score: 0.6884422110552764\n",
            "When gamma= 0.5, Accuracy: 0.6925\n",
            "When gamma= 0.5, Precision: 0.6954314720812182\n",
            "When gamma= 0.5, Recall: 0.685\n",
            "When gamma= 0.5, F1 Score: 0.690176322418136\n",
            "When gamma= 1, Accuracy: 0.6925\n",
            "When gamma= 1, Precision: 0.6934673366834171\n",
            "When gamma= 1, Recall: 0.69\n",
            "When gamma= 1, F1 Score: 0.6917293233082705\n",
            "When gamma= 2, Accuracy: 0.7025\n",
            "When gamma= 2, Precision: 0.69377990430622\n",
            "When gamma= 2, Recall: 0.725\n",
            "When gamma= 2, F1 Score: 0.7090464547677262\n",
            "When gamma= 64, Accuracy: 0.5\n",
            "When gamma= 64, Precision: 0.5\n",
            "When gamma= 64, Recall: 1.0\n",
            "When gamma= 64, F1 Score: 0.6666666666666666\n",
            "CPU times: user 12 s, sys: 4.04 ms, total: 12 s\n",
            "Wall time: 12 s\n",
            "\n",
            "Fold 4 is processing...\n",
            "When gamma= 0.0625, Accuracy: 0.68\n",
            "When gamma= 0.0625, Precision: 0.6875\n",
            "When gamma= 0.0625, Recall: 0.66\n",
            "When gamma= 0.0625, F1 Score: 0.673469387755102\n",
            "When gamma= 0.125, Accuracy: 0.6875\n",
            "When gamma= 0.125, Precision: 0.6923076923076923\n",
            "When gamma= 0.125, Recall: 0.675\n",
            "When gamma= 0.125, F1 Score: 0.6835443037974683\n",
            "When gamma= 0.25, Accuracy: 0.7\n",
            "When gamma= 0.25, Precision: 0.7061855670103093\n",
            "When gamma= 0.25, Recall: 0.685\n",
            "When gamma= 0.25, F1 Score: 0.6954314720812182\n",
            "When gamma= 0.5, Accuracy: 0.7025\n",
            "When gamma= 0.5, Precision: 0.7120418848167539\n",
            "When gamma= 0.5, Recall: 0.68\n",
            "When gamma= 0.5, F1 Score: 0.6956521739130435\n",
            "When gamma= 1, Accuracy: 0.7175\n",
            "When gamma= 1, Precision: 0.7142857142857143\n",
            "When gamma= 1, Recall: 0.725\n",
            "When gamma= 1, F1 Score: 0.7196029776674938\n",
            "When gamma= 2, Accuracy: 0.6875\n",
            "When gamma= 2, Precision: 0.669683257918552\n",
            "When gamma= 2, Recall: 0.74\n",
            "When gamma= 2, F1 Score: 0.7030878859857481\n",
            "When gamma= 64, Accuracy: 0.5\n",
            "When gamma= 64, Precision: 0.5\n",
            "When gamma= 64, Recall: 1.0\n",
            "When gamma= 64, F1 Score: 0.6666666666666666\n",
            "CPU times: user 12 s, sys: 6.52 ms, total: 12 s\n",
            "Wall time: 12 s\n",
            "\n",
            "Fold 5 is processing...\n",
            "When gamma= 0.0625, Accuracy: 0.655\n",
            "When gamma= 0.0625, Precision: 0.6597938144329897\n",
            "When gamma= 0.0625, Recall: 0.64\n",
            "When gamma= 0.0625, F1 Score: 0.6497461928934011\n",
            "When gamma= 0.125, Accuracy: 0.665\n",
            "When gamma= 0.125, Precision: 0.6736842105263158\n",
            "When gamma= 0.125, Recall: 0.64\n",
            "When gamma= 0.125, F1 Score: 0.6564102564102564\n",
            "When gamma= 0.25, Accuracy: 0.6675\n",
            "When gamma= 0.25, Precision: 0.6735751295336787\n",
            "When gamma= 0.25, Recall: 0.65\n",
            "When gamma= 0.25, F1 Score: 0.6615776081424936\n",
            "When gamma= 0.5, Accuracy: 0.6825\n",
            "When gamma= 0.5, Precision: 0.6910994764397905\n",
            "When gamma= 0.5, Recall: 0.66\n",
            "When gamma= 0.5, F1 Score: 0.6751918158567775\n",
            "When gamma= 1, Accuracy: 0.6875\n",
            "When gamma= 1, Precision: 0.6923076923076923\n",
            "When gamma= 1, Recall: 0.675\n",
            "When gamma= 1, F1 Score: 0.6835443037974683\n",
            "When gamma= 2, Accuracy: 0.665\n",
            "When gamma= 2, Precision: 0.6486486486486487\n",
            "When gamma= 2, Recall: 0.72\n",
            "When gamma= 2, F1 Score: 0.6824644549763034\n",
            "When gamma= 64, Accuracy: 0.505\n",
            "When gamma= 64, Precision: 0.5025125628140703\n",
            "When gamma= 64, Recall: 1.0\n",
            "When gamma= 64, F1 Score: 0.6688963210702341\n",
            "CPU times: user 12 s, sys: 6.55 ms, total: 12 s\n",
            "Wall time: 12 s\n",
            "\n",
            "Best of the Gamma value: 1 \n",
            "\n",
            "[0.672  0.6765 0.684  0.698  0.713  0.6975 0.502 ]\n"
          ],
          "name": "stdout"
        }
      ]
    },
    {
      "cell_type": "markdown",
      "metadata": {
        "id": "oAifCFUiH4jo",
        "colab_type": "text"
      },
      "source": [
        "**After selecting optimal Gamma value**"
      ]
    },
    {
      "cell_type": "code",
      "metadata": {
        "id": "zUuXP1T6H6rO",
        "colab_type": "code",
        "outputId": "d2328b69-a573-4734-81b3-40999ad886c5",
        "colab": {
          "base_uri": "https://localhost:8080/",
          "height": 170
        }
      },
      "source": [
        "gama  = [ gamas[best] ]\n",
        "model = class_svm()\n",
        "fold = [hog_features_train, hog_features_test, superclass_labels_train, superclass_labels_test]\n",
        "%time model.train_hard_margin_svm(fold, gama)"
      ],
      "execution_count": 8,
      "outputs": [
        {
          "output_type": "stream",
          "text": [
            "When gamma= 1, Accuracy: 0.7225\n",
            "When gamma= 1, Precision: 0.7192118226600985\n",
            "When gamma= 1, Recall: 0.73\n",
            "When gamma= 1, F1 Score: 0.7245657568238213\n",
            "[[143  57]\n",
            " [ 54 146]]\n",
            "\n",
            "CPU times: user 2.51 s, sys: 27 ms, total: 2.54 s\n",
            "Wall time: 2.54 s\n"
          ],
          "name": "stdout"
        }
      ]
    },
    {
      "cell_type": "markdown",
      "metadata": {
        "id": "oLB1HFqqIjh0",
        "colab_type": "text"
      },
      "source": [
        "# Doing everything for the neural network generated features"
      ]
    },
    {
      "cell_type": "code",
      "metadata": {
        "id": "u-6pdQ75Iz8A",
        "colab_type": "code",
        "outputId": "e43e2118-316f-4fec-c476-c42052138e8a",
        "colab": {
          "base_uri": "https://localhost:8080/",
          "height": 1000
        }
      },
      "source": [
        "gamas  = [2**-4, 2**-3, 2**-2, 2**-1 , 2**0, 2**1, 2**6]\n",
        "print(gamas)\n",
        "model = class_svm()\n",
        "result = model.stratified_k_fold(features= inception_features_train, labels = superclass_labels_train, k=5)\n",
        "f1s = []\n",
        "for i in range (len(result)):\n",
        "  print('Fold {} is processing...'.format(i+1))\n",
        "  %time f1 = model.train_hard_margin_svm(result[i], gamas)\n",
        "  f1s.append(f1)\n",
        "  print()\n",
        "\n",
        "avg_f1 = np.average(f1s, axis=0)\n",
        "ind_arr = np.where(avg_f1 == max(avg_f1))\n",
        "best = ind_arr[0][0]\n",
        "print(\"Best of the Gamma value: {} \\n\".format(gamas[best]))\n",
        "print(avg_f1)\n"
      ],
      "execution_count": 9,
      "outputs": [
        {
          "output_type": "stream",
          "text": [
            "[0.0625, 0.125, 0.25, 0.5, 1, 2, 64]\n",
            "Fold 1 is processing...\n",
            "When gamma= 0.0625, Accuracy: 0.615\n",
            "When gamma= 0.0625, Precision: 0.5657142857142857\n",
            "When gamma= 0.0625, Recall: 0.99\n",
            "When gamma= 0.0625, F1 Score: 0.72\n",
            "When gamma= 0.125, Accuracy: 0.5175\n",
            "When gamma= 0.125, Precision: 0.8888888888888888\n",
            "When gamma= 0.125, Recall: 0.04\n",
            "When gamma= 0.125, F1 Score: 0.07655502392344497\n",
            "When gamma= 0.25, Accuracy: 0.5\n",
            "When gamma= 0.25, Precision: 0.5\n",
            "When gamma= 0.25, Recall: 0.005\n",
            "When gamma= 0.25, F1 Score: 0.009900990099009901\n"
          ],
          "name": "stdout"
        },
        {
          "output_type": "stream",
          "text": [
            "/usr/local/lib/python3.6/dist-packages/sklearn/metrics/_classification.py:1272: UndefinedMetricWarning: Precision is ill-defined and being set to 0.0 due to no predicted samples. Use `zero_division` parameter to control this behavior.\n",
            "  _warn_prf(average, modifier, msg_start, len(result))\n"
          ],
          "name": "stderr"
        },
        {
          "output_type": "stream",
          "text": [
            "When gamma= 0.5, Accuracy: 0.5\n",
            "When gamma= 0.5, Precision: 0.0\n",
            "When gamma= 0.5, Recall: 0.0\n",
            "When gamma= 0.5, F1 Score: 0.0\n"
          ],
          "name": "stdout"
        },
        {
          "output_type": "stream",
          "text": [
            "/usr/local/lib/python3.6/dist-packages/sklearn/metrics/_classification.py:1272: UndefinedMetricWarning: Precision is ill-defined and being set to 0.0 due to no predicted samples. Use `zero_division` parameter to control this behavior.\n",
            "  _warn_prf(average, modifier, msg_start, len(result))\n"
          ],
          "name": "stderr"
        },
        {
          "output_type": "stream",
          "text": [
            "When gamma= 1, Accuracy: 0.5\n",
            "When gamma= 1, Precision: 0.0\n",
            "When gamma= 1, Recall: 0.0\n",
            "When gamma= 1, F1 Score: 0.0\n"
          ],
          "name": "stdout"
        },
        {
          "output_type": "stream",
          "text": [
            "/usr/local/lib/python3.6/dist-packages/sklearn/metrics/_classification.py:1272: UndefinedMetricWarning: Precision is ill-defined and being set to 0.0 due to no predicted samples. Use `zero_division` parameter to control this behavior.\n",
            "  _warn_prf(average, modifier, msg_start, len(result))\n"
          ],
          "name": "stderr"
        },
        {
          "output_type": "stream",
          "text": [
            "When gamma= 2, Accuracy: 0.5\n",
            "When gamma= 2, Precision: 0.0\n",
            "When gamma= 2, Recall: 0.0\n",
            "When gamma= 2, F1 Score: 0.0\n",
            "When gamma= 64, Accuracy: 0.5\n",
            "When gamma= 64, Precision: 0.5\n",
            "When gamma= 64, Recall: 1.0\n",
            "When gamma= 64, F1 Score: 0.6666666666666666\n",
            "CPU times: user 1min 16s, sys: 40.1 ms, total: 1min 16s\n",
            "Wall time: 1min 16s\n",
            "\n",
            "Fold 2 is processing...\n",
            "When gamma= 0.0625, Accuracy: 0.55\n",
            "When gamma= 0.0625, Precision: 0.526595744680851\n",
            "When gamma= 0.0625, Recall: 0.99\n",
            "When gamma= 0.0625, F1 Score: 0.6875000000000001\n",
            "When gamma= 0.125, Accuracy: 0.52\n",
            "When gamma= 0.125, Precision: 0.5102040816326531\n",
            "When gamma= 0.125, Recall: 1.0\n",
            "When gamma= 0.125, F1 Score: 0.6756756756756758\n",
            "When gamma= 0.25, Accuracy: 0.5075\n",
            "When gamma= 0.25, Precision: 0.5037783375314862\n",
            "When gamma= 0.25, Recall: 1.0\n",
            "When gamma= 0.25, F1 Score: 0.6700167504187605\n",
            "When gamma= 0.5, Accuracy: 0.5025\n",
            "When gamma= 0.5, Precision: 0.5012531328320802\n",
            "When gamma= 0.5, Recall: 1.0\n",
            "When gamma= 0.5, F1 Score: 0.667779632721202\n",
            "When gamma= 1, Accuracy: 0.5025\n",
            "When gamma= 1, Precision: 0.5012531328320802\n",
            "When gamma= 1, Recall: 1.0\n",
            "When gamma= 1, F1 Score: 0.667779632721202\n",
            "When gamma= 2, Accuracy: 0.5025\n",
            "When gamma= 2, Precision: 0.5012531328320802\n",
            "When gamma= 2, Recall: 1.0\n",
            "When gamma= 2, F1 Score: 0.667779632721202\n",
            "When gamma= 64, Accuracy: 0.5\n",
            "When gamma= 64, Precision: 0.5\n",
            "When gamma= 64, Recall: 1.0\n",
            "When gamma= 64, F1 Score: 0.6666666666666666\n",
            "CPU times: user 1min 16s, sys: 15.7 ms, total: 1min 16s\n",
            "Wall time: 1min 16s\n",
            "\n",
            "Fold 3 is processing...\n",
            "When gamma= 0.0625, Accuracy: 0.5675\n",
            "When gamma= 0.0625, Precision: 0.5363881401617251\n",
            "When gamma= 0.0625, Recall: 0.995\n",
            "When gamma= 0.0625, F1 Score: 0.6970227670753065\n",
            "When gamma= 0.125, Accuracy: 0.5325\n",
            "When gamma= 0.125, Precision: 0.5167958656330749\n",
            "When gamma= 0.125, Recall: 1.0\n",
            "When gamma= 0.125, F1 Score: 0.6814310051107325\n",
            "When gamma= 0.25, Accuracy: 0.505\n",
            "When gamma= 0.25, Precision: 1.0\n",
            "When gamma= 0.25, Recall: 0.01\n",
            "When gamma= 0.25, F1 Score: 0.019801980198019802\n"
          ],
          "name": "stdout"
        },
        {
          "output_type": "stream",
          "text": [
            "/usr/local/lib/python3.6/dist-packages/sklearn/metrics/_classification.py:1272: UndefinedMetricWarning: Precision is ill-defined and being set to 0.0 due to no predicted samples. Use `zero_division` parameter to control this behavior.\n",
            "  _warn_prf(average, modifier, msg_start, len(result))\n"
          ],
          "name": "stderr"
        },
        {
          "output_type": "stream",
          "text": [
            "When gamma= 0.5, Accuracy: 0.5\n",
            "When gamma= 0.5, Precision: 0.0\n",
            "When gamma= 0.5, Recall: 0.0\n",
            "When gamma= 0.5, F1 Score: 0.0\n"
          ],
          "name": "stdout"
        },
        {
          "output_type": "stream",
          "text": [
            "/usr/local/lib/python3.6/dist-packages/sklearn/metrics/_classification.py:1272: UndefinedMetricWarning: Precision is ill-defined and being set to 0.0 due to no predicted samples. Use `zero_division` parameter to control this behavior.\n",
            "  _warn_prf(average, modifier, msg_start, len(result))\n"
          ],
          "name": "stderr"
        },
        {
          "output_type": "stream",
          "text": [
            "When gamma= 1, Accuracy: 0.5\n",
            "When gamma= 1, Precision: 0.0\n",
            "When gamma= 1, Recall: 0.0\n",
            "When gamma= 1, F1 Score: 0.0\n"
          ],
          "name": "stdout"
        },
        {
          "output_type": "stream",
          "text": [
            "/usr/local/lib/python3.6/dist-packages/sklearn/metrics/_classification.py:1272: UndefinedMetricWarning: Precision is ill-defined and being set to 0.0 due to no predicted samples. Use `zero_division` parameter to control this behavior.\n",
            "  _warn_prf(average, modifier, msg_start, len(result))\n"
          ],
          "name": "stderr"
        },
        {
          "output_type": "stream",
          "text": [
            "When gamma= 2, Accuracy: 0.5\n",
            "When gamma= 2, Precision: 0.0\n",
            "When gamma= 2, Recall: 0.0\n",
            "When gamma= 2, F1 Score: 0.0\n",
            "When gamma= 64, Accuracy: 0.5\n",
            "When gamma= 64, Precision: 0.5\n",
            "When gamma= 64, Recall: 1.0\n",
            "When gamma= 64, F1 Score: 0.6666666666666666\n",
            "CPU times: user 1min 16s, sys: 16.9 ms, total: 1min 16s\n",
            "Wall time: 1min 16s\n",
            "\n",
            "Fold 4 is processing...\n",
            "When gamma= 0.0625, Accuracy: 0.6075\n",
            "When gamma= 0.0625, Precision: 0.5605633802816902\n",
            "When gamma= 0.0625, Recall: 0.995\n",
            "When gamma= 0.0625, F1 Score: 0.7171171171171171\n",
            "When gamma= 0.125, Accuracy: 0.5175\n",
            "When gamma= 0.125, Precision: 0.5089514066496164\n",
            "When gamma= 0.125, Recall: 0.995\n",
            "When gamma= 0.125, F1 Score: 0.6734348561759729\n",
            "When gamma= 0.25, Accuracy: 0.5025\n",
            "When gamma= 0.25, Precision: 0.5012531328320802\n",
            "When gamma= 0.25, Recall: 1.0\n",
            "When gamma= 0.25, F1 Score: 0.667779632721202\n",
            "When gamma= 0.5, Accuracy: 0.5025\n",
            "When gamma= 0.5, Precision: 0.5012531328320802\n",
            "When gamma= 0.5, Recall: 1.0\n",
            "When gamma= 0.5, F1 Score: 0.667779632721202\n",
            "When gamma= 1, Accuracy: 0.5025\n",
            "When gamma= 1, Precision: 0.5012531328320802\n",
            "When gamma= 1, Recall: 1.0\n",
            "When gamma= 1, F1 Score: 0.667779632721202\n",
            "When gamma= 2, Accuracy: 0.5025\n",
            "When gamma= 2, Precision: 0.5012531328320802\n",
            "When gamma= 2, Recall: 1.0\n",
            "When gamma= 2, F1 Score: 0.667779632721202\n",
            "When gamma= 64, Accuracy: 0.5\n",
            "When gamma= 64, Precision: 0.5\n",
            "When gamma= 64, Recall: 1.0\n",
            "When gamma= 64, F1 Score: 0.6666666666666666\n",
            "CPU times: user 1min 16s, sys: 16.9 ms, total: 1min 16s\n",
            "Wall time: 1min 16s\n",
            "\n",
            "Fold 5 is processing...\n",
            "When gamma= 0.0625, Accuracy: 0.62\n",
            "When gamma= 0.0625, Precision: 0.5689655172413793\n",
            "When gamma= 0.0625, Recall: 0.99\n",
            "When gamma= 0.0625, F1 Score: 0.7226277372262774\n",
            "When gamma= 0.125, Accuracy: 0.5225\n",
            "When gamma= 0.125, Precision: 0.5115681233933161\n",
            "When gamma= 0.125, Recall: 0.995\n",
            "When gamma= 0.125, F1 Score: 0.6757215619694397\n",
            "When gamma= 0.25, Accuracy: 0.5025\n",
            "When gamma= 0.25, Precision: 0.5012594458438288\n",
            "When gamma= 0.25, Recall: 0.995\n",
            "When gamma= 0.25, F1 Score: 0.6666666666666667\n",
            "When gamma= 0.5, Accuracy: 0.5025\n",
            "When gamma= 0.5, Precision: 1.0\n",
            "When gamma= 0.5, Recall: 0.005\n",
            "When gamma= 0.5, F1 Score: 0.009950248756218907\n"
          ],
          "name": "stdout"
        },
        {
          "output_type": "stream",
          "text": [
            "/usr/local/lib/python3.6/dist-packages/sklearn/metrics/_classification.py:1272: UndefinedMetricWarning: Precision is ill-defined and being set to 0.0 due to no predicted samples. Use `zero_division` parameter to control this behavior.\n",
            "  _warn_prf(average, modifier, msg_start, len(result))\n"
          ],
          "name": "stderr"
        },
        {
          "output_type": "stream",
          "text": [
            "When gamma= 1, Accuracy: 0.5\n",
            "When gamma= 1, Precision: 0.0\n",
            "When gamma= 1, Recall: 0.0\n",
            "When gamma= 1, F1 Score: 0.0\n"
          ],
          "name": "stdout"
        },
        {
          "output_type": "stream",
          "text": [
            "/usr/local/lib/python3.6/dist-packages/sklearn/metrics/_classification.py:1272: UndefinedMetricWarning: Precision is ill-defined and being set to 0.0 due to no predicted samples. Use `zero_division` parameter to control this behavior.\n",
            "  _warn_prf(average, modifier, msg_start, len(result))\n"
          ],
          "name": "stderr"
        },
        {
          "output_type": "stream",
          "text": [
            "When gamma= 2, Accuracy: 0.5\n",
            "When gamma= 2, Precision: 0.0\n",
            "When gamma= 2, Recall: 0.0\n",
            "When gamma= 2, F1 Score: 0.0\n",
            "When gamma= 64, Accuracy: 0.5\n",
            "When gamma= 64, Precision: 0.5\n",
            "When gamma= 64, Recall: 1.0\n",
            "When gamma= 64, F1 Score: 0.6666666666666666\n",
            "CPU times: user 1min 16s, sys: 19.9 ms, total: 1min 16s\n",
            "Wall time: 1min 16s\n",
            "\n",
            "Best of the Gamma value: 0.0625 \n",
            "\n",
            "[0.592  0.522  0.5035 0.5015 0.501  0.501  0.5   ]\n"
          ],
          "name": "stdout"
        }
      ]
    },
    {
      "cell_type": "code",
      "metadata": {
        "id": "iUegyuysI28V",
        "colab_type": "code",
        "outputId": "e0f596ac-4deb-45f0-d26a-77fede2c0342",
        "colab": {
          "base_uri": "https://localhost:8080/",
          "height": 170
        }
      },
      "source": [
        "gama  = [ gamas[best] ]\n",
        "model = class_svm()\n",
        "fold = [inception_features_train, inception_features_test, superclass_labels_train, superclass_labels_test]\n",
        "%time model.train_hard_margin_svm(fold, gama)"
      ],
      "execution_count": 10,
      "outputs": [
        {
          "output_type": "stream",
          "text": [
            "When gamma= 0.0625, Accuracy: 0.5875\n",
            "When gamma= 0.0625, Precision: 0.547945205479452\n",
            "When gamma= 0.0625, Recall: 1.0\n",
            "When gamma= 0.0625, F1 Score: 0.7079646017699115\n",
            "[[ 35 165]\n",
            " [  0 200]]\n",
            "\n",
            "CPU times: user 16.4 s, sys: 23 ms, total: 16.5 s\n",
            "Wall time: 16.5 s\n"
          ],
          "name": "stdout"
        }
      ]
    },
    {
      "cell_type": "markdown",
      "metadata": {
        "id": "KYbH2OoNchUW",
        "colab_type": "text"
      },
      "source": [
        "# 1.6 Train a soft margin SVM with radial basis function (rbf) as kernel."
      ]
    },
    {
      "cell_type": "code",
      "metadata": {
        "id": "Yp-Z3QK0ckjn",
        "colab_type": "code",
        "outputId": "0bca83b2-35d9-4182-945c-f509425dfd1d",
        "colab": {
          "base_uri": "https://localhost:8080/",
          "height": 1000
        }
      },
      "source": [
        "gamas = [2**-2, 2**1, 2**6]\n",
        "cs  = [1e-2, 1, 1e2]\n",
        "model = class_svm()\n",
        "result = model.stratified_k_fold(features= hog_features_train, labels = superclass_labels_train, k=5)\n",
        "f1s = []\n",
        "for i in range (len(result)):\n",
        "  print('Fold {} is processing...'.format(i+1))\n",
        "  %time best = model.train_soft_margin_svm_last(result[i], gamas , cs)\n",
        "  f1s.append(best)\n",
        "\n",
        "avg_f1 = np.average(f1s, axis=0)\n",
        "ind_arr = np.where(avg_f1 == max(avg_f1))\n",
        "ind = ind_arr[0][0]\n",
        "print(\"Best of the Gamma value: {}, C value: {} \\n\".format(gamas[ind%3], cs [int(ind/3)]))\n",
        "print(avg_f1)"
      ],
      "execution_count": 0,
      "outputs": [
        {
          "output_type": "stream",
          "text": [
            "Fold 1 is processing...\n",
            "When gamma= 0.25, c = 0.01, Accuracy: 0.6725\n",
            "When gamma= 0.25, c = 0.01, Precision: 0.6844919786096256\n",
            "When gamma= 0.25, c = 0.01, Recall: 0.64\n",
            "When gamma= 0.25, c = 0.01, F1 Score: 0.661498708010336\n",
            "\n",
            "When gamma= 2, c = 0.01, Accuracy: 0.6875\n",
            "When gamma= 2, c = 0.01, Precision: 0.6794258373205742\n",
            "When gamma= 2, c = 0.01, Recall: 0.71\n",
            "When gamma= 2, c = 0.01, F1 Score: 0.6943765281173594\n",
            "\n",
            "When gamma= 64, c = 0.01, Accuracy: 0.5\n",
            "When gamma= 64, c = 0.01, Precision: 0.5\n",
            "When gamma= 64, c = 0.01, Recall: 1.0\n",
            "When gamma= 64, c = 0.01, F1 Score: 0.6666666666666666\n",
            "\n",
            "When gamma= 0.25, c = 1, Accuracy: 0.7075\n",
            "When gamma= 0.25, c = 1, Precision: 0.7150259067357513\n",
            "When gamma= 0.25, c = 1, Recall: 0.69\n",
            "When gamma= 0.25, c = 1, F1 Score: 0.7022900763358778\n",
            "\n",
            "When gamma= 2, c = 1, Accuracy: 0.71\n",
            "When gamma= 2, c = 1, Precision: 0.6981132075471698\n",
            "When gamma= 2, c = 1, Recall: 0.74\n",
            "When gamma= 2, c = 1, F1 Score: 0.7184466019417476\n",
            "\n",
            "When gamma= 64, c = 1, Accuracy: 0.5\n",
            "When gamma= 64, c = 1, Precision: 0.5\n",
            "When gamma= 64, c = 1, Recall: 1.0\n",
            "When gamma= 64, c = 1, F1 Score: 0.6666666666666666\n",
            "\n",
            "When gamma= 0.25, c = 100.0, Accuracy: 0.69\n",
            "When gamma= 0.25, c = 100.0, Precision: 0.6958762886597938\n",
            "When gamma= 0.25, c = 100.0, Recall: 0.675\n",
            "When gamma= 0.25, c = 100.0, F1 Score: 0.6852791878172588\n",
            "\n",
            "When gamma= 2, c = 100.0, Accuracy: 0.72\n",
            "When gamma= 2, c = 100.0, Precision: 0.7075471698113207\n",
            "When gamma= 2, c = 100.0, Recall: 0.75\n",
            "When gamma= 2, c = 100.0, F1 Score: 0.7281553398058253\n",
            "\n",
            "When gamma= 64, c = 100.0, Accuracy: 0.5\n",
            "When gamma= 64, c = 100.0, Precision: 0.5\n",
            "When gamma= 64, c = 100.0, Recall: 1.0\n",
            "When gamma= 64, c = 100.0, F1 Score: 0.6666666666666666\n",
            "\n",
            "CPU times: user 14.7 s, sys: 8 ms, total: 14.7 s\n",
            "Wall time: 14.7 s\n",
            "Fold 2 is processing...\n",
            "When gamma= 0.25, c = 0.01, Accuracy: 0.64\n",
            "When gamma= 0.25, c = 0.01, Precision: 0.6971830985915493\n",
            "When gamma= 0.25, c = 0.01, Recall: 0.495\n",
            "When gamma= 0.25, c = 0.01, F1 Score: 0.5789473684210527\n",
            "\n",
            "When gamma= 2, c = 0.01, Accuracy: 0.66\n",
            "When gamma= 2, c = 0.01, Precision: 0.6666666666666666\n",
            "When gamma= 2, c = 0.01, Recall: 0.64\n",
            "When gamma= 2, c = 0.01, F1 Score: 0.6530612244897959\n",
            "\n",
            "When gamma= 64, c = 0.01, Accuracy: 0.5025\n",
            "When gamma= 64, c = 0.01, Precision: 0.5012531328320802\n",
            "When gamma= 64, c = 0.01, Recall: 1.0\n",
            "When gamma= 64, c = 0.01, F1 Score: 0.667779632721202\n",
            "\n",
            "When gamma= 0.25, c = 1, Accuracy: 0.6875\n",
            "When gamma= 0.25, c = 1, Precision: 0.7027027027027027\n",
            "When gamma= 0.25, c = 1, Recall: 0.65\n",
            "When gamma= 0.25, c = 1, F1 Score: 0.6753246753246753\n",
            "\n",
            "When gamma= 2, c = 1, Accuracy: 0.695\n",
            "When gamma= 2, c = 1, Precision: 0.6857142857142857\n",
            "When gamma= 2, c = 1, Recall: 0.72\n",
            "When gamma= 2, c = 1, F1 Score: 0.702439024390244\n",
            "\n",
            "When gamma= 64, c = 1, Accuracy: 0.5025\n",
            "When gamma= 64, c = 1, Precision: 0.5012531328320802\n",
            "When gamma= 64, c = 1, Recall: 1.0\n",
            "When gamma= 64, c = 1, F1 Score: 0.667779632721202\n",
            "\n",
            "When gamma= 0.25, c = 100.0, Accuracy: 0.6875\n",
            "When gamma= 0.25, c = 100.0, Precision: 0.6811594202898551\n",
            "When gamma= 0.25, c = 100.0, Recall: 0.705\n",
            "When gamma= 0.25, c = 100.0, F1 Score: 0.6928746928746928\n",
            "\n",
            "When gamma= 2, c = 100.0, Accuracy: 0.7\n",
            "When gamma= 2, c = 100.0, Precision: 0.696078431372549\n",
            "When gamma= 2, c = 100.0, Recall: 0.71\n",
            "When gamma= 2, c = 100.0, F1 Score: 0.7029702970297029\n",
            "\n",
            "When gamma= 64, c = 100.0, Accuracy: 0.5025\n",
            "When gamma= 64, c = 100.0, Precision: 0.5012531328320802\n",
            "When gamma= 64, c = 100.0, Recall: 1.0\n",
            "When gamma= 64, c = 100.0, F1 Score: 0.667779632721202\n",
            "\n",
            "CPU times: user 14.8 s, sys: 7 ms, total: 14.8 s\n",
            "Wall time: 14.8 s\n",
            "Fold 3 is processing...\n",
            "When gamma= 0.25, c = 0.01, Accuracy: 0.665\n",
            "When gamma= 0.25, c = 0.01, Precision: 0.7115384615384616\n",
            "When gamma= 0.25, c = 0.01, Recall: 0.555\n",
            "When gamma= 0.25, c = 0.01, F1 Score: 0.6235955056179776\n",
            "\n",
            "When gamma= 2, c = 0.01, Accuracy: 0.68\n",
            "When gamma= 2, c = 0.01, Precision: 0.7168674698795181\n",
            "When gamma= 2, c = 0.01, Recall: 0.595\n",
            "When gamma= 2, c = 0.01, F1 Score: 0.6502732240437158\n",
            "\n",
            "When gamma= 64, c = 0.01, Accuracy: 0.5\n",
            "When gamma= 64, c = 0.01, Precision: 0.5\n",
            "When gamma= 64, c = 0.01, Recall: 1.0\n",
            "When gamma= 64, c = 0.01, F1 Score: 0.6666666666666666\n",
            "\n",
            "When gamma= 0.25, c = 1, Accuracy: 0.685\n",
            "When gamma= 0.25, c = 1, Precision: 0.6947368421052632\n",
            "When gamma= 0.25, c = 1, Recall: 0.66\n",
            "When gamma= 0.25, c = 1, F1 Score: 0.676923076923077\n",
            "\n",
            "When gamma= 2, c = 1, Accuracy: 0.715\n",
            "When gamma= 2, c = 1, Precision: 0.6990740740740741\n",
            "When gamma= 2, c = 1, Recall: 0.755\n",
            "When gamma= 2, c = 1, F1 Score: 0.7259615384615385\n",
            "\n",
            "When gamma= 64, c = 1, Accuracy: 0.5\n",
            "When gamma= 64, c = 1, Precision: 0.5\n",
            "When gamma= 64, c = 1, Recall: 1.0\n",
            "When gamma= 64, c = 1, F1 Score: 0.6666666666666666\n",
            "\n",
            "When gamma= 0.25, c = 100.0, Accuracy: 0.6625\n",
            "When gamma= 0.25, c = 100.0, Precision: 0.6857142857142857\n",
            "When gamma= 0.25, c = 100.0, Recall: 0.6\n",
            "When gamma= 0.25, c = 100.0, F1 Score: 0.64\n",
            "\n",
            "When gamma= 2, c = 100.0, Accuracy: 0.715\n",
            "When gamma= 2, c = 100.0, Precision: 0.7047619047619048\n",
            "When gamma= 2, c = 100.0, Recall: 0.74\n",
            "When gamma= 2, c = 100.0, F1 Score: 0.7219512195121951\n",
            "\n",
            "When gamma= 64, c = 100.0, Accuracy: 0.5\n",
            "When gamma= 64, c = 100.0, Precision: 0.5\n",
            "When gamma= 64, c = 100.0, Recall: 1.0\n",
            "When gamma= 64, c = 100.0, F1 Score: 0.6666666666666666\n",
            "\n",
            "CPU times: user 14.7 s, sys: 5 ms, total: 14.7 s\n",
            "Wall time: 14.7 s\n",
            "Fold 4 is processing...\n",
            "When gamma= 0.25, c = 0.01, Accuracy: 0.6675\n",
            "When gamma= 0.25, c = 0.01, Precision: 0.6830601092896175\n",
            "When gamma= 0.25, c = 0.01, Recall: 0.625\n",
            "When gamma= 0.25, c = 0.01, F1 Score: 0.6527415143603132\n",
            "\n",
            "When gamma= 2, c = 0.01, Accuracy: 0.6925\n",
            "When gamma= 2, c = 0.01, Precision: 0.6584362139917695\n",
            "When gamma= 2, c = 0.01, Recall: 0.8\n",
            "When gamma= 2, c = 0.01, F1 Score: 0.7223476297968399\n",
            "\n",
            "When gamma= 64, c = 0.01, Accuracy: 0.5025\n",
            "When gamma= 64, c = 0.01, Precision: 0.5012531328320802\n",
            "When gamma= 64, c = 0.01, Recall: 1.0\n",
            "When gamma= 64, c = 0.01, F1 Score: 0.667779632721202\n",
            "\n",
            "When gamma= 0.25, c = 1, Accuracy: 0.6925\n",
            "When gamma= 0.25, c = 1, Precision: 0.6994818652849741\n",
            "When gamma= 0.25, c = 1, Recall: 0.675\n",
            "When gamma= 0.25, c = 1, F1 Score: 0.6870229007633588\n",
            "\n",
            "When gamma= 2, c = 1, Accuracy: 0.695\n",
            "When gamma= 2, c = 1, Precision: 0.6893203883495146\n",
            "When gamma= 2, c = 1, Recall: 0.71\n",
            "When gamma= 2, c = 1, F1 Score: 0.6995073891625615\n",
            "\n",
            "When gamma= 64, c = 1, Accuracy: 0.5025\n",
            "When gamma= 64, c = 1, Precision: 0.5012531328320802\n",
            "When gamma= 64, c = 1, Recall: 1.0\n",
            "When gamma= 64, c = 1, F1 Score: 0.667779632721202\n",
            "\n",
            "When gamma= 0.25, c = 100.0, Accuracy: 0.69\n",
            "When gamma= 0.25, c = 100.0, Precision: 0.6979166666666666\n",
            "When gamma= 0.25, c = 100.0, Recall: 0.67\n",
            "When gamma= 0.25, c = 100.0, F1 Score: 0.6836734693877551\n",
            "\n",
            "When gamma= 2, c = 100.0, Accuracy: 0.695\n",
            "When gamma= 2, c = 100.0, Precision: 0.693069306930693\n",
            "When gamma= 2, c = 100.0, Recall: 0.7\n",
            "When gamma= 2, c = 100.0, F1 Score: 0.6965174129353233\n",
            "\n",
            "When gamma= 64, c = 100.0, Accuracy: 0.5025\n",
            "When gamma= 64, c = 100.0, Precision: 0.5012531328320802\n",
            "When gamma= 64, c = 100.0, Recall: 1.0\n",
            "When gamma= 64, c = 100.0, F1 Score: 0.667779632721202\n",
            "\n",
            "CPU times: user 14.8 s, sys: 5.99 ms, total: 14.8 s\n",
            "Wall time: 14.8 s\n",
            "Fold 5 is processing...\n",
            "When gamma= 0.25, c = 0.01, Accuracy: 0.685\n",
            "When gamma= 0.25, c = 0.01, Precision: 0.7055555555555556\n",
            "When gamma= 0.25, c = 0.01, Recall: 0.635\n",
            "When gamma= 0.25, c = 0.01, F1 Score: 0.668421052631579\n",
            "\n",
            "When gamma= 2, c = 0.01, Accuracy: 0.66\n",
            "When gamma= 2, c = 0.01, Precision: 0.626984126984127\n",
            "When gamma= 2, c = 0.01, Recall: 0.79\n",
            "When gamma= 2, c = 0.01, F1 Score: 0.6991150442477876\n",
            "\n",
            "When gamma= 64, c = 0.01, Accuracy: 0.5\n",
            "When gamma= 64, c = 0.01, Precision: 0.5\n",
            "When gamma= 64, c = 0.01, Recall: 1.0\n",
            "When gamma= 64, c = 0.01, F1 Score: 0.6666666666666666\n",
            "\n",
            "When gamma= 0.25, c = 1, Accuracy: 0.6925\n",
            "When gamma= 0.25, c = 1, Precision: 0.6842105263157895\n",
            "When gamma= 0.25, c = 1, Recall: 0.715\n",
            "When gamma= 0.25, c = 1, F1 Score: 0.6992665036674817\n",
            "\n",
            "When gamma= 2, c = 1, Accuracy: 0.6875\n",
            "When gamma= 2, c = 1, Precision: 0.6637554585152838\n",
            "When gamma= 2, c = 1, Recall: 0.76\n",
            "When gamma= 2, c = 1, F1 Score: 0.7086247086247086\n",
            "\n",
            "When gamma= 64, c = 1, Accuracy: 0.5\n",
            "When gamma= 64, c = 1, Precision: 0.5\n",
            "When gamma= 64, c = 1, Recall: 1.0\n",
            "When gamma= 64, c = 1, F1 Score: 0.6666666666666666\n",
            "\n",
            "When gamma= 0.25, c = 100.0, Accuracy: 0.675\n",
            "When gamma= 0.25, c = 100.0, Precision: 0.6715686274509803\n",
            "When gamma= 0.25, c = 100.0, Recall: 0.685\n",
            "When gamma= 0.25, c = 100.0, F1 Score: 0.6782178217821783\n",
            "\n",
            "When gamma= 2, c = 100.0, Accuracy: 0.6925\n",
            "When gamma= 2, c = 100.0, Precision: 0.6681222707423581\n",
            "When gamma= 2, c = 100.0, Recall: 0.765\n",
            "When gamma= 2, c = 100.0, F1 Score: 0.7132867132867133\n",
            "\n",
            "When gamma= 64, c = 100.0, Accuracy: 0.5\n",
            "When gamma= 64, c = 100.0, Precision: 0.5\n",
            "When gamma= 64, c = 100.0, Recall: 1.0\n",
            "When gamma= 64, c = 100.0, F1 Score: 0.6666666666666666\n",
            "\n",
            "CPU times: user 14.7 s, sys: 7 ms, total: 14.7 s\n",
            "Wall time: 14.7 s\n",
            "Best of the Gamma value: 2, C value: 100.0 \n",
            "\n",
            "[0.666  0.676  0.501  0.693  0.7005 0.501  0.681  0.7045 0.501 ]\n"
          ],
          "name": "stdout"
        }
      ]
    },
    {
      "cell_type": "code",
      "metadata": {
        "id": "IAieHS-9Z1Jp",
        "colab_type": "code",
        "outputId": "3aa57483-0c12-4e22-e220-88d2918f4cd4",
        "colab": {
          "base_uri": "https://localhost:8080/",
          "height": 187
        }
      },
      "source": [
        "gama = [gamas[ind%3]]\n",
        "c = [cs [int(ind/3)]]\n",
        "fold = [hog_features_train, hog_features_test, superclass_labels_train, superclass_labels_test]\n",
        "model = class_svm()\n",
        "%time best = model.train_soft_margin_svm_last(fold, gama , c)"
      ],
      "execution_count": 0,
      "outputs": [
        {
          "output_type": "stream",
          "text": [
            "When gamma= 2, c = 100.0, Accuracy: 0.7075\n",
            "When gamma= 2, c = 100.0, Precision: 0.6966824644549763\n",
            "When gamma= 2, c = 100.0, Recall: 0.735\n",
            "When gamma= 2, c = 100.0, F1 Score: 0.7153284671532847\n",
            "\n",
            "[[136  64]\n",
            " [ 53 147]]\n",
            "\n",
            "CPU times: user 2.54 s, sys: 1e+03 µs, total: 2.54 s\n",
            "Wall time: 2.55 s\n"
          ],
          "name": "stdout"
        }
      ]
    },
    {
      "cell_type": "markdown",
      "metadata": {
        "id": "0zH4YIhKdIIB",
        "colab_type": "text"
      },
      "source": [
        "# Doing everything for the neural network generated features\n"
      ]
    },
    {
      "cell_type": "code",
      "metadata": {
        "id": "QR_4ztuOdNtk",
        "colab_type": "code",
        "outputId": "762cd380-5679-43a2-853d-32c1af0f6f3f",
        "colab": {
          "base_uri": "https://localhost:8080/",
          "height": 1000
        }
      },
      "source": [
        "gamas = [2**-2, 2**1, 2**6]\n",
        "cs  = [1e-2, 1, 1e2]\n",
        "model = class_svm()\n",
        "result = model.stratified_k_fold(features= inception_features_train, labels = superclass_labels_train, k=5)\n",
        "f1s = []\n",
        "for i in range (len(result)):\n",
        "  print('Fold {} is processing...'.format(i+1))\n",
        "  %time best = model.train_soft_margin_svm_last(result[i], gamas , cs)\n",
        "  f1s.append(best)\n",
        "\n",
        "avg_f1 = np.average(f1s, axis=0)\n",
        "print(avg_f1)\n",
        "ind_arr = np.where(avg_f1 == max(avg_f1))\n",
        "ind = ind_arr[0][0]\n",
        "print(\"Best of the Gamma value: {}, C value: {} \\n\".format(gamas[ind%3], cs [int(ind/3)]))\n",
        "print(avg_f1)"
      ],
      "execution_count": 0,
      "outputs": [
        {
          "output_type": "stream",
          "text": [
            "Fold 1 is processing...\n",
            "When gamma= 0.25, c = 0.01, Accuracy: 0.5025\n",
            "When gamma= 0.25, c = 0.01, Precision: 1.0\n",
            "When gamma= 0.25, c = 0.01, Recall: 0.005\n",
            "When gamma= 0.25, c = 0.01, F1 Score: 0.009950248756218907\n",
            "\n",
            "When gamma= 2, c = 0.01, Accuracy: 0.8375\n",
            "When gamma= 2, c = 0.01, Precision: 0.8609625668449198\n",
            "When gamma= 2, c = 0.01, Recall: 0.805\n",
            "When gamma= 2, c = 0.01, F1 Score: 0.8320413436692506\n",
            "\n",
            "When gamma= 64, c = 0.01, Accuracy: 0.5\n",
            "When gamma= 64, c = 0.01, Precision: 0.5\n",
            "When gamma= 64, c = 0.01, Recall: 1.0\n",
            "When gamma= 64, c = 0.01, F1 Score: 0.6666666666666666\n",
            "\n",
            "When gamma= 0.25, c = 1, Accuracy: 0.51\n",
            "When gamma= 0.25, c = 1, Precision: 0.5050505050505051\n",
            "When gamma= 0.25, c = 1, Recall: 1.0\n",
            "When gamma= 0.25, c = 1, F1 Score: 0.6711409395973155\n",
            "\n"
          ],
          "name": "stdout"
        },
        {
          "output_type": "stream",
          "text": [
            "/usr/local/lib/python3.6/dist-packages/sklearn/metrics/_classification.py:1272: UndefinedMetricWarning: Precision is ill-defined and being set to 0.0 due to no predicted samples. Use `zero_division` parameter to control this behavior.\n",
            "  _warn_prf(average, modifier, msg_start, len(result))\n"
          ],
          "name": "stderr"
        },
        {
          "output_type": "stream",
          "text": [
            "When gamma= 2, c = 1, Accuracy: 0.5\n",
            "When gamma= 2, c = 1, Precision: 0.0\n",
            "When gamma= 2, c = 1, Recall: 0.0\n",
            "When gamma= 2, c = 1, F1 Score: 0.0\n",
            "\n",
            "When gamma= 64, c = 1, Accuracy: 0.5\n",
            "When gamma= 64, c = 1, Precision: 0.5\n",
            "When gamma= 64, c = 1, Recall: 1.0\n",
            "When gamma= 64, c = 1, F1 Score: 0.6666666666666666\n",
            "\n",
            "When gamma= 0.25, c = 100.0, Accuracy: 0.515\n",
            "When gamma= 0.25, c = 100.0, Precision: 0.5076142131979695\n",
            "When gamma= 0.25, c = 100.0, Recall: 1.0\n",
            "When gamma= 0.25, c = 100.0, F1 Score: 0.6734006734006733\n",
            "\n"
          ],
          "name": "stdout"
        },
        {
          "output_type": "stream",
          "text": [
            "/usr/local/lib/python3.6/dist-packages/sklearn/metrics/_classification.py:1272: UndefinedMetricWarning: Precision is ill-defined and being set to 0.0 due to no predicted samples. Use `zero_division` parameter to control this behavior.\n",
            "  _warn_prf(average, modifier, msg_start, len(result))\n"
          ],
          "name": "stderr"
        },
        {
          "output_type": "stream",
          "text": [
            "When gamma= 2, c = 100.0, Accuracy: 0.5\n",
            "When gamma= 2, c = 100.0, Precision: 0.0\n",
            "When gamma= 2, c = 100.0, Recall: 0.0\n",
            "When gamma= 2, c = 100.0, F1 Score: 0.0\n",
            "\n",
            "When gamma= 64, c = 100.0, Accuracy: 0.5\n",
            "When gamma= 64, c = 100.0, Precision: 0.5\n",
            "When gamma= 64, c = 100.0, Recall: 1.0\n",
            "When gamma= 64, c = 100.0, F1 Score: 0.6666666666666666\n",
            "\n",
            "CPU times: user 1min 36s, sys: 35 ms, total: 1min 36s\n",
            "Wall time: 1min 36s\n",
            "Fold 2 is processing...\n"
          ],
          "name": "stdout"
        },
        {
          "output_type": "stream",
          "text": [
            "/usr/local/lib/python3.6/dist-packages/sklearn/metrics/_classification.py:1272: UndefinedMetricWarning: Precision is ill-defined and being set to 0.0 due to no predicted samples. Use `zero_division` parameter to control this behavior.\n",
            "  _warn_prf(average, modifier, msg_start, len(result))\n"
          ],
          "name": "stderr"
        },
        {
          "output_type": "stream",
          "text": [
            "When gamma= 0.25, c = 0.01, Accuracy: 0.5\n",
            "When gamma= 0.25, c = 0.01, Precision: 0.0\n",
            "When gamma= 0.25, c = 0.01, Recall: 0.0\n",
            "When gamma= 0.25, c = 0.01, F1 Score: 0.0\n",
            "\n",
            "When gamma= 2, c = 0.01, Accuracy: 0.8425\n",
            "When gamma= 2, c = 0.01, Precision: 0.8442211055276382\n",
            "When gamma= 2, c = 0.01, Recall: 0.84\n",
            "When gamma= 2, c = 0.01, F1 Score: 0.8421052631578947\n",
            "\n",
            "When gamma= 64, c = 0.01, Accuracy: 0.5\n",
            "When gamma= 64, c = 0.01, Precision: 0.5\n",
            "When gamma= 64, c = 0.01, Recall: 1.0\n",
            "When gamma= 64, c = 0.01, F1 Score: 0.6666666666666666\n",
            "\n",
            "When gamma= 0.25, c = 1, Accuracy: 0.5025\n",
            "When gamma= 0.25, c = 1, Precision: 0.5012531328320802\n",
            "When gamma= 0.25, c = 1, Recall: 1.0\n",
            "When gamma= 0.25, c = 1, F1 Score: 0.667779632721202\n",
            "\n"
          ],
          "name": "stdout"
        },
        {
          "output_type": "stream",
          "text": [
            "/usr/local/lib/python3.6/dist-packages/sklearn/metrics/_classification.py:1272: UndefinedMetricWarning: Precision is ill-defined and being set to 0.0 due to no predicted samples. Use `zero_division` parameter to control this behavior.\n",
            "  _warn_prf(average, modifier, msg_start, len(result))\n"
          ],
          "name": "stderr"
        },
        {
          "output_type": "stream",
          "text": [
            "When gamma= 2, c = 1, Accuracy: 0.5\n",
            "When gamma= 2, c = 1, Precision: 0.0\n",
            "When gamma= 2, c = 1, Recall: 0.0\n",
            "When gamma= 2, c = 1, F1 Score: 0.0\n",
            "\n",
            "When gamma= 64, c = 1, Accuracy: 0.5\n",
            "When gamma= 64, c = 1, Precision: 0.5\n",
            "When gamma= 64, c = 1, Recall: 1.0\n",
            "When gamma= 64, c = 1, F1 Score: 0.6666666666666666\n",
            "\n",
            "When gamma= 0.25, c = 100.0, Accuracy: 0.5025\n",
            "When gamma= 0.25, c = 100.0, Precision: 0.5012531328320802\n",
            "When gamma= 0.25, c = 100.0, Recall: 1.0\n",
            "When gamma= 0.25, c = 100.0, F1 Score: 0.667779632721202\n",
            "\n"
          ],
          "name": "stdout"
        },
        {
          "output_type": "stream",
          "text": [
            "/usr/local/lib/python3.6/dist-packages/sklearn/metrics/_classification.py:1272: UndefinedMetricWarning: Precision is ill-defined and being set to 0.0 due to no predicted samples. Use `zero_division` parameter to control this behavior.\n",
            "  _warn_prf(average, modifier, msg_start, len(result))\n"
          ],
          "name": "stderr"
        },
        {
          "output_type": "stream",
          "text": [
            "When gamma= 2, c = 100.0, Accuracy: 0.5\n",
            "When gamma= 2, c = 100.0, Precision: 0.0\n",
            "When gamma= 2, c = 100.0, Recall: 0.0\n",
            "When gamma= 2, c = 100.0, F1 Score: 0.0\n",
            "\n",
            "When gamma= 64, c = 100.0, Accuracy: 0.5\n",
            "When gamma= 64, c = 100.0, Precision: 0.5\n",
            "When gamma= 64, c = 100.0, Recall: 1.0\n",
            "When gamma= 64, c = 100.0, F1 Score: 0.6666666666666666\n",
            "\n",
            "CPU times: user 1min 34s, sys: 17 ms, total: 1min 34s\n",
            "Wall time: 1min 35s\n",
            "Fold 3 is processing...\n"
          ],
          "name": "stdout"
        },
        {
          "output_type": "stream",
          "text": [
            "/usr/local/lib/python3.6/dist-packages/sklearn/metrics/_classification.py:1272: UndefinedMetricWarning: Precision is ill-defined and being set to 0.0 due to no predicted samples. Use `zero_division` parameter to control this behavior.\n",
            "  _warn_prf(average, modifier, msg_start, len(result))\n"
          ],
          "name": "stderr"
        },
        {
          "output_type": "stream",
          "text": [
            "When gamma= 0.25, c = 0.01, Accuracy: 0.5\n",
            "When gamma= 0.25, c = 0.01, Precision: 0.0\n",
            "When gamma= 0.25, c = 0.01, Recall: 0.0\n",
            "When gamma= 0.25, c = 0.01, F1 Score: 0.0\n",
            "\n",
            "When gamma= 2, c = 0.01, Accuracy: 0.8075\n",
            "When gamma= 2, c = 0.01, Precision: 0.8397790055248618\n",
            "When gamma= 2, c = 0.01, Recall: 0.76\n",
            "When gamma= 2, c = 0.01, F1 Score: 0.7979002624671917\n",
            "\n",
            "When gamma= 64, c = 0.01, Accuracy: 0.5\n",
            "When gamma= 64, c = 0.01, Precision: 0.5\n",
            "When gamma= 64, c = 0.01, Recall: 1.0\n",
            "When gamma= 64, c = 0.01, F1 Score: 0.6666666666666666\n",
            "\n"
          ],
          "name": "stdout"
        },
        {
          "output_type": "stream",
          "text": [
            "/usr/local/lib/python3.6/dist-packages/sklearn/metrics/_classification.py:1272: UndefinedMetricWarning: Precision is ill-defined and being set to 0.0 due to no predicted samples. Use `zero_division` parameter to control this behavior.\n",
            "  _warn_prf(average, modifier, msg_start, len(result))\n"
          ],
          "name": "stderr"
        },
        {
          "output_type": "stream",
          "text": [
            "When gamma= 0.25, c = 1, Accuracy: 0.5\n",
            "When gamma= 0.25, c = 1, Precision: 0.0\n",
            "When gamma= 0.25, c = 1, Recall: 0.0\n",
            "When gamma= 0.25, c = 1, F1 Score: 0.0\n",
            "\n"
          ],
          "name": "stdout"
        },
        {
          "output_type": "stream",
          "text": [
            "/usr/local/lib/python3.6/dist-packages/sklearn/metrics/_classification.py:1272: UndefinedMetricWarning: Precision is ill-defined and being set to 0.0 due to no predicted samples. Use `zero_division` parameter to control this behavior.\n",
            "  _warn_prf(average, modifier, msg_start, len(result))\n"
          ],
          "name": "stderr"
        },
        {
          "output_type": "stream",
          "text": [
            "When gamma= 2, c = 1, Accuracy: 0.5\n",
            "When gamma= 2, c = 1, Precision: 0.0\n",
            "When gamma= 2, c = 1, Recall: 0.0\n",
            "When gamma= 2, c = 1, F1 Score: 0.0\n",
            "\n",
            "When gamma= 64, c = 1, Accuracy: 0.5\n",
            "When gamma= 64, c = 1, Precision: 0.5\n",
            "When gamma= 64, c = 1, Recall: 1.0\n",
            "When gamma= 64, c = 1, F1 Score: 0.6666666666666666\n",
            "\n"
          ],
          "name": "stdout"
        },
        {
          "output_type": "stream",
          "text": [
            "/usr/local/lib/python3.6/dist-packages/sklearn/metrics/_classification.py:1272: UndefinedMetricWarning: Precision is ill-defined and being set to 0.0 due to no predicted samples. Use `zero_division` parameter to control this behavior.\n",
            "  _warn_prf(average, modifier, msg_start, len(result))\n"
          ],
          "name": "stderr"
        },
        {
          "output_type": "stream",
          "text": [
            "When gamma= 0.25, c = 100.0, Accuracy: 0.5\n",
            "When gamma= 0.25, c = 100.0, Precision: 0.0\n",
            "When gamma= 0.25, c = 100.0, Recall: 0.0\n",
            "When gamma= 0.25, c = 100.0, F1 Score: 0.0\n",
            "\n"
          ],
          "name": "stdout"
        },
        {
          "output_type": "stream",
          "text": [
            "/usr/local/lib/python3.6/dist-packages/sklearn/metrics/_classification.py:1272: UndefinedMetricWarning: Precision is ill-defined and being set to 0.0 due to no predicted samples. Use `zero_division` parameter to control this behavior.\n",
            "  _warn_prf(average, modifier, msg_start, len(result))\n"
          ],
          "name": "stderr"
        },
        {
          "output_type": "stream",
          "text": [
            "When gamma= 2, c = 100.0, Accuracy: 0.5\n",
            "When gamma= 2, c = 100.0, Precision: 0.0\n",
            "When gamma= 2, c = 100.0, Recall: 0.0\n",
            "When gamma= 2, c = 100.0, F1 Score: 0.0\n",
            "\n",
            "When gamma= 64, c = 100.0, Accuracy: 0.5\n",
            "When gamma= 64, c = 100.0, Precision: 0.5\n",
            "When gamma= 64, c = 100.0, Recall: 1.0\n",
            "When gamma= 64, c = 100.0, F1 Score: 0.6666666666666666\n",
            "\n",
            "CPU times: user 1min 34s, sys: 18 ms, total: 1min 34s\n",
            "Wall time: 1min 34s\n",
            "Fold 4 is processing...\n",
            "When gamma= 0.25, c = 0.01, Accuracy: 0.5\n",
            "When gamma= 0.25, c = 0.01, Precision: 0.5\n",
            "When gamma= 0.25, c = 0.01, Recall: 1.0\n",
            "When gamma= 0.25, c = 0.01, F1 Score: 0.6666666666666666\n",
            "\n",
            "When gamma= 2, c = 0.01, Accuracy: 0.87\n",
            "When gamma= 2, c = 0.01, Precision: 0.8523809523809524\n",
            "When gamma= 2, c = 0.01, Recall: 0.895\n",
            "When gamma= 2, c = 0.01, F1 Score: 0.873170731707317\n",
            "\n",
            "When gamma= 64, c = 0.01, Accuracy: 0.5\n",
            "When gamma= 64, c = 0.01, Precision: 0.5\n",
            "When gamma= 64, c = 0.01, Recall: 1.0\n",
            "When gamma= 64, c = 0.01, F1 Score: 0.6666666666666666\n",
            "\n",
            "When gamma= 0.25, c = 1, Accuracy: 0.5025\n",
            "When gamma= 0.25, c = 1, Precision: 0.5012531328320802\n",
            "When gamma= 0.25, c = 1, Recall: 1.0\n",
            "When gamma= 0.25, c = 1, F1 Score: 0.667779632721202\n",
            "\n",
            "When gamma= 2, c = 1, Accuracy: 0.5\n",
            "When gamma= 2, c = 1, Precision: 0.5\n",
            "When gamma= 2, c = 1, Recall: 1.0\n",
            "When gamma= 2, c = 1, F1 Score: 0.6666666666666666\n",
            "\n",
            "When gamma= 64, c = 1, Accuracy: 0.5\n",
            "When gamma= 64, c = 1, Precision: 0.5\n",
            "When gamma= 64, c = 1, Recall: 1.0\n",
            "When gamma= 64, c = 1, F1 Score: 0.6666666666666666\n",
            "\n",
            "When gamma= 0.25, c = 100.0, Accuracy: 0.5075\n",
            "When gamma= 0.25, c = 100.0, Precision: 0.5037783375314862\n",
            "When gamma= 0.25, c = 100.0, Recall: 1.0\n",
            "When gamma= 0.25, c = 100.0, F1 Score: 0.6700167504187605\n",
            "\n",
            "When gamma= 2, c = 100.0, Accuracy: 0.5\n",
            "When gamma= 2, c = 100.0, Precision: 0.5\n",
            "When gamma= 2, c = 100.0, Recall: 1.0\n",
            "When gamma= 2, c = 100.0, F1 Score: 0.6666666666666666\n",
            "\n",
            "When gamma= 64, c = 100.0, Accuracy: 0.5\n",
            "When gamma= 64, c = 100.0, Precision: 0.5\n",
            "When gamma= 64, c = 100.0, Recall: 1.0\n",
            "When gamma= 64, c = 100.0, F1 Score: 0.6666666666666666\n",
            "\n",
            "CPU times: user 1min 33s, sys: 22 ms, total: 1min 33s\n",
            "Wall time: 1min 33s\n",
            "Fold 5 is processing...\n",
            "When gamma= 0.25, c = 0.01, Accuracy: 0.5\n",
            "When gamma= 0.25, c = 0.01, Precision: 0.5\n",
            "When gamma= 0.25, c = 0.01, Recall: 1.0\n",
            "When gamma= 0.25, c = 0.01, F1 Score: 0.6666666666666666\n",
            "\n",
            "When gamma= 2, c = 0.01, Accuracy: 0.8275\n",
            "When gamma= 2, c = 0.01, Precision: 0.8393782383419689\n",
            "When gamma= 2, c = 0.01, Recall: 0.81\n",
            "When gamma= 2, c = 0.01, F1 Score: 0.8244274809160306\n",
            "\n",
            "When gamma= 64, c = 0.01, Accuracy: 0.5\n",
            "When gamma= 64, c = 0.01, Precision: 0.5\n",
            "When gamma= 64, c = 0.01, Recall: 1.0\n",
            "When gamma= 64, c = 0.01, F1 Score: 0.6666666666666666\n",
            "\n",
            "When gamma= 0.25, c = 1, Accuracy: 0.505\n",
            "When gamma= 0.25, c = 1, Precision: 0.5025125628140703\n",
            "When gamma= 0.25, c = 1, Recall: 1.0\n",
            "When gamma= 0.25, c = 1, F1 Score: 0.6688963210702341\n",
            "\n",
            "When gamma= 2, c = 1, Accuracy: 0.5\n",
            "When gamma= 2, c = 1, Precision: 0.5\n",
            "When gamma= 2, c = 1, Recall: 1.0\n",
            "When gamma= 2, c = 1, F1 Score: 0.6666666666666666\n",
            "\n",
            "When gamma= 64, c = 1, Accuracy: 0.5\n",
            "When gamma= 64, c = 1, Precision: 0.5\n",
            "When gamma= 64, c = 1, Recall: 1.0\n",
            "When gamma= 64, c = 1, F1 Score: 0.6666666666666666\n",
            "\n",
            "When gamma= 0.25, c = 100.0, Accuracy: 0.5075\n",
            "When gamma= 0.25, c = 100.0, Precision: 0.5037783375314862\n",
            "When gamma= 0.25, c = 100.0, Recall: 1.0\n",
            "When gamma= 0.25, c = 100.0, F1 Score: 0.6700167504187605\n",
            "\n",
            "When gamma= 2, c = 100.0, Accuracy: 0.5\n",
            "When gamma= 2, c = 100.0, Precision: 0.5\n",
            "When gamma= 2, c = 100.0, Recall: 1.0\n",
            "When gamma= 2, c = 100.0, F1 Score: 0.6666666666666666\n",
            "\n",
            "When gamma= 64, c = 100.0, Accuracy: 0.5\n",
            "When gamma= 64, c = 100.0, Precision: 0.5\n",
            "When gamma= 64, c = 100.0, Recall: 1.0\n",
            "When gamma= 64, c = 100.0, F1 Score: 0.6666666666666666\n",
            "\n",
            "CPU times: user 1min 33s, sys: 14 ms, total: 1min 33s\n",
            "Wall time: 1min 33s\n",
            "[0.5005 0.837  0.5    0.504  0.5    0.5    0.5065 0.5    0.5   ]\n",
            "Best of the Gamma value: 2, C value: 0.01 \n",
            "\n",
            "[0.5005 0.837  0.5    0.504  0.5    0.5    0.5065 0.5    0.5   ]\n"
          ],
          "name": "stdout"
        }
      ]
    },
    {
      "cell_type": "code",
      "metadata": {
        "id": "p2iisPNCdOKT",
        "colab_type": "code",
        "outputId": "8beee9c6-8adc-4c6f-a9c9-c4c29cfcbc46",
        "colab": {
          "base_uri": "https://localhost:8080/",
          "height": 187
        }
      },
      "source": [
        "gama = [gamas[ind%3]]\n",
        "c  = [cs [int(ind/3)]]\n",
        "fold = [inception_features_train, inception_features_test, superclass_labels_train, superclass_labels_test]\n",
        "model = class_svm()\n",
        "%time best = model.train_soft_margin_svm_last(fold, gama , c)"
      ],
      "execution_count": 0,
      "outputs": [
        {
          "output_type": "stream",
          "text": [
            "When gamma= 2, c = 0.01, Accuracy: 0.84\n",
            "When gamma= 2, c = 0.01, Precision: 0.8333333333333334\n",
            "When gamma= 2, c = 0.01, Recall: 0.85\n",
            "When gamma= 2, c = 0.01, F1 Score: 0.8415841584158417\n",
            "\n",
            "[[166  34]\n",
            " [ 30 170]]\n",
            "\n",
            "CPU times: user 15.8 s, sys: 12 ms, total: 15.8 s\n",
            "Wall time: 15.8 s\n"
          ],
          "name": "stdout"
        }
      ]
    },
    {
      "cell_type": "markdown",
      "metadata": {
        "id": "2GgvB8uMel1c",
        "colab_type": "text"
      },
      "source": [
        "# Question 1.7\n",
        "**Subclass Classification using SVM**"
      ]
    },
    {
      "cell_type": "code",
      "metadata": {
        "id": "Rk-Fb_Xjel9-",
        "colab_type": "code",
        "colab": {}
      },
      "source": [
        "inception_features_train = q1_dataset['inception_features_train']\n",
        "inception_features_test = q1_dataset['inception_features_test']\n",
        "hog_features_train = q1_dataset['hog_features_train']\n",
        "hog_features_test = q1_dataset['hog_features_test']\n",
        "subclass_labels_train = q1_dataset['subclass_labels_train']\n",
        "subclass_labels_test = q1_dataset['subclass_labels_test']"
      ],
      "execution_count": 0,
      "outputs": []
    },
    {
      "cell_type": "code",
      "metadata": {
        "id": "uFs9rjAvewqr",
        "colab_type": "code",
        "colab": {}
      },
      "source": [
        "from sklearn.model_selection import StratifiedKFold\n",
        "from sklearn import svm\n",
        "from sklearn import metrics\n",
        "from sklearn.metrics import confusion_matrix\n",
        "from sklearn.metrics import accuracy_score\n",
        "from sklearn.metrics import classification_report\n",
        "from statistics import mean \n",
        "\n",
        "class subclass_prediction_svm:\n",
        "  #def __init__():\n",
        "  \n",
        "  # Finding the test and train sets for stratified k fold !! \n",
        "  def stratified_k_fold(self, features, labels, k):\n",
        "    result = []\n",
        "    skf = StratifiedKFold(n_splits=k, random_state=None, shuffle=True)\n",
        "    for train_index, test_index in skf.split(features, labels):\n",
        "      # print(\"TRAIN:\", len(train_index), \"TEST:\", len(test_index))\n",
        "      X_train, X_test = features[train_index], features[test_index]\n",
        "      y_train, y_test = labels[train_index], labels[test_index]\n",
        "      result.append ( [ X_train , X_test , y_train , y_test ] )\n",
        "\n",
        "    return np.asarray(result)\n",
        "\n",
        "  def multi_class_rbf_kernel (self, fold, gamas, cs):\n",
        "    \n",
        "    # Test and training data,label\n",
        "    X_train,X_test,y_train,y_test = fold\n",
        "    y_train = y_train.flatten()\n",
        "\n",
        "    all_acc = []\n",
        "    all_pred = []\n",
        "    all_recall = []\n",
        "    all_f1 = []\n",
        "\n",
        "    for gama in gamas:\n",
        "      for c in cs:\n",
        "                \n",
        "        # RBF Kernel\n",
        "        clf = svm.SVC(kernel='rbf', gamma=gama, C=c) \n",
        "        # Train the model using the training sets\n",
        "        clf.fit(X_train, y_train)\n",
        "        # Predict the response for test dataset\n",
        "        y_pred = clf.predict(X_test)\n",
        "      \n",
        "\n",
        "        # Model Accuracy: how often is the classifier correct?\n",
        "        acc =  metrics.accuracy_score(y_test, y_pred)\n",
        "        all_acc.append(acc)\n",
        "        \n",
        "        print(\"When gamma= {}, c = {}, Accuracy: {}\".format(gama, c,acc))\n",
        "      print()\n",
        "\n",
        "    if len(gamas) != 1:\n",
        "      return all_acc\n",
        "\n",
        "    else:\n",
        "      accuracy = accuracy_score(y_test, y_pred)\n",
        "      print(\"Accuracy : {} \".format(accuracy))\n",
        "      cnf_matrix = confusion_matrix(y_test, y_pred)\n",
        "      print(\"Confusion Matrix : \\n{} \".format(cnf_matrix))\n",
        "      target_names = ['subclass 0', 'subclass 1', 'subclass 2','subclass 3','subclass 4','subclass 5','subclass 6','subclass 7','subclass 8','subclass 9' ]\n",
        "      report = classification_report(y_test, y_pred, target_names=target_names)\n",
        "      print(report)\n",
        "\n",
        "\n",
        "  def multi_class_poly_kernel (self, fold, gamas, degrees):\n",
        "    # Test and training data,label\n",
        "    X_train,X_test,y_train,y_test = fold\n",
        "    y_train = y_train.flatten()\n",
        "\n",
        "    all_acc = []\n",
        "\n",
        "    for gama in gamas:\n",
        "      for deg in degrees:\n",
        "                \n",
        "        # RBF Kernel\n",
        "        clf = svm.SVC(kernel='poly', degree=deg, gamma=gama, C=1e11) \n",
        "        # Train the model using the training sets\n",
        "        clf.fit(X_train, y_train)\n",
        "        # Predict the response for test dataset\n",
        "        y_pred = clf.predict(X_test)\n",
        "      \n",
        "        # Model Accuracy: how often is the classifier correct?\n",
        "        acc =  metrics.accuracy_score(y_test, y_pred)\n",
        "        all_acc.append(acc)        \n",
        "        print(\"When gamma= {}, degree = {}, Accuracy: {}\".format(gama, deg, acc)) \n",
        "      \n",
        "      print()\n",
        "\n",
        "    if len(gamas) != 1:\n",
        "      return all_acc\n",
        "    else:\n",
        "      accuracy = accuracy_score(y_test, y_pred)\n",
        "      print(\"Accuracy : {} \".format(accuracy))\n",
        "      cnf_matrix = confusion_matrix(y_test, y_pred)\n",
        "      print(\"Confusion Matrix : \\n{} \".format(cnf_matrix))\n",
        "      target_names = ['subclass 0', 'subclass 1', 'subclass 2','subclass 3','subclass 4','subclass 5','subclass 6','subclass 7','subclass 8','subclass 9' ]\n",
        "      report = classification_report(y_test, y_pred, target_names=target_names)\n",
        "      print(report)\n",
        "\n",
        "    "
      ],
      "execution_count": 0,
      "outputs": []
    },
    {
      "cell_type": "markdown",
      "metadata": {
        "id": "SxKKZUTnoxNC",
        "colab_type": "text"
      },
      "source": [
        "# 1.7 Train a soft margin SVM with radial basis function(rbf) as kernel \n",
        "One-vs-all approach."
      ]
    },
    {
      "cell_type": "code",
      "metadata": {
        "id": "qlcK7aAggkom",
        "colab_type": "code",
        "outputId": "75be2cf1-8571-4a65-bdab-dd508783f9c9",
        "colab": {
          "base_uri": "https://localhost:8080/",
          "height": 1000
        }
      },
      "source": [
        "cs = [1e-2, 1 , 1e2]\n",
        "gamas = [2**-2, 2**1, 2**6]\n",
        "model = subclass_prediction_svm()\n",
        "result = model.stratified_k_fold(features=hog_features_train, labels = subclass_labels_train, k=5)\n",
        "\n",
        "f1s = []\n",
        "for i in range (len(result)):\n",
        "  print('Fold {} is processing...'.format(i+1))\n",
        "  %time best = model.multi_class_rbf_kernel (result[i], gamas , cs)\n",
        "  f1s.append(best)\n",
        "  print()\n",
        "\n",
        "avg_f1 = np.average(f1s, axis=0)\n",
        "ind_arr = np.where(avg_f1 == max(avg_f1))\n",
        "ind = ind_arr[0][0]\n",
        "print(\"Best of the Gamma value: {}, C value: {} \\n\".format(gamas[int(ind/3)], cs [ind%3]))\n",
        "print(avg_f1)"
      ],
      "execution_count": 0,
      "outputs": [
        {
          "output_type": "stream",
          "text": [
            "Fold 1 is processing...\n",
            "When gamma= 0.25, c = 0.01, Accuracy: 0.3025\n",
            "When gamma= 0.25, c = 1, Accuracy: 0.345\n",
            "When gamma= 0.25, c = 100.0, Accuracy: 0.3175\n",
            "\n",
            "When gamma= 2, c = 0.01, Accuracy: 0.3025\n",
            "When gamma= 2, c = 1, Accuracy: 0.355\n",
            "When gamma= 2, c = 100.0, Accuracy: 0.3475\n",
            "\n",
            "When gamma= 64, c = 0.01, Accuracy: 0.135\n",
            "When gamma= 64, c = 1, Accuracy: 0.1075\n",
            "When gamma= 64, c = 100.0, Accuracy: 0.11\n",
            "\n",
            "CPU times: user 23.5 s, sys: 7 ms, total: 23.5 s\n",
            "Wall time: 23.5 s\n",
            "\n",
            "Fold 2 is processing...\n",
            "When gamma= 0.25, c = 0.01, Accuracy: 0.275\n",
            "When gamma= 0.25, c = 1, Accuracy: 0.3325\n",
            "When gamma= 0.25, c = 100.0, Accuracy: 0.335\n",
            "\n",
            "When gamma= 2, c = 0.01, Accuracy: 0.2475\n",
            "When gamma= 2, c = 1, Accuracy: 0.3675\n",
            "When gamma= 2, c = 100.0, Accuracy: 0.3675\n",
            "\n",
            "When gamma= 64, c = 0.01, Accuracy: 0.1625\n",
            "When gamma= 64, c = 1, Accuracy: 0.11\n",
            "When gamma= 64, c = 100.0, Accuracy: 0.115\n",
            "\n",
            "CPU times: user 23.6 s, sys: 9 ms, total: 23.6 s\n",
            "Wall time: 23.6 s\n",
            "\n",
            "Fold 3 is processing...\n",
            "When gamma= 0.25, c = 0.01, Accuracy: 0.2725\n",
            "When gamma= 0.25, c = 1, Accuracy: 0.33\n",
            "When gamma= 0.25, c = 100.0, Accuracy: 0.31\n",
            "\n",
            "When gamma= 2, c = 0.01, Accuracy: 0.2375\n",
            "When gamma= 2, c = 1, Accuracy: 0.35\n",
            "When gamma= 2, c = 100.0, Accuracy: 0.355\n",
            "\n",
            "When gamma= 64, c = 0.01, Accuracy: 0.1425\n",
            "When gamma= 64, c = 1, Accuracy: 0.105\n",
            "When gamma= 64, c = 100.0, Accuracy: 0.105\n",
            "\n",
            "CPU times: user 23.6 s, sys: 3 ms, total: 23.6 s\n",
            "Wall time: 23.6 s\n",
            "\n",
            "Fold 4 is processing...\n",
            "When gamma= 0.25, c = 0.01, Accuracy: 0.245\n",
            "When gamma= 0.25, c = 1, Accuracy: 0.32\n",
            "When gamma= 0.25, c = 100.0, Accuracy: 0.3025\n",
            "\n",
            "When gamma= 2, c = 0.01, Accuracy: 0.25\n",
            "When gamma= 2, c = 1, Accuracy: 0.325\n",
            "When gamma= 2, c = 100.0, Accuracy: 0.3425\n",
            "\n",
            "When gamma= 64, c = 0.01, Accuracy: 0.2075\n",
            "When gamma= 64, c = 1, Accuracy: 0.105\n",
            "When gamma= 64, c = 100.0, Accuracy: 0.1075\n",
            "\n",
            "CPU times: user 23.6 s, sys: 5 ms, total: 23.6 s\n",
            "Wall time: 23.6 s\n",
            "\n",
            "Fold 5 is processing...\n",
            "When gamma= 0.25, c = 0.01, Accuracy: 0.29\n",
            "When gamma= 0.25, c = 1, Accuracy: 0.3175\n",
            "When gamma= 0.25, c = 100.0, Accuracy: 0.285\n",
            "\n",
            "When gamma= 2, c = 0.01, Accuracy: 0.2525\n",
            "When gamma= 2, c = 1, Accuracy: 0.3425\n",
            "When gamma= 2, c = 100.0, Accuracy: 0.335\n",
            "\n",
            "When gamma= 64, c = 0.01, Accuracy: 0.185\n",
            "When gamma= 64, c = 1, Accuracy: 0.105\n",
            "When gamma= 64, c = 100.0, Accuracy: 0.11\n",
            "\n",
            "CPU times: user 23.5 s, sys: 10 ms, total: 23.5 s\n",
            "Wall time: 23.5 s\n",
            "\n",
            "Best of the Gamma value: 2, C value: 100.0 \n",
            "\n",
            "[0.277  0.329  0.31   0.258  0.348  0.3495 0.1665 0.1065 0.1095]\n"
          ],
          "name": "stdout"
        }
      ]
    },
    {
      "cell_type": "code",
      "metadata": {
        "id": "_-uynHmYngv2",
        "colab_type": "code",
        "outputId": "176a1f34-b3e2-4fa9-c08b-17a065666a59",
        "colab": {
          "base_uri": "https://localhost:8080/",
          "height": 578
        }
      },
      "source": [
        "gama = [gamas[int(ind/3)]]\n",
        "c  = [cs [ind%3]]\n",
        "fold = [hog_features_train, hog_features_test, subclass_labels_train, subclass_labels_test]\n",
        "model = subclass_prediction_svm()\n",
        "%time best = model.multi_class_rbf_kernel(fold, gama , c)"
      ],
      "execution_count": 0,
      "outputs": [
        {
          "output_type": "stream",
          "text": [
            "When gamma= 2, c = 100.0, Accuracy: 0.36\n",
            "\n",
            "Accuracy : 0.36 \n",
            "Confusion Matrix : \n",
            "[[21  2  4  2  0  4  3  3  0  1]\n",
            " [ 0  8  3  4 14  3  1  0  7  0]\n",
            " [ 6  5  5  7  5  2  3  2  4  1]\n",
            " [ 4  4  2 11  9  1  3  2  1  3]\n",
            " [ 2  6  0  3 20  0  1  2  5  1]\n",
            " [ 3  1  1  5  3 16  6  1  0  4]\n",
            " [ 2  1  0  6  1  2 20  4  2  2]\n",
            " [ 2  1  1  3  2  4  5 12  9  1]\n",
            " [ 1  5  3  4  7  1  2  6 11  0]\n",
            " [ 0  2  1  1  3  6  0  0  7 20]] \n",
            "              precision    recall  f1-score   support\n",
            "\n",
            "  subclass 0       0.51      0.53      0.52        40\n",
            "  subclass 1       0.23      0.20      0.21        40\n",
            "  subclass 2       0.25      0.12      0.17        40\n",
            "  subclass 3       0.24      0.28      0.26        40\n",
            "  subclass 4       0.31      0.50      0.38        40\n",
            "  subclass 5       0.41      0.40      0.41        40\n",
            "  subclass 6       0.45      0.50      0.48        40\n",
            "  subclass 7       0.38      0.30      0.33        40\n",
            "  subclass 8       0.24      0.28      0.26        40\n",
            "  subclass 9       0.61      0.50      0.55        40\n",
            "\n",
            "    accuracy                           0.36       400\n",
            "   macro avg       0.36      0.36      0.36       400\n",
            "weighted avg       0.36      0.36      0.36       400\n",
            "\n",
            "CPU times: user 4.15 s, sys: 2 ms, total: 4.15 s\n",
            "Wall time: 4.15 s\n"
          ],
          "name": "stdout"
        }
      ]
    },
    {
      "cell_type": "markdown",
      "metadata": {
        "id": "06HUbXkwusHO",
        "colab_type": "text"
      },
      "source": [
        "# Doing everything for the neural network generated features"
      ]
    },
    {
      "cell_type": "code",
      "metadata": {
        "id": "soinn1yMuyBC",
        "colab_type": "code",
        "outputId": "5d2e29cd-813c-4924-f465-26bd6f9cf73e",
        "colab": {
          "base_uri": "https://localhost:8080/"
        }
      },
      "source": [
        "cs = [1e-2, 1 , 1e2]\n",
        "gamas = [2**-2, 2**1, 2**6]\n",
        "model = subclass_prediction_svm()\n",
        "result = model.stratified_k_fold(features=inception_features_train, labels = subclass_labels_train, k=5)\n",
        "\n",
        "f1s = []\n",
        "for i in range (len(result)):\n",
        "  print('Fold {} is processing...'.format(i+1))\n",
        "  %time best = model.multi_class_rbf_kernel (result[i], gamas , cs)\n",
        "  f1s.append(best)\n",
        "  print()\n",
        "\n",
        "avg_f1 = np.average(f1s, axis=0)\n",
        "ind_arr = np.where(avg_f1 == max(avg_f1))\n",
        "ind = ind_arr[0][0]\n",
        "print(\"Best of the Gamma value: {}, C value: {} \\n\".format(gamas[int(ind/3)], cs [ind%3]))\n",
        "print(avg_f1)"
      ],
      "execution_count": 0,
      "outputs": [
        {
          "output_type": "stream",
          "text": [
            "Fold 1 is processing...\n",
            "When gamma= 0.25, c = 0.01, Accuracy: 0.1075\n",
            "When gamma= 0.25, c = 1, Accuracy: 0.115\n",
            "When gamma= 0.25, c = 100.0, Accuracy: 0.115\n",
            "\n",
            "When gamma= 2, c = 0.01, Accuracy: 0.6\n",
            "When gamma= 2, c = 1, Accuracy: 0.3775\n",
            "When gamma= 2, c = 100.0, Accuracy: 0.3775\n",
            "\n",
            "When gamma= 64, c = 0.01, Accuracy: 0.1\n",
            "When gamma= 64, c = 1, Accuracy: 0.1\n",
            "When gamma= 64, c = 100.0, Accuracy: 0.1\n",
            "\n",
            "CPU times: user 2min 24s, sys: 17 ms, total: 2min 24s\n",
            "Wall time: 2min 24s\n",
            "\n",
            "Fold 2 is processing...\n",
            "When gamma= 0.25, c = 0.01, Accuracy: 0.105\n",
            "When gamma= 0.25, c = 1, Accuracy: 0.11\n",
            "When gamma= 0.25, c = 100.0, Accuracy: 0.11\n",
            "\n",
            "When gamma= 2, c = 0.01, Accuracy: 0.5675\n",
            "When gamma= 2, c = 1, Accuracy: 0.34\n",
            "When gamma= 2, c = 100.0, Accuracy: 0.34\n",
            "\n",
            "When gamma= 64, c = 0.01, Accuracy: 0.1\n",
            "When gamma= 64, c = 1, Accuracy: 0.1\n",
            "When gamma= 64, c = 100.0, Accuracy: 0.1\n",
            "\n",
            "CPU times: user 2min 28s, sys: 25 ms, total: 2min 28s\n",
            "Wall time: 2min 29s\n",
            "\n",
            "Fold 3 is processing...\n",
            "When gamma= 0.25, c = 0.01, Accuracy: 0.105\n",
            "When gamma= 0.25, c = 1, Accuracy: 0.115\n",
            "When gamma= 0.25, c = 100.0, Accuracy: 0.115\n",
            "\n",
            "When gamma= 2, c = 0.01, Accuracy: 0.5825\n",
            "When gamma= 2, c = 1, Accuracy: 0.33\n",
            "When gamma= 2, c = 100.0, Accuracy: 0.33\n",
            "\n",
            "When gamma= 64, c = 0.01, Accuracy: 0.1\n",
            "When gamma= 64, c = 1, Accuracy: 0.1\n",
            "When gamma= 64, c = 100.0, Accuracy: 0.1\n",
            "\n",
            "CPU times: user 2min 30s, sys: 25 ms, total: 2min 31s\n",
            "Wall time: 2min 31s\n",
            "\n",
            "Fold 4 is processing...\n",
            "When gamma= 0.25, c = 0.01, Accuracy: 0.1125\n",
            "When gamma= 0.25, c = 1, Accuracy: 0.1175\n",
            "When gamma= 0.25, c = 100.0, Accuracy: 0.1175\n",
            "\n",
            "When gamma= 2, c = 0.01, Accuracy: 0.5475\n",
            "When gamma= 2, c = 1, Accuracy: 0.345\n",
            "When gamma= 2, c = 100.0, Accuracy: 0.345\n",
            "\n",
            "When gamma= 64, c = 0.01, Accuracy: 0.1\n",
            "When gamma= 64, c = 1, Accuracy: 0.1\n",
            "When gamma= 64, c = 100.0, Accuracy: 0.1\n",
            "\n",
            "CPU times: user 2min 29s, sys: 26.9 ms, total: 2min 29s\n",
            "Wall time: 2min 29s\n",
            "\n",
            "Fold 5 is processing...\n",
            "When gamma= 0.25, c = 0.01, Accuracy: 0.1275\n",
            "When gamma= 0.25, c = 1, Accuracy: 0.14\n",
            "When gamma= 0.25, c = 100.0, Accuracy: 0.1475\n",
            "\n",
            "When gamma= 2, c = 0.01, Accuracy: 0.5825\n",
            "When gamma= 2, c = 1, Accuracy: 0.425\n",
            "When gamma= 2, c = 100.0, Accuracy: 0.4225\n",
            "\n",
            "When gamma= 64, c = 0.01, Accuracy: 0.1\n",
            "When gamma= 64, c = 1, Accuracy: 0.1\n",
            "When gamma= 64, c = 100.0, Accuracy: 0.1\n",
            "\n",
            "CPU times: user 2min 29s, sys: 23 ms, total: 2min 29s\n",
            "Wall time: 2min 29s\n",
            "\n",
            "Best of the Gamma value: 2, C value: 0.01 \n",
            "\n",
            "[0.1115 0.1195 0.121  0.576  0.3635 0.363  0.1    0.1    0.1   ]\n"
          ],
          "name": "stdout"
        }
      ]
    },
    {
      "cell_type": "code",
      "metadata": {
        "id": "LFHIU8w5uyvc",
        "colab_type": "code",
        "outputId": "0bdfe0a8-7f14-40d7-b2f5-00762ea627fd",
        "colab": {
          "base_uri": "https://localhost:8080/"
        }
      },
      "source": [
        "gama = [gamas[int(ind/3)]]\n",
        "c  = [cs [ind%3]]\n",
        "fold = [inception_features_train, inception_features_test, subclass_labels_train, subclass_labels_test]\n",
        "model = subclass_prediction_svm()\n",
        "%time  best = model.multi_class_rbf_kernel(fold, gama , c)"
      ],
      "execution_count": 0,
      "outputs": [
        {
          "output_type": "stream",
          "text": [
            "When gamma= 2, c = 0.01, Accuracy: 0.58\n",
            "\n",
            "Accuracy : 0.58 \n",
            "Confusion Matrix : \n",
            "[[23  1  5  5  0  0  2  1  0  3]\n",
            " [ 0 20  0  2  6  0  0  3  8  1]\n",
            " [11  1 13  8  1  1  0  1  1  3]\n",
            " [ 4  4  5 21  2  0  1  0  3  0]\n",
            " [ 0  6  1  2 25  0  0  0  5  1]\n",
            " [ 3  0  0  0  0 32  1  0  1  3]\n",
            " [ 1  2  0  0  0  2 27  4  0  4]\n",
            " [ 1  2  1  0  0  3  1 22  8  2]\n",
            " [ 2 10  0  0  1  1  1  2 21  2]\n",
            " [ 3  2  0  2  0  2  1  0  2 28]] \n",
            "              precision    recall  f1-score   support\n",
            "\n",
            "  subclass 0       0.48      0.57      0.52        40\n",
            "  subclass 1       0.42      0.50      0.45        40\n",
            "  subclass 2       0.52      0.33      0.40        40\n",
            "  subclass 3       0.53      0.53      0.53        40\n",
            "  subclass 4       0.71      0.62      0.67        40\n",
            "  subclass 5       0.78      0.80      0.79        40\n",
            "  subclass 6       0.79      0.68      0.73        40\n",
            "  subclass 7       0.67      0.55      0.60        40\n",
            "  subclass 8       0.43      0.53      0.47        40\n",
            "  subclass 9       0.60      0.70      0.64        40\n",
            "\n",
            "    accuracy                           0.58       400\n",
            "   macro avg       0.59      0.58      0.58       400\n",
            "weighted avg       0.59      0.58      0.58       400\n",
            "\n",
            "CPU times: user 25.4 s, sys: 999 µs, total: 25.4 s\n",
            "Wall time: 25.4 s\n"
          ],
          "name": "stdout"
        }
      ]
    },
    {
      "cell_type": "markdown",
      "metadata": {
        "id": "NLpRAt_uo32_",
        "colab_type": "text"
      },
      "source": [
        "# 1.8 Train a hard margin SVM with polynomial kernel."
      ]
    },
    {
      "cell_type": "code",
      "metadata": {
        "id": "C75I1PKCo2p8",
        "colab_type": "code",
        "outputId": "0cf143ea-b72a-4620-bf51-003cab8def19",
        "colab": {
          "base_uri": "https://localhost:8080/",
          "height": 1000
        }
      },
      "source": [
        "degrees = [3,5,7]\n",
        "gamas = [2**-2, 2**1, 2**6]\n",
        "model = subclass_prediction_svm()\n",
        "result = model.stratified_k_fold(features=hog_features_train, labels = subclass_labels_train, k=5)\n",
        "\n",
        "f1s = []\n",
        "for i in range (len(result)):\n",
        "  print('Fold {} is processing...'.format(i+1))\n",
        "  %time best = model.multi_class_poly_kernel (result[i], gamas , degrees)\n",
        "  f1s.append(best)\n",
        "  print()\n",
        "\n",
        "avg_f1 = np.average(f1s, axis=0)\n",
        "ind_arr = np.where(avg_f1 == max(avg_f1))\n",
        "ind = ind_arr[0][0]\n",
        "print(\"Best of the Gamma value: {}, degree value: {} \\n\".format(gamas[int(ind/3)], degrees[ind%3]))\n",
        "print(avg_f1)"
      ],
      "execution_count": 0,
      "outputs": [
        {
          "output_type": "stream",
          "text": [
            "Fold 1 is processing...\n",
            "When gamma= 0.25, degree = 3, Accuracy: 0.33\n",
            "When gamma= 0.25, degree = 5, Accuracy: 0.33\n",
            "When gamma= 0.25, degree = 7, Accuracy: 0.365\n",
            "\n",
            "When gamma= 2, degree = 3, Accuracy: 0.33\n",
            "When gamma= 2, degree = 5, Accuracy: 0.33\n",
            "When gamma= 2, degree = 7, Accuracy: 0.365\n",
            "\n",
            "When gamma= 64, degree = 3, Accuracy: 0.33\n",
            "When gamma= 64, degree = 5, Accuracy: 0.33\n",
            "When gamma= 64, degree = 7, Accuracy: 0.365\n",
            "\n",
            "CPU times: user 22.2 s, sys: 17 ms, total: 22.2 s\n",
            "Wall time: 22.2 s\n",
            "\n",
            "Fold 2 is processing...\n",
            "When gamma= 0.25, degree = 3, Accuracy: 0.295\n",
            "When gamma= 0.25, degree = 5, Accuracy: 0.35\n",
            "When gamma= 0.25, degree = 7, Accuracy: 0.37\n",
            "\n",
            "When gamma= 2, degree = 3, Accuracy: 0.295\n",
            "When gamma= 2, degree = 5, Accuracy: 0.35\n",
            "When gamma= 2, degree = 7, Accuracy: 0.37\n",
            "\n",
            "When gamma= 64, degree = 3, Accuracy: 0.295\n",
            "When gamma= 64, degree = 5, Accuracy: 0.35\n",
            "When gamma= 64, degree = 7, Accuracy: 0.37\n",
            "\n",
            "CPU times: user 22.1 s, sys: 8 ms, total: 22.1 s\n",
            "Wall time: 22.1 s\n",
            "\n",
            "Fold 3 is processing...\n",
            "When gamma= 0.25, degree = 3, Accuracy: 0.325\n",
            "When gamma= 0.25, degree = 5, Accuracy: 0.35\n",
            "When gamma= 0.25, degree = 7, Accuracy: 0.3375\n",
            "\n",
            "When gamma= 2, degree = 3, Accuracy: 0.325\n",
            "When gamma= 2, degree = 5, Accuracy: 0.35\n",
            "When gamma= 2, degree = 7, Accuracy: 0.3375\n",
            "\n",
            "When gamma= 64, degree = 3, Accuracy: 0.325\n",
            "When gamma= 64, degree = 5, Accuracy: 0.35\n",
            "When gamma= 64, degree = 7, Accuracy: 0.3375\n",
            "\n",
            "CPU times: user 22.6 s, sys: 13 ms, total: 22.6 s\n",
            "Wall time: 22.7 s\n",
            "\n",
            "Fold 4 is processing...\n",
            "When gamma= 0.25, degree = 3, Accuracy: 0.3475\n",
            "When gamma= 0.25, degree = 5, Accuracy: 0.3575\n",
            "When gamma= 0.25, degree = 7, Accuracy: 0.3675\n",
            "\n",
            "When gamma= 2, degree = 3, Accuracy: 0.3475\n",
            "When gamma= 2, degree = 5, Accuracy: 0.3575\n",
            "When gamma= 2, degree = 7, Accuracy: 0.3675\n",
            "\n",
            "When gamma= 64, degree = 3, Accuracy: 0.3475\n",
            "When gamma= 64, degree = 5, Accuracy: 0.3575\n",
            "When gamma= 64, degree = 7, Accuracy: 0.3675\n",
            "\n",
            "CPU times: user 23 s, sys: 3.99 ms, total: 23 s\n",
            "Wall time: 23.1 s\n",
            "\n",
            "Fold 5 is processing...\n",
            "When gamma= 0.25, degree = 3, Accuracy: 0.35\n",
            "When gamma= 0.25, degree = 5, Accuracy: 0.36\n",
            "When gamma= 0.25, degree = 7, Accuracy: 0.365\n",
            "\n",
            "When gamma= 2, degree = 3, Accuracy: 0.35\n",
            "When gamma= 2, degree = 5, Accuracy: 0.36\n",
            "When gamma= 2, degree = 7, Accuracy: 0.365\n",
            "\n",
            "When gamma= 64, degree = 3, Accuracy: 0.35\n",
            "When gamma= 64, degree = 5, Accuracy: 0.36\n",
            "When gamma= 64, degree = 7, Accuracy: 0.365\n",
            "\n",
            "CPU times: user 22.2 s, sys: 11 ms, total: 22.2 s\n",
            "Wall time: 22.2 s\n",
            "\n",
            "Best of the Gamma value: 0.25, degree value: 7 \n",
            "\n",
            "[0.3295 0.3495 0.361  0.3295 0.3495 0.361  0.3295 0.3495 0.361 ]\n"
          ],
          "name": "stdout"
        }
      ]
    },
    {
      "cell_type": "code",
      "metadata": {
        "id": "4NHSn-p8qSXy",
        "colab_type": "code",
        "outputId": "991326c1-41ad-4bcd-d67d-e34b84e53f65",
        "colab": {
          "base_uri": "https://localhost:8080/",
          "height": 578
        }
      },
      "source": [
        "gama = [gamas[ind%3]]\n",
        "degree  = [degrees [int(ind/3)]]\n",
        "fold = [hog_features_train, hog_features_test, subclass_labels_train, subclass_labels_test]\n",
        "model = subclass_prediction_svm()\n",
        "%time best = model.multi_class_poly_kernel(fold, gama , degree)"
      ],
      "execution_count": 0,
      "outputs": [
        {
          "output_type": "stream",
          "text": [
            "When gamma= 64, degree = 3, Accuracy: 0.3775\n",
            "\n",
            "Accuracy : 0.3775 \n",
            "Confusion Matrix : \n",
            "[[18  2  3  5  1  1  4  4  0  2]\n",
            " [ 1 16  4  2 10  3  1  1  2  0]\n",
            " [10  7  9  3  1  2  3  1  3  1]\n",
            " [ 4  4  4  8  9  2  4  2  2  1]\n",
            " [ 4  6  1  3 22  0  1  0  1  2]\n",
            " [ 5  2  2  4  1 15  4  4  0  3]\n",
            " [ 3  1  0  5  1  3 20  2  3  2]\n",
            " [ 3  1  1  6  1  4  5 12  6  1]\n",
            " [ 4  7  3  1  5  4  1  5 10  0]\n",
            " [ 1  0  2  1  5  3  0  1  6 21]] \n",
            "              precision    recall  f1-score   support\n",
            "\n",
            "  subclass 0       0.34      0.45      0.39        40\n",
            "  subclass 1       0.35      0.40      0.37        40\n",
            "  subclass 2       0.31      0.23      0.26        40\n",
            "  subclass 3       0.21      0.20      0.21        40\n",
            "  subclass 4       0.39      0.55      0.46        40\n",
            "  subclass 5       0.41      0.38      0.39        40\n",
            "  subclass 6       0.47      0.50      0.48        40\n",
            "  subclass 7       0.38      0.30      0.33        40\n",
            "  subclass 8       0.30      0.25      0.27        40\n",
            "  subclass 9       0.64      0.53      0.58        40\n",
            "\n",
            "    accuracy                           0.38       400\n",
            "   macro avg       0.38      0.38      0.37       400\n",
            "weighted avg       0.38      0.38      0.37       400\n",
            "\n",
            "CPU times: user 3.69 s, sys: 1 ms, total: 3.69 s\n",
            "Wall time: 3.69 s\n"
          ],
          "name": "stdout"
        }
      ]
    },
    {
      "cell_type": "markdown",
      "metadata": {
        "id": "eCnS3SMwvETV",
        "colab_type": "text"
      },
      "source": [
        "# Doing everything for the neural network generated features"
      ]
    },
    {
      "cell_type": "code",
      "metadata": {
        "id": "89wlerivvIL1",
        "colab_type": "code",
        "outputId": "c9aa7bfa-10ef-45d7-c71a-0efc9fa55f3c",
        "colab": {
          "base_uri": "https://localhost:8080/",
          "height": 1000
        }
      },
      "source": [
        "degrees = [3,5,7]\n",
        "gamas = [2**-2, 2**1, 2**6]\n",
        "model = subclass_prediction_svm()\n",
        "result = model.stratified_k_fold(features=inception_features_train, labels = subclass_labels_train, k=5)\n",
        "\n",
        "f1s = []\n",
        "for i in range (len(result)):\n",
        "  print('Fold {} is processing...'.format(i+1))\n",
        "  %time best = model.multi_class_poly_kernel (result[i], gamas , degrees)\n",
        "  f1s.append(best)\n",
        "  print()\n",
        "\n",
        "avg_f1 = np.average(f1s, axis=0)\n",
        "ind_arr = np.where(avg_f1 == max(avg_f1))\n",
        "ind = ind_arr[0][0]\n",
        "print(\"Best of the Gamma value: {}, degree value: {} \\n\".format(gamas[int(ind/3)], degree[ind%3]))\n",
        "print(avg_f1)"
      ],
      "execution_count": 0,
      "outputs": [
        {
          "output_type": "stream",
          "text": [
            "Fold 1 is processing...\n",
            "When gamma= 0.25, degree = 3, Accuracy: 0.6825\n",
            "When gamma= 0.25, degree = 5, Accuracy: 0.6675\n",
            "When gamma= 0.25, degree = 7, Accuracy: 0.6275\n",
            "\n",
            "When gamma= 2, degree = 3, Accuracy: 0.6825\n",
            "When gamma= 2, degree = 5, Accuracy: 0.6675\n",
            "When gamma= 2, degree = 7, Accuracy: 0.6275\n",
            "\n",
            "When gamma= 64, degree = 3, Accuracy: 0.6825\n",
            "When gamma= 64, degree = 5, Accuracy: 0.6675\n",
            "When gamma= 64, degree = 7, Accuracy: 0.6275\n",
            "\n",
            "CPU times: user 1min 25s, sys: 14.9 ms, total: 1min 25s\n",
            "Wall time: 1min 25s\n",
            "\n",
            "Fold 2 is processing...\n",
            "When gamma= 0.25, degree = 3, Accuracy: 0.7\n",
            "When gamma= 0.25, degree = 5, Accuracy: 0.69\n",
            "When gamma= 0.25, degree = 7, Accuracy: 0.645\n",
            "\n",
            "When gamma= 2, degree = 3, Accuracy: 0.7\n",
            "When gamma= 2, degree = 5, Accuracy: 0.69\n",
            "When gamma= 2, degree = 7, Accuracy: 0.645\n",
            "\n",
            "When gamma= 64, degree = 3, Accuracy: 0.7\n",
            "When gamma= 64, degree = 5, Accuracy: 0.69\n",
            "When gamma= 64, degree = 7, Accuracy: 0.645\n",
            "\n",
            "CPU times: user 1min 24s, sys: 10 ms, total: 1min 24s\n",
            "Wall time: 1min 24s\n",
            "\n",
            "Fold 3 is processing...\n",
            "When gamma= 0.25, degree = 3, Accuracy: 0.64\n",
            "When gamma= 0.25, degree = 5, Accuracy: 0.6425\n",
            "When gamma= 0.25, degree = 7, Accuracy: 0.595\n",
            "\n",
            "When gamma= 2, degree = 3, Accuracy: 0.64\n",
            "When gamma= 2, degree = 5, Accuracy: 0.6425\n",
            "When gamma= 2, degree = 7, Accuracy: 0.595\n",
            "\n",
            "When gamma= 64, degree = 3, Accuracy: 0.64\n",
            "When gamma= 64, degree = 5, Accuracy: 0.6425\n",
            "When gamma= 64, degree = 7, Accuracy: 0.595\n",
            "\n",
            "CPU times: user 1min 25s, sys: 13 ms, total: 1min 25s\n",
            "Wall time: 1min 25s\n",
            "\n",
            "Fold 4 is processing...\n",
            "When gamma= 0.25, degree = 3, Accuracy: 0.6675\n",
            "When gamma= 0.25, degree = 5, Accuracy: 0.6625\n",
            "When gamma= 0.25, degree = 7, Accuracy: 0.6275\n",
            "\n",
            "When gamma= 2, degree = 3, Accuracy: 0.6675\n",
            "When gamma= 2, degree = 5, Accuracy: 0.6625\n",
            "When gamma= 2, degree = 7, Accuracy: 0.6275\n",
            "\n",
            "When gamma= 64, degree = 3, Accuracy: 0.6675\n",
            "When gamma= 64, degree = 5, Accuracy: 0.6625\n",
            "When gamma= 64, degree = 7, Accuracy: 0.6275\n",
            "\n",
            "CPU times: user 1min 25s, sys: 10 ms, total: 1min 25s\n",
            "Wall time: 1min 25s\n",
            "\n",
            "Fold 5 is processing...\n",
            "When gamma= 0.25, degree = 3, Accuracy: 0.6925\n",
            "When gamma= 0.25, degree = 5, Accuracy: 0.695\n",
            "When gamma= 0.25, degree = 7, Accuracy: 0.6625\n",
            "\n",
            "When gamma= 2, degree = 3, Accuracy: 0.6925\n",
            "When gamma= 2, degree = 5, Accuracy: 0.695\n",
            "When gamma= 2, degree = 7, Accuracy: 0.6625\n",
            "\n",
            "When gamma= 64, degree = 3, Accuracy: 0.6925\n",
            "When gamma= 64, degree = 5, Accuracy: 0.695\n",
            "When gamma= 64, degree = 7, Accuracy: 0.6625\n",
            "\n",
            "CPU times: user 1min 28s, sys: 20 ms, total: 1min 29s\n",
            "Wall time: 1min 29s\n",
            "\n",
            "Best of the Gamma value: 0.25, degree value: 3 \n",
            "\n",
            "[0.6765 0.6715 0.6315 0.6765 0.6715 0.6315 0.6765 0.6715 0.6315]\n"
          ],
          "name": "stdout"
        }
      ]
    },
    {
      "cell_type": "code",
      "metadata": {
        "id": "Duyy8khdvF5t",
        "colab_type": "code",
        "outputId": "1682702c-d52b-449a-914a-4d5f40979d4f",
        "colab": {
          "base_uri": "https://localhost:8080/",
          "height": 578
        }
      },
      "source": [
        "gama = [gamas[ind%3]]\n",
        "degree  = [degrees [int(ind/3)]]\n",
        "fold = [inception_features_train, inception_features_test, subclass_labels_train, subclass_labels_test]\n",
        "model = subclass_prediction_svm()\n",
        "%time best = model.multi_class_poly_kernel(fold, gama , degree)"
      ],
      "execution_count": 0,
      "outputs": [
        {
          "output_type": "stream",
          "text": [
            "When gamma= 0.25, degree = 3, Accuracy: 0.7275\n",
            "\n",
            "Accuracy : 0.7275 \n",
            "Confusion Matrix : \n",
            "[[31  1  6  2  0  0  0  0  0  0]\n",
            " [ 0 30  0  1  2  0  1  1  4  1]\n",
            " [10  1 17  8  1  1  1  1  0  0]\n",
            " [ 1  0  6 28  3  0  1  0  1  0]\n",
            " [ 0  4  0  1 31  0  0  2  2  0]\n",
            " [ 0  0  0  0  0 35  2  1  2  0]\n",
            " [ 0  1  2  0  0  1 31  3  0  2]\n",
            " [ 0  0  2  2  0  0  2 33  1  0]\n",
            " [ 0  3  1  0  3  0  1  4 24  4]\n",
            " [ 1  1  2  0  0  2  1  0  2 31]] \n",
            "              precision    recall  f1-score   support\n",
            "\n",
            "  subclass 0       0.72      0.78      0.75        40\n",
            "  subclass 1       0.73      0.75      0.74        40\n",
            "  subclass 2       0.47      0.42      0.45        40\n",
            "  subclass 3       0.67      0.70      0.68        40\n",
            "  subclass 4       0.78      0.78      0.78        40\n",
            "  subclass 5       0.90      0.88      0.89        40\n",
            "  subclass 6       0.78      0.78      0.78        40\n",
            "  subclass 7       0.73      0.82      0.78        40\n",
            "  subclass 8       0.67      0.60      0.63        40\n",
            "  subclass 9       0.82      0.78      0.79        40\n",
            "\n",
            "    accuracy                           0.73       400\n",
            "   macro avg       0.73      0.73      0.73       400\n",
            "weighted avg       0.73      0.73      0.73       400\n",
            "\n",
            "CPU times: user 13 s, sys: 999 µs, total: 13 s\n",
            "Wall time: 13.1 s\n"
          ],
          "name": "stdout"
        }
      ]
    },
    {
      "cell_type": "markdown",
      "metadata": {
        "id": "i7garabY3iiQ",
        "colab_type": "text"
      },
      "source": [
        "# Question 2 - PCA\n",
        "\n",
        "**First organizing the data** "
      ]
    },
    {
      "cell_type": "code",
      "metadata": {
        "id": "Xv2T_hM23mgf",
        "colab_type": "code",
        "outputId": "bc3a2d0a-da6c-4b28-dc47-a912dececba6",
        "colab": {
          "base_uri": "https://localhost:8080/",
          "height": 34
        }
      },
      "source": [
        "q2_dataset = loadmat(q2)\n",
        "data = q2_dataset['data']\n",
        "X = np.reshape(data, (150,10625))\n",
        "print(X.shape)"
      ],
      "execution_count": 0,
      "outputs": [
        {
          "output_type": "stream",
          "text": [
            "(150, 10625)\n"
          ],
          "name": "stdout"
        }
      ]
    },
    {
      "cell_type": "code",
      "metadata": {
        "id": "uUA8hlRF5a2E",
        "colab_type": "code",
        "colab": {}
      },
      "source": [
        "#imports\n",
        "import numpy as np\n",
        "from numpy import array\n",
        "from numpy import mean\n",
        "from numpy import cov\n",
        "import numpy.linalg \n",
        "import pandas as pd\n",
        "from sklearn.metrics import mean_squared_error\n",
        "import matplotlib.pyplot as plt\n",
        "\n",
        "class pca_implementation:\n",
        "  #def __init__():\n",
        "  def cov_based_PCA (self, A):\n",
        "    \n",
        "    x_std = (A - A.mean()) \n",
        "    # features are columns from x_std\n",
        "    covariance_matrix = np.cov(x_std)\n",
        "    print(\"Calculating eigenvalues and eigenvalues..\")\n",
        "\n",
        "    eig_vals, eig_vecs = np.linalg.eig(covariance_matrix)\n",
        "    '''\n",
        "    print('\\nEigenvectors\\n%s' %eig_vecs)\n",
        "    print('\\nEigenvalues \\n%s' %eig_vals)\n",
        "    '''\n",
        "    reconst = (np.mat(eig_vecs) * np.mat(x_std))\n",
        "\n",
        "    result = pd.DataFrame(reconst)\n",
        "    print(\"\\Reconstructed image shape: {}\\n\".format(result.shape))\n",
        "    result = np.real(result)\n",
        "\n",
        "    mse = self.mean_squ_err(x_std, result)\n",
        "    print(\"MSE for cov based implementation: {}\\n\".format(mse))\n",
        "\n",
        "    return A,result\n",
        "  \n",
        "  def svd_based_PCA (self, A):\n",
        "    print(\"Calculating Principal components with svd...\")\n",
        "\n",
        "    x_std = (A - A.mean()) \n",
        "\n",
        "    u , s, v = np.linalg.svd(x_std, False)\n",
        "    \n",
        "    k = u.shape[0]\n",
        "    reconst = np.mat (u[:, :k]) * np.diag(s[:k]) * np.mat(v[:k, :])\n",
        "\n",
        "    result = pd.DataFrame(reconst)\n",
        "    print(\"\\nReconstructed image shape: {}\\n\".format(result.shape))\n",
        "    result = np.real(result)\n",
        "\n",
        "    mse = self.mean_squ_err(A, result)\n",
        "    print(\"MSE for svd based implementation: {}\\n\".format(mse))\n",
        "\n",
        "    return A, result\n",
        "  \n",
        "  def mean_squ_err (self, orig, recons):\n",
        "    #mse = (np.square(orig - recons)).mean()\n",
        "    return mean_squared_error(orig, recons)\n",
        "  \n",
        "  def plot_res (self,original):\n",
        "    first_ori = original[0:5, ]\n",
        "    for i in first_ori:\n",
        "      x = i.reshape(85,125)\n",
        "      self.display(x)\n",
        "\n",
        "  def display (self, arr):\n",
        "    fig, axs = plt.subplots(1, 1,figsize=(3,5))\n",
        "    axs.imshow(arr)\n",
        "    plt.tight_layout()\n",
        "    plt.show()\n"
      ],
      "execution_count": 0,
      "outputs": []
    },
    {
      "cell_type": "markdown",
      "metadata": {
        "id": "e3y3kB8TIdkW",
        "colab_type": "text"
      },
      "source": [
        "# 2.1 Finding MSE by SVD based implementation"
      ]
    },
    {
      "cell_type": "code",
      "metadata": {
        "id": "-KHxT0p-BFoe",
        "colab_type": "code",
        "outputId": "884ad1a4-3379-4f58-f8ae-25f755e31d8c",
        "colab": {
          "base_uri": "https://localhost:8080/",
          "height": 153
        }
      },
      "source": [
        "model = pca_implementation()\n",
        "%time original1, reconst1 = model.svd_based_PCA(X)"
      ],
      "execution_count": 0,
      "outputs": [
        {
          "output_type": "stream",
          "text": [
            "Calculating Principal components with svd...\n",
            "\n",
            "Reconstructed image shape: (150, 10625)\n",
            "\n",
            "MSE for svd based implementation: 0.006597526837140322\n",
            "\n",
            "CPU times: user 576 ms, sys: 66.7 ms, total: 643 ms\n",
            "Wall time: 346 ms\n"
          ],
          "name": "stdout"
        }
      ]
    },
    {
      "cell_type": "markdown",
      "metadata": {
        "id": "YhwcnvP5WspY",
        "colab_type": "text"
      },
      "source": [
        "# 2.2 Finding MSE by covariance based implementation"
      ]
    },
    {
      "cell_type": "code",
      "metadata": {
        "id": "u-byXr-YxqXq",
        "colab_type": "code",
        "outputId": "002d0ef8-0586-4fad-b54d-b1dfb7dd06c1",
        "colab": {
          "base_uri": "https://localhost:8080/",
          "height": 136
        }
      },
      "source": [
        "model = pca_implementation()\n",
        "%time original2, reconst2 = model.cov_based_PCA(X)"
      ],
      "execution_count": 0,
      "outputs": [
        {
          "output_type": "stream",
          "text": [
            "Calculating eigenvalues and eigenvalues..\n",
            "\\Reconstructed image shape: (150, 10625)\n",
            "\n",
            "MSE for cov based implementation: 0.1343346544795466\n",
            "\n",
            "CPU times: user 101 ms, sys: 45.1 ms, total: 146 ms\n",
            "Wall time: 76.6 ms\n"
          ],
          "name": "stdout"
        }
      ]
    },
    {
      "cell_type": "markdown",
      "metadata": {
        "id": "yrWTklEUFs_W",
        "colab_type": "text"
      },
      "source": [
        "# 2.3 Plot the following to a grid of size 3 x 5\n",
        "for SVD result"
      ]
    },
    {
      "cell_type": "markdown",
      "metadata": {
        "id": "k-qFOU3AZJ5v",
        "colab_type": "text"
      },
      "source": [
        "**From Question 2.1**"
      ]
    },
    {
      "cell_type": "code",
      "metadata": {
        "id": "4RNh98E5Fr4S",
        "colab_type": "code",
        "outputId": "8c9c7754-06a3-4f5b-a6f1-fe384b777d01",
        "colab": {
          "base_uri": "https://localhost:8080/",
          "height": 799
        }
      },
      "source": [
        "print(\"Printing original first 5 images from svd based implementation..\")\n",
        "model.plot_res(original1)"
      ],
      "execution_count": 0,
      "outputs": [
        {
          "output_type": "stream",
          "text": [
            "Printing original first 5 images from svd based implementation..\n"
          ],
          "name": "stdout"
        },
        {
          "output_type": "display_data",
          "data": {
            "image/png": "[encoded data removed]",
            "text/plain": [
              "<Figure size 216x360 with 1 Axes>"
            ]
          },
          "metadata": {
            "tags": [],
            "needs_background": "light"
          }
        },
        {
          "output_type": "display_data",
          "data": {
            "image/png": "[encoded data removed]",
            "text/plain": [
              "<Figure size 216x360 with 1 Axes>"
            ]
          },
          "metadata": {
            "tags": [],
            "needs_background": "light"
          }
        },
        {
          "output_type": "display_data",
          "data": {
            "image/png": "[encoded data removed]",
            "text/plain": [
              "<Figure size 216x360 with 1 Axes>"
            ]
          },
          "metadata": {
            "tags": [],
            "needs_background": "light"
          }
        },
        {
          "output_type": "display_data",
          "data": {
            "image/png": "[encoded data removed]",
            "text/plain": [
              "<Figure size 216x360 with 1 Axes>"
            ]
          },
          "metadata": {
            "tags": [],
            "needs_background": "light"
          }
        },
        {
          "output_type": "display_data",
          "data": {
            "image/png": "[encoded data removed]",
            "text/plain": [
              "<Figure size 216x360 with 1 Axes>"
            ]
          },
          "metadata": {
            "tags": [],
            "needs_background": "light"
          }
        }
      ]
    },
    {
      "cell_type": "code",
      "metadata": {
        "id": "Mca4AtipW4Mk",
        "colab_type": "code",
        "outputId": "6a9e7e5d-6a52-4617-bc9f-15e942f02b94",
        "colab": {
          "base_uri": "https://localhost:8080/",
          "height": 799
        }
      },
      "source": [
        "print(\"Printing reconstructed first 5 images from svd based implementation..\")\n",
        "model.plot_res(reconst1)"
      ],
      "execution_count": 0,
      "outputs": [
        {
          "output_type": "stream",
          "text": [
            "Printing reconstructed first 5 images from svd based implementation..\n"
          ],
          "name": "stdout"
        },
        {
          "output_type": "display_data",
          "data": {
            "image/png": "[encoded data removed]",
            "text/plain": [
              "<Figure size 216x360 with 1 Axes>"
            ]
          },
          "metadata": {
            "tags": [],
            "needs_background": "light"
          }
        },
        {
          "output_type": "display_data",
          "data": {
            "image/png": "[encoded data removed]",
            "text/plain": [
              "<Figure size 216x360 with 1 Axes>"
            ]
          },
          "metadata": {
            "tags": [],
            "needs_background": "light"
          }
        },
        {
          "output_type": "display_data",
          "data": {
            "image/png": "[encoded data removed]",
            "text/plain": [
              "<Figure size 216x360 with 1 Axes>"
            ]
          },
          "metadata": {
            "tags": [],
            "needs_background": "light"
          }
        },
        {
          "output_type": "display_data",
          "data": {
            "image/png": "[encoded data removed]",
            "text/plain": [
              "<Figure size 216x360 with 1 Axes>"
            ]
          },
          "metadata": {
            "tags": [],
            "needs_background": "light"
          }
        },
        {
          "output_type": "display_data",
          "data": {
            "image/png": "[encoded data removed]",
            "text/plain": [
              "<Figure size 216x360 with 1 Axes>"
            ]
          },
          "metadata": {
            "tags": [],
            "needs_background": "light"
          }
        }
      ]
    },
    {
      "cell_type": "markdown",
      "metadata": {
        "id": "DRgixswE6cYq",
        "colab_type": "text"
      },
      "source": [
        "# 2.3 Plot the following to a grid of size 3 x 5\n",
        "for covariance based implementation"
      ]
    },
    {
      "cell_type": "markdown",
      "metadata": {
        "id": "2opWAKv5ZFAi",
        "colab_type": "text"
      },
      "source": [
        "**From Question 2.2**"
      ]
    },
    {
      "cell_type": "code",
      "metadata": {
        "id": "Eb_UDDBqFxYr",
        "colab_type": "code",
        "outputId": "d44acd8d-400f-4b82-a9a1-b651a378fb19",
        "colab": {
          "base_uri": "https://localhost:8080/",
          "height": 799
        }
      },
      "source": [
        "print(\"Printing original first 5 images from cov based implementation..\")\n",
        "model.plot_res(original2)"
      ],
      "execution_count": 0,
      "outputs": [
        {
          "output_type": "stream",
          "text": [
            "Printing original first 5 images from cov based implementation..\n"
          ],
          "name": "stdout"
        },
        {
          "output_type": "display_data",
          "data": {
            "image/png": "[encoded data removed]",
            "text/plain": [
              "<Figure size 216x360 with 1 Axes>"
            ]
          },
          "metadata": {
            "tags": [],
            "needs_background": "light"
          }
        },
        {
          "output_type": "display_data",
          "data": {
            "image/png": "[encoded data removed]",
            "text/plain": [
              "<Figure size 216x360 with 1 Axes>"
            ]
          },
          "metadata": {
            "tags": [],
            "needs_background": "light"
          }
        },
        {
          "output_type": "display_data",
          "data": {
            "image/png": "[encoded data removed]",
            "text/plain": [
              "<Figure size 216x360 with 1 Axes>"
            ]
          },
          "metadata": {
            "tags": [],
            "needs_background": "light"
          }
        },
        {
          "output_type": "display_data",
          "data": {
            "image/png": "[encoded data removed]",
            "text/plain": [
              "<Figure size 216x360 with 1 Axes>"
            ]
          },
          "metadata": {
            "tags": [],
            "needs_background": "light"
          }
        },
        {
          "output_type": "display_data",
          "data": {
            "image/png": "[encoded data removed]",
            "text/plain": [
              "<Figure size 216x360 with 1 Axes>"
            ]
          },
          "metadata": {
            "tags": [],
            "needs_background": "light"
          }
        }
      ]
    },
    {
      "cell_type": "code",
      "metadata": {
        "id": "0kjfJPyjieAJ",
        "colab_type": "code",
        "outputId": "bc726dc3-7303-426d-a9ad-288fd1e22fc1",
        "colab": {
          "base_uri": "https://localhost:8080/",
          "height": 799
        }
      },
      "source": [
        "print(\"Printing reconstructed first 5 images from cov based implementation..\")\n",
        "model.plot_res(reconst2)"
      ],
      "execution_count": 0,
      "outputs": [
        {
          "output_type": "stream",
          "text": [
            "Printing reconstructed first 5 images from cov based implementation..\n"
          ],
          "name": "stdout"
        },
        {
          "output_type": "display_data",
          "data": {
            "image/png": "[encoded data removed]",
            "text/plain": [
              "<Figure size 216x360 with 1 Axes>"
            ]
          },
          "metadata": {
            "tags": [],
            "needs_background": "light"
          }
        },
        {
          "output_type": "display_data",
          "data": {
            "image/png": "[encoded data removed]",
            "text/plain": [
              "<Figure size 216x360 with 1 Axes>"
            ]
          },
          "metadata": {
            "tags": [],
            "needs_background": "light"
          }
        },
        {
          "output_type": "display_data",
          "data": {
            "image/png": "[encoded data removed]",
            "text/plain": [
              "<Figure size 216x360 with 1 Axes>"
            ]
          },
          "metadata": {
            "tags": [],
            "needs_background": "light"
          }
        },
        {
          "output_type": "display_data",
          "data": {
            "image/png": "[encoded data removed]",
            "text/plain": [
              "<Figure size 216x360 with 1 Axes>"
            ]
          },
          "metadata": {
            "tags": [],
            "needs_background": "light"
          }
        },
        {
          "output_type": "display_data",
          "data": {
            "image/png": "[encoded data removed]",
            "text/plain": [
              "<Figure size 216x360 with 1 Axes>"
            ]
          },
          "metadata": {
            "tags": [],
            "needs_background": "light"
          }
        }
      ]
    }
  ]
}